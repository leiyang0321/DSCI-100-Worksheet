{
 "cells": [
  {
   "cell_type": "markdown",
   "metadata": {
    "deletable": false,
    "editable": false,
    "nbgrader": {
     "cell_type": "markdown",
     "checksum": "60f5ab8db58a38b58bb014b36088bc73",
     "grade": false,
     "grade_id": "cell-a3e4ac7f29e7ee20",
     "locked": true,
     "schema_version": 3,
     "solution": false,
     "task": false
    }
   },
   "source": [
    "# Worksheet 3: Cleaning and Wrangling Data\n",
    "\n",
    "\n",
    "### Lecture and Tutorial Learning Goals:\n",
    "\n",
    "After completing this week's lecture and tutorial work, you will be able to:\n",
    "\n",
    "* distinguish vectors and data frames in R, and how they relate to each other\n",
    "* define the term \"tidy data\"\n",
    "* discuss the advantages and disadvantages of storing data in a tidy data format\n",
    "* recall and use the following tidyverse functions and operators for their intended data wrangling tasks:\n",
    "    - `select`\n",
    "    - `filter`\n",
    "    - `%>%`\n",
    "    - `map`\n",
    "    - `mutate`\n",
    "    - `summarize`\n",
    "    - `group_by`\n",
    "    - `pivot_longer`\n",
    "    - `separate`\n",
    "    - `%in%`"
   ]
  },
  {
   "cell_type": "code",
   "execution_count": 56,
   "metadata": {
    "deletable": false,
    "editable": false,
    "nbgrader": {
     "cell_type": "code",
     "checksum": "207bf88059639d30a09e0e5cd0558c48",
     "grade": false,
     "grade_id": "cell-9ad6a603a70e118a",
     "locked": true,
     "schema_version": 3,
     "solution": false,
     "task": false
    }
   },
   "outputs": [],
   "source": [
    "### Run this cell before continuing. \n",
    "library(tidyverse)\n",
    "library(repr)\n",
    "source(\"tests.R\")\n",
    "source(\"cleanup.R\")\n",
    "options(repr.matrix.max.rows = 6)"
   ]
  },
  {
   "cell_type": "markdown",
   "metadata": {
    "deletable": false,
    "editable": false,
    "nbgrader": {
     "cell_type": "markdown",
     "checksum": "32ea0009671c5410cda436e494f880bb",
     "grade": false,
     "grade_id": "cell-0d59d96414adc1b8",
     "locked": true,
     "schema_version": 3,
     "solution": false,
     "task": false
    }
   },
   "source": [
    "**Question 0.0** Multiple Choice: \n",
    "<br> {points: 1}\n",
    "\n",
    "Which statement below is incorrect about vectors and data frames in R?\n",
    "\n",
    "A. the columns of data frames are vectors\n",
    "\n",
    "B. data frames can have columns of different types (e.g., a column of numeric data, and a column of character data)\n",
    "\n",
    "C. vectors can have elements of different types (e.g., element one can be numeric, and element 2 can be a character)\n",
    "\n",
    "D. data frames are a special kind of list\n",
    "\n",
    "\n",
    "*Assign your answer to an object called `answer0.0`. Make sure your answer is an uppercase letter and is surrounded by quotation marks (e.g. `\"F\"`).*"
   ]
  },
  {
   "cell_type": "code",
   "execution_count": 57,
   "metadata": {
    "deletable": false,
    "nbgrader": {
     "cell_type": "code",
     "checksum": "73c7403b671a429a0e2414467fba10ec",
     "grade": false,
     "grade_id": "cell-cffd5df5830ecafd",
     "locked": false,
     "schema_version": 3,
     "solution": true,
     "task": false
    }
   },
   "outputs": [],
   "source": [
    "# Replace the fail() with your answer. \n",
    "\n",
    "answer0.0 <- \"C\""
   ]
  },
  {
   "cell_type": "code",
   "execution_count": 58,
   "metadata": {
    "deletable": false,
    "editable": false,
    "nbgrader": {
     "cell_type": "code",
     "checksum": "0314d2ff90143157acd951c48a4f6f4a",
     "grade": true,
     "grade_id": "cell-0bea903e0f37148c",
     "locked": true,
     "points": 1,
     "schema_version": 3,
     "solution": false,
     "task": false
    }
   },
   "outputs": [
    {
     "name": "stdout",
     "output_type": "stream",
     "text": [
      "[1] \"Success!\"\n"
     ]
    }
   ],
   "source": [
    "test_0.0()"
   ]
  },
  {
   "cell_type": "markdown",
   "metadata": {
    "deletable": false,
    "editable": false,
    "nbgrader": {
     "cell_type": "markdown",
     "checksum": "aa15ea35e2065a6be1a7393c9bd15d7b",
     "grade": false,
     "grade_id": "cell-77d758b913b7fb7d",
     "locked": true,
     "schema_version": 3,
     "solution": false
    }
   },
   "source": [
    "**Question 0.1** Multiple Choice: \n",
    "<br> {points: 1}\n",
    "\n",
    "Which of the following does **_not_** characterize a tidy dataset?\n",
    "\n",
    "A. each row is a single observation\n",
    "\n",
    "B. each value should not be in a single cell\n",
    "\n",
    "C. each column is a single variable\n",
    "\n",
    "D. each value is a single cell\n",
    "\n",
    "\n",
    "*Assign your answer to an object called `answer0.1`. Make sure your answer is an uppercase letter and is surrounded by quotation marks (e.g. `\"F\"`).*"
   ]
  },
  {
   "cell_type": "code",
   "execution_count": 59,
   "metadata": {
    "deletable": false,
    "nbgrader": {
     "cell_type": "code",
     "checksum": "fdad5116018a86871d0cbfd227b1bcdf",
     "grade": false,
     "grade_id": "cell-875bec2db6814c4e",
     "locked": false,
     "schema_version": 3,
     "solution": true
    }
   },
   "outputs": [],
   "source": [
    "# Replace the fail() with your answer. \n",
    "\n",
    "answer0.1 <- \"B\""
   ]
  },
  {
   "cell_type": "code",
   "execution_count": 60,
   "metadata": {
    "deletable": false,
    "editable": false,
    "nbgrader": {
     "cell_type": "code",
     "checksum": "a254df2e51db780c622dad1ac7a6de30",
     "grade": true,
     "grade_id": "cell-7bc5804c8cd5900d",
     "locked": true,
     "points": 1,
     "schema_version": 3,
     "solution": false
    }
   },
   "outputs": [
    {
     "name": "stdout",
     "output_type": "stream",
     "text": [
      "[1] \"Success!\"\n"
     ]
    }
   ],
   "source": [
    "test_0.1()"
   ]
  },
  {
   "cell_type": "markdown",
   "metadata": {
    "deletable": false,
    "editable": false,
    "nbgrader": {
     "cell_type": "markdown",
     "checksum": "b9e60ff519c442b408227bba4d5f294e",
     "grade": false,
     "grade_id": "cell-122d814c0cfa7294",
     "locked": true,
     "schema_version": 3,
     "solution": false
    }
   },
   "source": [
    "**Question 0.2** Multiple Choice: \n",
    "<br> {points: 1}\n",
    "\n",
    "For which scenario would using one of the `group_by()` + `summarize()` be appropriate?\n",
    "\n",
    "A. To apply the same function to every row. \n",
    "\n",
    "B. To apply the same function to every column.\n",
    "\n",
    "C. To apply the same function to groups of rows. \n",
    "\n",
    "D. To apply the same function to groups of columns.\n",
    "\n",
    "*Assign your answer to an object called `answer0.2`.  Make sure your answer is an uppercase letter and is surrounded by quotation marks (e.g. `\"F\"`).*"
   ]
  },
  {
   "cell_type": "code",
   "execution_count": 61,
   "metadata": {
    "deletable": false,
    "nbgrader": {
     "cell_type": "code",
     "checksum": "e143827671391169e0a27129d6f3246c",
     "grade": false,
     "grade_id": "cell-85fb659000512dcd",
     "locked": false,
     "schema_version": 3,
     "solution": true
    }
   },
   "outputs": [],
   "source": [
    "# Replace the fail() with your answer. \n",
    "\n",
    "answer0.2 <- \"C\""
   ]
  },
  {
   "cell_type": "code",
   "execution_count": 62,
   "metadata": {
    "deletable": false,
    "editable": false,
    "nbgrader": {
     "cell_type": "code",
     "checksum": "337dd1f69cce775e0bcbfd01ee75c50b",
     "grade": true,
     "grade_id": "cell-386ada4b41ae9cae",
     "locked": true,
     "points": 1,
     "schema_version": 3,
     "solution": false
    }
   },
   "outputs": [
    {
     "name": "stdout",
     "output_type": "stream",
     "text": [
      "[1] \"Success!\"\n"
     ]
    }
   ],
   "source": [
    "test_0.2()"
   ]
  },
  {
   "cell_type": "markdown",
   "metadata": {
    "deletable": false,
    "editable": false,
    "nbgrader": {
     "cell_type": "markdown",
     "checksum": "2bb97b950e612b69f314882d5b30be09",
     "grade": false,
     "grade_id": "cell-a181b4e3f1a49cf7",
     "locked": true,
     "schema_version": 3,
     "solution": false
    }
   },
   "source": [
    "**Question 0.3** Multiple Choice: \n",
    "<br> {points: 1}\n",
    "\n",
    "For which scenario would using one of the `purrr` `map_*` functions be appropriate?\n",
    "\n",
    "A. To apply the same function to groups of rows.\n",
    "\n",
    "B. To apply the same function to every column.\n",
    "\n",
    "C. To apply the same function to groups of columns. \n",
    "\n",
    "D. All of the above.\n",
    "\n",
    "*Assign your answer to an object called `answer0.3`. Make sure your answer is an uppercase letter and is surrounded by quotation marks (e.g. `\"F\"`).**"
   ]
  },
  {
   "cell_type": "code",
   "execution_count": 63,
   "metadata": {
    "deletable": false,
    "nbgrader": {
     "cell_type": "code",
     "checksum": "4adf7048c61347f737d36efd15fbff2b",
     "grade": false,
     "grade_id": "cell-32255c3e7f7a4e6c",
     "locked": false,
     "schema_version": 3,
     "solution": true
    }
   },
   "outputs": [],
   "source": [
    "# Replace the fail() with your answer. \n",
    "\n",
    "answer0.3 <- \"B\""
   ]
  },
  {
   "cell_type": "code",
   "execution_count": 64,
   "metadata": {
    "deletable": false,
    "editable": false,
    "nbgrader": {
     "cell_type": "code",
     "checksum": "2bd034b561fd53812e487104e3f31b0d",
     "grade": true,
     "grade_id": "cell-efb75338147fc001",
     "locked": true,
     "points": 1,
     "schema_version": 3,
     "solution": false
    }
   },
   "outputs": [
    {
     "name": "stdout",
     "output_type": "stream",
     "text": [
      "[1] \"Success!\"\n"
     ]
    }
   ],
   "source": [
    "test_0.3()"
   ]
  },
  {
   "cell_type": "markdown",
   "metadata": {
    "deletable": false,
    "editable": false,
    "nbgrader": {
     "cell_type": "markdown",
     "checksum": "8ce794daf58240c87dc3816f2d6868f2",
     "grade": false,
     "grade_id": "cell-fa871a669adbf899",
     "locked": true,
     "schema_version": 3,
     "solution": false,
     "task": false
    }
   },
   "source": [
    "## 1. Assessing avocado prices to inform restaurant menu planning\n",
    "\n",
    "It is a well known that millennials LOVE avocado toast (joking...well mostly 😉), and so many restaurants will offer menu items that centre around this delicious food! Like many food items, avocado prices fluctuate. So a restaurant who wants to maximize profits on avocado-containing dishes might ask if there are times when the price of avocados are less expensive to purchase? If such times exist, this is when the restaurant should put avocado-containing dishes on the menu to maximize their profits for those dishes. \n",
    "\n",
    "<img align=\"left\" src=\"https://www.averiecooks.com/wp-content/uploads/2017/07/egghole-2.jpg\" width=\"150\" />"
   ]
  },
  {
   "cell_type": "markdown",
   "metadata": {
    "deletable": false,
    "editable": false,
    "nbgrader": {
     "cell_type": "markdown",
     "checksum": "6f879185b3739704219c1e2c00a8c06c",
     "grade": false,
     "grade_id": "cell-f911d0be7d9dc7f7",
     "locked": true,
     "schema_version": 3,
     "solution": false,
     "task": false
    }
   },
   "source": [
    "*Source: https://www.averiecooks.com/egg-hole-avocado-toast/*\n",
    "\n",
    "To answer this question we will analyze a data set of avocado sales from multiple US markets. This data was downloaded from the [Hass Avocado Board website](http://www.hassavocadoboard.com/) in May of 2018 & compiled into a single CSV. Each row in the data set contains weekly sales data for a region. The data set spans the year 2015-2018.\n",
    "\n",
    "Some relevant columns in the dataset:\n",
    "\n",
    "- `Date` - The date in year-month-day format\n",
    "- `average_price` - The average price of a single avocado\n",
    "- `type` - conventional or organic\n",
    "- `yr` - The year\n",
    "- `region` - The city or region of the observation\n",
    "- `small_hass_volume` in pounds (lbs)\t\n",
    "- `large_hass_volume` in pounds (lbs)\t\t\n",
    "- `extra_l_hass_volume`\tin pounds (lbs)\t\n",
    "- `wk` - integer number for the calendar week in the year (e.g., first week of January is 1, and last week of December is 52).\n",
    "\n",
    "To answer our question of whether there are times in the year when avocados are typically less expensive (and thus we can make more profitable menu items with them at a restaurant) we will want to create a scatter plot of `average_price` (y-axis) versus `Date` (x-axis)."
   ]
  },
  {
   "cell_type": "markdown",
   "metadata": {
    "deletable": false,
    "editable": false,
    "nbgrader": {
     "cell_type": "markdown",
     "checksum": "b70f48237dcfff91c82d6e063849d737",
     "grade": false,
     "grade_id": "cell-acb1e485a76f043b",
     "locked": true,
     "schema_version": 3,
     "solution": false
    }
   },
   "source": [
    "**Question 1.1** Multiple Choice:\n",
    "<br> {points: 1}\n",
    "\n",
    "Which of the following is not included in the `csv` file?\n",
    "\n",
    "A. Average price of a single avocado.\n",
    "\n",
    "B. The farming practice (production with/without the use of chemicals). \n",
    "\n",
    "C. Average price of a bag of avocados.\n",
    "\n",
    "D. All options are included in the data set.\n",
    "\n",
    "*Assign your answer to an object called `answer1.1`. Make sure your answer is an uppercase letter and is surrounded by quotation marks (e.g. `\"F\"`).** "
   ]
  },
  {
   "cell_type": "code",
   "execution_count": 65,
   "metadata": {
    "deletable": false,
    "nbgrader": {
     "cell_type": "code",
     "checksum": "82bc54b1241b3e44d1d0e6dd19e6258b",
     "grade": false,
     "grade_id": "cell-39161480e71d9b43",
     "locked": false,
     "schema_version": 3,
     "solution": true
    }
   },
   "outputs": [],
   "source": [
    "# Replace the fail() with your answer. \n",
    "\n",
    "answer1.1 <- \"C\""
   ]
  },
  {
   "cell_type": "code",
   "execution_count": 66,
   "metadata": {
    "deletable": false,
    "editable": false,
    "nbgrader": {
     "cell_type": "code",
     "checksum": "cfc95fa0c256fc1f9614d5a60d4162de",
     "grade": true,
     "grade_id": "cell-1c278f180e20468f",
     "locked": true,
     "points": 1,
     "schema_version": 3,
     "solution": false
    }
   },
   "outputs": [
    {
     "name": "stdout",
     "output_type": "stream",
     "text": [
      "[1] \"Success!\"\n"
     ]
    }
   ],
   "source": [
    "test_1.1()"
   ]
  },
  {
   "cell_type": "markdown",
   "metadata": {
    "deletable": false,
    "editable": false,
    "nbgrader": {
     "cell_type": "markdown",
     "checksum": "c81f6ac7523cc54fa7354c0bf3038fdb",
     "grade": false,
     "grade_id": "cell-56154f20b1c3af0b",
     "locked": true,
     "schema_version": 3,
     "solution": false
    }
   },
   "source": [
    "**Question 1.2** Multiple Choice:\n",
    "<br> {points: 1}\n",
    "\n",
    "The rows in the data frame represent:\n",
    "\n",
    "A. daily avocado sales data for a region\n",
    "\n",
    "B. weekly avocado sales data for a region\n",
    "\n",
    "C. bi-weekly avocado sales data for a region\n",
    "\n",
    "D. yearly avocado sales data for a region\n",
    "\n",
    "*Assign your answer to an object called `answer1.2`. Make sure your answer is an uppercase letter and is surrounded by quotation marks (e.g. `\"F\"`).*"
   ]
  },
  {
   "cell_type": "code",
   "execution_count": 67,
   "metadata": {
    "deletable": false,
    "nbgrader": {
     "cell_type": "code",
     "checksum": "655ad083ef09a5ba2923d3a9ba268c32",
     "grade": false,
     "grade_id": "cell-1d614695a9d4a4f9",
     "locked": false,
     "schema_version": 3,
     "solution": true
    }
   },
   "outputs": [],
   "source": [
    "# Replace the fail() with your answer. \n",
    "\n",
    "answer1.2 <- \"B\""
   ]
  },
  {
   "cell_type": "code",
   "execution_count": 68,
   "metadata": {
    "deletable": false,
    "editable": false,
    "nbgrader": {
     "cell_type": "code",
     "checksum": "b0d60f3d88b72cb86dc789ded1dfb09d",
     "grade": true,
     "grade_id": "cell-6adfe52857aa9333",
     "locked": true,
     "points": 1,
     "schema_version": 3,
     "solution": false
    }
   },
   "outputs": [
    {
     "name": "stdout",
     "output_type": "stream",
     "text": [
      "[1] \"Success!\"\n"
     ]
    }
   ],
   "source": [
    "test_1.2()"
   ]
  },
  {
   "cell_type": "markdown",
   "metadata": {
    "deletable": false,
    "editable": false,
    "nbgrader": {
     "cell_type": "markdown",
     "checksum": "1f6891412bdb99ff7256f7043f4d7bea",
     "grade": false,
     "grade_id": "cell-7e263f37387da63d",
     "locked": true,
     "schema_version": 3,
     "solution": false
    }
   },
   "source": [
    "**Question 1.3** \n",
    "<br> {points: 1}\n",
    "\n",
    "The first step to plotting total volume against average price is to read the file `avocado_prices.csv` using the shortest relative path. The data file was given to you along with this worksheet, but you will have to look to see where it is in the `worksheet_03` directory to correctly load it. When you do this, you should also preview the file to help you choose an appropriate `read_*` function to read the data.\n",
    "\n",
    "*Assign your answer to an object called `avocado`.* "
   ]
  },
  {
   "cell_type": "code",
   "execution_count": 69,
   "metadata": {
    "deletable": false,
    "nbgrader": {
     "cell_type": "code",
     "checksum": "aa4426491b18313dfae5ed796740b61a",
     "grade": false,
     "grade_id": "cell-434656ab0b99d8bd",
     "locked": false,
     "schema_version": 3,
     "solution": true
    }
   },
   "outputs": [
    {
     "name": "stderr",
     "output_type": "stream",
     "text": [
      "Parsed with column specification:\n",
      "cols(\n",
      "  Date = \u001b[34mcol_date(format = \"\")\u001b[39m,\n",
      "  average_price = \u001b[32mcol_double()\u001b[39m,\n",
      "  small_hass_volume = \u001b[32mcol_double()\u001b[39m,\n",
      "  large_hass_volume = \u001b[32mcol_double()\u001b[39m,\n",
      "  extra_l_hass_volume = \u001b[32mcol_double()\u001b[39m,\n",
      "  type = \u001b[31mcol_character()\u001b[39m,\n",
      "  yr = \u001b[32mcol_double()\u001b[39m,\n",
      "  region = \u001b[31mcol_character()\u001b[39m,\n",
      "  wk = \u001b[32mcol_double()\u001b[39m\n",
      ")\n",
      "\n"
     ]
    },
    {
     "data": {
      "text/html": [
       "<table>\n",
       "<caption>A spec_tbl_df: 17911 × 9</caption>\n",
       "<thead>\n",
       "\t<tr><th scope=col>Date</th><th scope=col>average_price</th><th scope=col>small_hass_volume</th><th scope=col>large_hass_volume</th><th scope=col>extra_l_hass_volume</th><th scope=col>type</th><th scope=col>yr</th><th scope=col>region</th><th scope=col>wk</th></tr>\n",
       "\t<tr><th scope=col>&lt;date&gt;</th><th scope=col>&lt;dbl&gt;</th><th scope=col>&lt;dbl&gt;</th><th scope=col>&lt;dbl&gt;</th><th scope=col>&lt;dbl&gt;</th><th scope=col>&lt;chr&gt;</th><th scope=col>&lt;dbl&gt;</th><th scope=col>&lt;chr&gt;</th><th scope=col>&lt;dbl&gt;</th></tr>\n",
       "</thead>\n",
       "<tbody>\n",
       "\t<tr><td>2015-12-27</td><td>1.33</td><td>1036.74</td><td> 54454.85</td><td> 48.16</td><td>conventional</td><td>2015</td><td>Albany</td><td>52</td></tr>\n",
       "\t<tr><td>2015-12-20</td><td>1.35</td><td> 674.28</td><td> 44638.81</td><td> 58.33</td><td>conventional</td><td>2015</td><td>Albany</td><td>51</td></tr>\n",
       "\t<tr><td>2015-12-13</td><td>0.93</td><td> 794.70</td><td>109149.67</td><td>130.50</td><td>conventional</td><td>2015</td><td>Albany</td><td>50</td></tr>\n",
       "\t<tr><td>⋮</td><td>⋮</td><td>⋮</td><td>⋮</td><td>⋮</td><td>⋮</td><td>⋮</td><td>⋮</td><td>⋮</td></tr>\n",
       "\t<tr><td>2018-01-21</td><td>1.87</td><td>1191.92</td><td>2452.79</td><td>727.94</td><td>organic</td><td>2018</td><td>WestTexNewMexico</td><td>3</td></tr>\n",
       "\t<tr><td>2018-01-14</td><td>1.93</td><td>1527.63</td><td>2981.04</td><td>727.01</td><td>organic</td><td>2018</td><td>WestTexNewMexico</td><td>2</td></tr>\n",
       "\t<tr><td>2018-01-07</td><td>1.62</td><td>2894.77</td><td>2356.13</td><td>224.53</td><td>organic</td><td>2018</td><td>WestTexNewMexico</td><td>1</td></tr>\n",
       "</tbody>\n",
       "</table>\n"
      ],
      "text/latex": [
       "A spec\\_tbl\\_df: 17911 × 9\n",
       "\\begin{tabular}{lllllllll}\n",
       " Date & average\\_price & small\\_hass\\_volume & large\\_hass\\_volume & extra\\_l\\_hass\\_volume & type & yr & region & wk\\\\\n",
       " <date> & <dbl> & <dbl> & <dbl> & <dbl> & <chr> & <dbl> & <chr> & <dbl>\\\\\n",
       "\\hline\n",
       "\t 2015-12-27 & 1.33 & 1036.74 &  54454.85 &  48.16 & conventional & 2015 & Albany & 52\\\\\n",
       "\t 2015-12-20 & 1.35 &  674.28 &  44638.81 &  58.33 & conventional & 2015 & Albany & 51\\\\\n",
       "\t 2015-12-13 & 0.93 &  794.70 & 109149.67 & 130.50 & conventional & 2015 & Albany & 50\\\\\n",
       "\t ⋮ & ⋮ & ⋮ & ⋮ & ⋮ & ⋮ & ⋮ & ⋮ & ⋮\\\\\n",
       "\t 2018-01-21 & 1.87 & 1191.92 & 2452.79 & 727.94 & organic & 2018 & WestTexNewMexico & 3\\\\\n",
       "\t 2018-01-14 & 1.93 & 1527.63 & 2981.04 & 727.01 & organic & 2018 & WestTexNewMexico & 2\\\\\n",
       "\t 2018-01-07 & 1.62 & 2894.77 & 2356.13 & 224.53 & organic & 2018 & WestTexNewMexico & 1\\\\\n",
       "\\end{tabular}\n"
      ],
      "text/markdown": [
       "\n",
       "A spec_tbl_df: 17911 × 9\n",
       "\n",
       "| Date &lt;date&gt; | average_price &lt;dbl&gt; | small_hass_volume &lt;dbl&gt; | large_hass_volume &lt;dbl&gt; | extra_l_hass_volume &lt;dbl&gt; | type &lt;chr&gt; | yr &lt;dbl&gt; | region &lt;chr&gt; | wk &lt;dbl&gt; |\n",
       "|---|---|---|---|---|---|---|---|---|\n",
       "| 2015-12-27 | 1.33 | 1036.74 |  54454.85 |  48.16 | conventional | 2015 | Albany | 52 |\n",
       "| 2015-12-20 | 1.35 |  674.28 |  44638.81 |  58.33 | conventional | 2015 | Albany | 51 |\n",
       "| 2015-12-13 | 0.93 |  794.70 | 109149.67 | 130.50 | conventional | 2015 | Albany | 50 |\n",
       "| ⋮ | ⋮ | ⋮ | ⋮ | ⋮ | ⋮ | ⋮ | ⋮ | ⋮ |\n",
       "| 2018-01-21 | 1.87 | 1191.92 | 2452.79 | 727.94 | organic | 2018 | WestTexNewMexico | 3 |\n",
       "| 2018-01-14 | 1.93 | 1527.63 | 2981.04 | 727.01 | organic | 2018 | WestTexNewMexico | 2 |\n",
       "| 2018-01-07 | 1.62 | 2894.77 | 2356.13 | 224.53 | organic | 2018 | WestTexNewMexico | 1 |\n",
       "\n"
      ],
      "text/plain": [
       "      Date       average_price small_hass_volume large_hass_volume\n",
       "1     2015-12-27 1.33          1036.74            54454.85        \n",
       "2     2015-12-20 1.35           674.28            44638.81        \n",
       "3     2015-12-13 0.93           794.70           109149.67        \n",
       "⋮     ⋮          ⋮             ⋮                 ⋮                \n",
       "17909 2018-01-21 1.87          1191.92           2452.79          \n",
       "17910 2018-01-14 1.93          1527.63           2981.04          \n",
       "17911 2018-01-07 1.62          2894.77           2356.13          \n",
       "      extra_l_hass_volume type         yr   region           wk\n",
       "1      48.16              conventional 2015 Albany           52\n",
       "2      58.33              conventional 2015 Albany           51\n",
       "3     130.50              conventional 2015 Albany           50\n",
       "⋮     ⋮                   ⋮            ⋮    ⋮                ⋮ \n",
       "17909 727.94              organic      2018 WestTexNewMexico 3 \n",
       "17910 727.01              organic      2018 WestTexNewMexico 2 \n",
       "17911 224.53              organic      2018 WestTexNewMexico 1 "
      ]
     },
     "metadata": {},
     "output_type": "display_data"
    }
   ],
   "source": [
    "#... <- ...(\"...\")\n",
    "\n",
    "avocado <- read_csv(\"data/avocado_prices.csv\")\n",
    "avocado "
   ]
  },
  {
   "cell_type": "code",
   "execution_count": 70,
   "metadata": {
    "deletable": false,
    "editable": false,
    "nbgrader": {
     "cell_type": "code",
     "checksum": "289eb66f735ebdd930c5e5f3a065553e",
     "grade": true,
     "grade_id": "cell-a968fbd8b038ba4b",
     "locked": true,
     "points": 1,
     "schema_version": 3,
     "solution": false
    }
   },
   "outputs": [
    {
     "name": "stdout",
     "output_type": "stream",
     "text": [
      "[1] \"Success!\"\n"
     ]
    }
   ],
   "source": [
    "test_1.3()"
   ]
  },
  {
   "cell_type": "markdown",
   "metadata": {
    "deletable": false,
    "editable": false,
    "nbgrader": {
     "cell_type": "markdown",
     "checksum": "72d9feec9842c0518744b2fd5de9e35f",
     "grade": false,
     "grade_id": "cell-8813edd076a1a198",
     "locked": true,
     "schema_version": 3,
     "solution": false
    }
   },
   "source": [
    "**Question 1.4** Multiple Choice:\n",
    "<br> {points: 1}\n",
    "\n",
    "Why are the 2nd to 5th columns `col_double` instead of `col_integer`?\n",
    "\n",
    "A. They aren't \"real\" numbers. \n",
    "\n",
    "B. They contain decimals. \n",
    "\n",
    "C. They are numbers created using text/letters. \n",
    "\n",
    "D. They are `col_integer`... \n",
    "\n",
    "*Assign your answer to an object called `answer1.4`. Make sure your answer is an uppercase letter and is surrounded by quotation marks (e.g. `\"F\"`).*"
   ]
  },
  {
   "cell_type": "code",
   "execution_count": 71,
   "metadata": {
    "deletable": false,
    "nbgrader": {
     "cell_type": "code",
     "checksum": "3bc7e3d54005917c40a0ed28dfb37a10",
     "grade": false,
     "grade_id": "cell-7b981c1250a92624",
     "locked": false,
     "schema_version": 3,
     "solution": true
    }
   },
   "outputs": [],
   "source": [
    "# Make sure the correct answer is an uppercase letter. \n",
    "# Surround your answer with quotation marks.\n",
    "# Replace the fail() with your answer. \n",
    "\n",
    "answer1.4 <- \"B\""
   ]
  },
  {
   "cell_type": "code",
   "execution_count": 72,
   "metadata": {
    "deletable": false,
    "editable": false,
    "nbgrader": {
     "cell_type": "code",
     "checksum": "ab0a8c96ef5e1e95118e961390a2fe39",
     "grade": true,
     "grade_id": "cell-962d5be15864a23e",
     "locked": true,
     "points": 1,
     "schema_version": 3,
     "solution": false
    }
   },
   "outputs": [
    {
     "name": "stdout",
     "output_type": "stream",
     "text": [
      "[1] \"Success!\"\n"
     ]
    }
   ],
   "source": [
    "test_1.4()"
   ]
  },
  {
   "cell_type": "markdown",
   "metadata": {
    "deletable": false,
    "editable": false,
    "nbgrader": {
     "cell_type": "markdown",
     "checksum": "c360386c116529c86077600199a66f79",
     "grade": false,
     "grade_id": "cell-31ff875d27e26cf4",
     "locked": true,
     "schema_version": 3,
     "solution": false,
     "task": false
    }
   },
   "source": [
    "Before we get started doing our analysis, let's learn about the pipe operator, `%>%`, as it can be very helpful when doing data analysis in R!\n",
    "\n",
    "### Pipe Operators: `%>%`\n",
    "Pipe operators allow you to chain together different functions - it takes the output of one statement and makes it the input of the next statement. Having a chain of processing functions is known as a *pipeline*. \n",
    "\n",
    "If we wanted to subset the avocado data to obtain just the average prices for organic avocados, we would need to first filter the `type` column using the function: `filter()` for the rows where the type is organic. Then we would need to use the `select()` function to get just the average price column.\n",
    "\n",
    "Below we illustrate how to do this using the pipe operator, `%>%`, instead of creating an intermediate object as we have in past worksheets: \n",
    "\n",
    "> *Note: the indentation on the second line of the pipeline is not required, but added for readability.*"
   ]
  },
  {
   "cell_type": "code",
   "execution_count": 73,
   "metadata": {},
   "outputs": [
    {
     "data": {
      "text/html": [
       "<table>\n",
       "<caption>A tibble: 8954 × 1</caption>\n",
       "<thead>\n",
       "\t<tr><th scope=col>average_price</th></tr>\n",
       "\t<tr><th scope=col>&lt;dbl&gt;</th></tr>\n",
       "</thead>\n",
       "<tbody>\n",
       "\t<tr><td>1.83</td></tr>\n",
       "\t<tr><td>1.89</td></tr>\n",
       "\t<tr><td>1.85</td></tr>\n",
       "\t<tr><td>⋮</td></tr>\n",
       "\t<tr><td>1.87</td></tr>\n",
       "\t<tr><td>1.93</td></tr>\n",
       "\t<tr><td>1.62</td></tr>\n",
       "</tbody>\n",
       "</table>\n"
      ],
      "text/latex": [
       "A tibble: 8954 × 1\n",
       "\\begin{tabular}{l}\n",
       " average\\_price\\\\\n",
       " <dbl>\\\\\n",
       "\\hline\n",
       "\t 1.83\\\\\n",
       "\t 1.89\\\\\n",
       "\t 1.85\\\\\n",
       "\t ⋮\\\\\n",
       "\t 1.87\\\\\n",
       "\t 1.93\\\\\n",
       "\t 1.62\\\\\n",
       "\\end{tabular}\n"
      ],
      "text/markdown": [
       "\n",
       "A tibble: 8954 × 1\n",
       "\n",
       "| average_price &lt;dbl&gt; |\n",
       "|---|\n",
       "| 1.83 |\n",
       "| 1.89 |\n",
       "| 1.85 |\n",
       "| ⋮ |\n",
       "| 1.87 |\n",
       "| 1.93 |\n",
       "| 1.62 |\n",
       "\n"
      ],
      "text/plain": [
       "     average_price\n",
       "1    1.83         \n",
       "2    1.89         \n",
       "3    1.85         \n",
       "⋮    ⋮            \n",
       "8952 1.87         \n",
       "8953 1.93         \n",
       "8954 1.62         "
      ]
     },
     "metadata": {},
     "output_type": "display_data"
    }
   ],
   "source": [
    "# run this cell\n",
    "filter(avocado, type == \"organic\") %>% \n",
    "    select(average_price)"
   ]
  },
  {
   "cell_type": "markdown",
   "metadata": {
    "deletable": false,
    "editable": false,
    "nbgrader": {
     "cell_type": "markdown",
     "checksum": "c09b63ea9d49b015be709c37a8bfba71",
     "grade": false,
     "grade_id": "cell-c0f8ea7d3833df9f",
     "locked": true,
     "schema_version": 3,
     "solution": false,
     "task": false
    }
   },
   "source": [
    "We can even start off a pipeline by passing the data frame into the first function. This is convenient and aids in readability. You will see this being used often in this course going forward. Below we show an example of this doing the same task we just completed above (subsetting the average price data for organic avocados)."
   ]
  },
  {
   "cell_type": "code",
   "execution_count": 74,
   "metadata": {},
   "outputs": [
    {
     "data": {
      "text/html": [
       "<table>\n",
       "<caption>A tibble: 8954 × 1</caption>\n",
       "<thead>\n",
       "\t<tr><th scope=col>average_price</th></tr>\n",
       "\t<tr><th scope=col>&lt;dbl&gt;</th></tr>\n",
       "</thead>\n",
       "<tbody>\n",
       "\t<tr><td>1.83</td></tr>\n",
       "\t<tr><td>1.89</td></tr>\n",
       "\t<tr><td>1.85</td></tr>\n",
       "\t<tr><td>⋮</td></tr>\n",
       "\t<tr><td>1.87</td></tr>\n",
       "\t<tr><td>1.93</td></tr>\n",
       "\t<tr><td>1.62</td></tr>\n",
       "</tbody>\n",
       "</table>\n"
      ],
      "text/latex": [
       "A tibble: 8954 × 1\n",
       "\\begin{tabular}{l}\n",
       " average\\_price\\\\\n",
       " <dbl>\\\\\n",
       "\\hline\n",
       "\t 1.83\\\\\n",
       "\t 1.89\\\\\n",
       "\t 1.85\\\\\n",
       "\t ⋮\\\\\n",
       "\t 1.87\\\\\n",
       "\t 1.93\\\\\n",
       "\t 1.62\\\\\n",
       "\\end{tabular}\n"
      ],
      "text/markdown": [
       "\n",
       "A tibble: 8954 × 1\n",
       "\n",
       "| average_price &lt;dbl&gt; |\n",
       "|---|\n",
       "| 1.83 |\n",
       "| 1.89 |\n",
       "| 1.85 |\n",
       "| ⋮ |\n",
       "| 1.87 |\n",
       "| 1.93 |\n",
       "| 1.62 |\n",
       "\n"
      ],
      "text/plain": [
       "     average_price\n",
       "1    1.83         \n",
       "2    1.89         \n",
       "3    1.85         \n",
       "⋮    ⋮            \n",
       "8952 1.87         \n",
       "8953 1.93         \n",
       "8954 1.62         "
      ]
     },
     "metadata": {},
     "output_type": "display_data"
    }
   ],
   "source": [
    "avocado %>% \n",
    "    filter(type == \"organic\") %>% \n",
    "    select(average_price)"
   ]
  },
  {
   "cell_type": "markdown",
   "metadata": {
    "deletable": false,
    "editable": false,
    "nbgrader": {
     "cell_type": "markdown",
     "checksum": "22c6811eecf6db2aa0423c328fff9fce",
     "grade": false,
     "grade_id": "cell-80ee505836e01bce",
     "locked": true,
     "schema_version": 3,
     "solution": false,
     "task": false
    }
   },
   "source": [
    "**Question 1.5**\n",
    "\n",
    "{points: 1}\n",
    "\n",
    "To answer our question, let's now create the scatter plot where we plot `average_price` on the y-axis versus `Date` on the x-axis. Fill in the ... in the cell below. Copy and paste your finished answer in place of `fail()`. Assign your answer to an object called `avocado_plot`. Don't forget to create proper English axis labels."
   ]
  },
  {
   "cell_type": "code",
   "execution_count": 75,
   "metadata": {
    "deletable": false,
    "nbgrader": {
     "cell_type": "code",
     "checksum": "efad0914c36f20a50a0f18bf5c398849",
     "grade": false,
     "grade_id": "cell-fd8156be131e6ab6",
     "locked": false,
     "schema_version": 3,
     "solution": true
    }
   },
   "outputs": [
    {
     "data": {
      "image/png": "[encoded data removed]",
      "text/plain": [
       "plot without title"
      ]
     },
     "metadata": {
      "image/png": {
       "height": 420,
       "width": 840
      }
     },
     "output_type": "display_data"
    }
   ],
   "source": [
    "options(repr.plot.width = 14, repr.plot.height = 7) # Modifies the size of the plots\n",
    "#... <- ... %>%\n",
    "#    ggplot(aes(x = ..., y = ...)) + \n",
    "#        geom_...() +\n",
    "#        xlab(\"...\") + \n",
    "#        ylab(\"...\") + \n",
    "#        theme(text = element_text(size=20))\n",
    "\n",
    "\n",
    "avocado_plot <- avocado %>%\n",
    "    ggplot(aes(x = Date, y = average_price)) + \n",
    "        geom_point() +\n",
    "        xlab(\"Date\") + \n",
    "        ylab(\"Average Price of Avocado\") + \n",
    "        theme(text = element_text(size=20))\n",
    "\n",
    "avocado_plot"
   ]
  },
  {
   "cell_type": "code",
   "execution_count": 76,
   "metadata": {
    "deletable": false,
    "editable": false,
    "nbgrader": {
     "cell_type": "code",
     "checksum": "e5c1740c0568b65e8a58ac724f906962",
     "grade": true,
     "grade_id": "cell-89b7338558e28dbc",
     "locked": true,
     "points": 1,
     "schema_version": 3,
     "solution": false
    }
   },
   "outputs": [
    {
     "name": "stdout",
     "output_type": "stream",
     "text": [
      "[1] \"Success!\"\n"
     ]
    }
   ],
   "source": [
    "test_1.5()"
   ]
  },
  {
   "cell_type": "markdown",
   "metadata": {
    "deletable": false,
    "editable": false,
    "nbgrader": {
     "cell_type": "markdown",
     "checksum": "9465b3984d66440694cf1351ca05455e",
     "grade": false,
     "grade_id": "cell-f5bf4e53775781f8",
     "locked": true,
     "schema_version": 3,
     "solution": false,
     "task": false
    }
   },
   "source": [
    "We might be able to squint and start to see some pattern in the data above, but really what we see in the plot above is not very informative. Why? Because there is a lot of overplotting (data points sitting on top of other data points). What can we do? One solution is to reduce/aggregate the data in a meaningful way to help anwer our question. Remember that we are interested in determining if there are times when the price of avocados are less expensive so that we can recommend when restaurants should put dishes on the menu that contain avocado to maximize their profits for those dishes.\n",
    "\n",
    "In the data we plotted above, each row is the total sales for avocados for that region for each year. Lets use `group_by` + `summarize` calculate the average price for each week across years and region. We can then plot that aggregated price against the week and perhaps get a clearer picture."
   ]
  },
  {
   "cell_type": "markdown",
   "metadata": {
    "deletable": false,
    "editable": false,
    "nbgrader": {
     "cell_type": "markdown",
     "checksum": "99aef19dabfde6cd8f9179246c5f7e20",
     "grade": false,
     "grade_id": "cell-07909555b45c6c28",
     "locked": true,
     "schema_version": 3,
     "solution": false
    }
   },
   "source": [
    "**Question 1.6**\n",
    "<br> {points: 1}\n",
    "\n",
    "Create a reduced/aggregated version of the `avocado` data set and name it `avocado_aggregate`. To do this you will want to `group_by` the `wk` column and then use `summarize` to calculate the average price (name that column `average_price`)."
   ]
  },
  {
   "cell_type": "code",
   "execution_count": 77,
   "metadata": {
    "deletable": false,
    "nbgrader": {
     "cell_type": "code",
     "checksum": "81110e2e1781e01c5b1ea37ee84b39a0",
     "grade": false,
     "grade_id": "cell-25fc8f43f1d193db",
     "locked": false,
     "schema_version": 3,
     "solution": true
    }
   },
   "outputs": [
    {
     "name": "stderr",
     "output_type": "stream",
     "text": [
      "`summarise()` ungrouping output (override with `.groups` argument)\n",
      "\n"
     ]
    },
    {
     "data": {
      "text/html": [
       "<table>\n",
       "<caption>A tibble: 53 × 2</caption>\n",
       "<thead>\n",
       "\t<tr><th scope=col>wk</th><th scope=col>average_price</th></tr>\n",
       "\t<tr><th scope=col>&lt;dbl&gt;</th><th scope=col>&lt;dbl&gt;</th></tr>\n",
       "</thead>\n",
       "<tbody>\n",
       "\t<tr><td>1</td><td>1.286887</td></tr>\n",
       "\t<tr><td>2</td><td>1.330519</td></tr>\n",
       "\t<tr><td>3</td><td>1.341415</td></tr>\n",
       "\t<tr><td>⋮</td><td>⋮</td></tr>\n",
       "\t<tr><td>51</td><td>1.331887</td></tr>\n",
       "\t<tr><td>52</td><td>1.350881</td></tr>\n",
       "\t<tr><td>53</td><td>1.284151</td></tr>\n",
       "</tbody>\n",
       "</table>\n"
      ],
      "text/latex": [
       "A tibble: 53 × 2\n",
       "\\begin{tabular}{ll}\n",
       " wk & average\\_price\\\\\n",
       " <dbl> & <dbl>\\\\\n",
       "\\hline\n",
       "\t 1 & 1.286887\\\\\n",
       "\t 2 & 1.330519\\\\\n",
       "\t 3 & 1.341415\\\\\n",
       "\t ⋮ & ⋮\\\\\n",
       "\t 51 & 1.331887\\\\\n",
       "\t 52 & 1.350881\\\\\n",
       "\t 53 & 1.284151\\\\\n",
       "\\end{tabular}\n"
      ],
      "text/markdown": [
       "\n",
       "A tibble: 53 × 2\n",
       "\n",
       "| wk &lt;dbl&gt; | average_price &lt;dbl&gt; |\n",
       "|---|---|\n",
       "| 1 | 1.286887 |\n",
       "| 2 | 1.330519 |\n",
       "| 3 | 1.341415 |\n",
       "| ⋮ | ⋮ |\n",
       "| 51 | 1.331887 |\n",
       "| 52 | 1.350881 |\n",
       "| 53 | 1.284151 |\n",
       "\n"
      ],
      "text/plain": [
       "   wk average_price\n",
       "1  1  1.286887     \n",
       "2  2  1.330519     \n",
       "3  3  1.341415     \n",
       "⋮  ⋮  ⋮            \n",
       "51 51 1.331887     \n",
       "52 52 1.350881     \n",
       "53 53 1.284151     "
      ]
     },
     "metadata": {},
     "output_type": "display_data"
    }
   ],
   "source": [
    "#... <- ... %>% \n",
    "#    group_by(...) %>% \n",
    "#    summarize(... = mean(average_price, na.rm = TRUE))\n",
    "\n",
    "avocado_aggregate <- avocado %>% \n",
    "    group_by(wk) %>% \n",
    "    summarize(average_price = mean(average_price, na.rm = TRUE))\n",
    "\n",
    "avocado_aggregate\n"
   ]
  },
  {
   "cell_type": "code",
   "execution_count": 78,
   "metadata": {
    "deletable": false,
    "editable": false,
    "nbgrader": {
     "cell_type": "code",
     "checksum": "e57fd588df1b21a2b87b6af27f115eff",
     "grade": true,
     "grade_id": "cell-81ec3e479caeb7d7",
     "locked": true,
     "points": 1,
     "schema_version": 3,
     "solution": false
    }
   },
   "outputs": [
    {
     "name": "stdout",
     "output_type": "stream",
     "text": [
      "[1] \"Success!\"\n"
     ]
    }
   ],
   "source": [
    "test_1.6()"
   ]
  },
  {
   "cell_type": "markdown",
   "metadata": {
    "deletable": false,
    "editable": false,
    "nbgrader": {
     "cell_type": "markdown",
     "checksum": "b26867888ffbb3769f20b5f5ce836682",
     "grade": false,
     "grade_id": "cell-aa0422ac0aade558",
     "locked": true,
     "schema_version": 3,
     "solution": false
    }
   },
   "source": [
    "**Question 1.7**\n",
    "<br> {points: 1}\n",
    "\n",
    "Now let's take the `avocado_aggregate` data frame and use it to create a scatter plot where we plot `average_price` on the y-axis versus `wk` on the x-axis. Assign your answer to an object called `avocado_aggregate_plot`. Don't forget to create proper English axis labels."
   ]
  },
  {
   "cell_type": "code",
   "execution_count": 79,
   "metadata": {
    "deletable": false,
    "nbgrader": {
     "cell_type": "code",
     "checksum": "2e1110318f2c837e3c4ca89c31c7614f",
     "grade": false,
     "grade_id": "cell-e081bf3fd0e40162",
     "locked": false,
     "schema_version": 3,
     "solution": true
    }
   },
   "outputs": [
    {
     "data": {
      "image/png": "[encoded data removed]",
      "text/plain": [
       "plot without title"
      ]
     },
     "metadata": {
      "image/png": {
       "height": 420,
       "width": 840
      }
     },
     "output_type": "display_data"
    }
   ],
   "source": [
    "#... <- ... %>%\n",
    "#    ggplot(aes(x = ..., y = ...)) + \n",
    "#        ...() +\n",
    "#        ...(\"...\") + \n",
    "#        ...(\"...\") +\n",
    "#        theme(text = element_text(size=20))\n",
    "\n",
    "avocado_aggregate_plot <- avocado_aggregate %>%\n",
    "    ggplot(aes(x = wk, y = average_price)) + \n",
    "        geom_point() +\n",
    "        xlab(\"Week\") + \n",
    "        ylab(\"Average Price\") +\n",
    "        theme(text = element_text(size=20))\n",
    "\n",
    "avocado_aggregate_plot"
   ]
  },
  {
   "cell_type": "code",
   "execution_count": 80,
   "metadata": {
    "deletable": false,
    "editable": false,
    "nbgrader": {
     "cell_type": "code",
     "checksum": "f1b56442de638acdc91d986963850030",
     "grade": true,
     "grade_id": "cell-d70b07b4c2dc0202",
     "locked": true,
     "points": 1,
     "schema_version": 3,
     "solution": false
    }
   },
   "outputs": [
    {
     "name": "stdout",
     "output_type": "stream",
     "text": [
      "[1] \"Success!\"\n"
     ]
    }
   ],
   "source": [
    "test_1.7()"
   ]
  },
  {
   "cell_type": "markdown",
   "metadata": {
    "deletable": false,
    "editable": false,
    "nbgrader": {
     "cell_type": "markdown",
     "checksum": "536f294b841952b053e6f231262c2319",
     "grade": false,
     "grade_id": "cell-b8dfe798ae35428d",
     "locked": true,
     "schema_version": 3,
     "solution": false,
     "task": false
    }
   },
   "source": [
    "We can now see that the prices of avocados does indeed fluctuate throughout the year. And we could use this information to recommend to restaurants that if they want to maximize profit from menu items that contain avocados, they should only offer them on the menu roughly between December and May. \n",
    "\n",
    "Why might this happen? Perhaps price has something to do with supply? We can also use this data set to get some insight into that question by plotting total avocado volume (y-axis) versus week. To do this, we will first have to create a column called `total_volume` whose value is the sum of the small, large and extra large-sized avocado volumes. To do this we will have to go back to the original `avocado` data frame we loaded."
   ]
  },
  {
   "cell_type": "markdown",
   "metadata": {
    "deletable": false,
    "editable": false,
    "nbgrader": {
     "cell_type": "markdown",
     "checksum": "ad8ac615f9133ddadd61ad23a41ea6d1",
     "grade": false,
     "grade_id": "cell-11acd47d959662ee",
     "locked": true,
     "schema_version": 3,
     "solution": false
    }
   },
   "source": [
    "**Question 1.8**\n",
    "<br> {points: 1}\n",
    "\n",
    "Our next step to plotting `total_volume` per week against week is to use `mutate` to create a new column in the `avocado` data frame called `total_volume` which is equal to the sum of all three volume columns:\n",
    "\n",
    "Fill in the `...` in the cell below. Copy and paste your finished answer and replace the `fail()`. "
   ]
  },
  {
   "cell_type": "code",
   "execution_count": 81,
   "metadata": {
    "deletable": false,
    "nbgrader": {
     "cell_type": "code",
     "checksum": "5ab4fd55416e828f7fa3594d5c2c5422",
     "grade": false,
     "grade_id": "cell-20ec4476bb9540db",
     "locked": false,
     "schema_version": 3,
     "solution": true
    }
   },
   "outputs": [
    {
     "data": {
      "text/html": [
       "<table>\n",
       "<caption>A spec_tbl_df: 17911 × 10</caption>\n",
       "<thead>\n",
       "\t<tr><th scope=col>Date</th><th scope=col>average_price</th><th scope=col>small_hass_volume</th><th scope=col>large_hass_volume</th><th scope=col>extra_l_hass_volume</th><th scope=col>type</th><th scope=col>yr</th><th scope=col>region</th><th scope=col>wk</th><th scope=col>total_volume</th></tr>\n",
       "\t<tr><th scope=col>&lt;date&gt;</th><th scope=col>&lt;dbl&gt;</th><th scope=col>&lt;dbl&gt;</th><th scope=col>&lt;dbl&gt;</th><th scope=col>&lt;dbl&gt;</th><th scope=col>&lt;chr&gt;</th><th scope=col>&lt;dbl&gt;</th><th scope=col>&lt;chr&gt;</th><th scope=col>&lt;dbl&gt;</th><th scope=col>&lt;dbl&gt;</th></tr>\n",
       "</thead>\n",
       "<tbody>\n",
       "\t<tr><td>2015-12-27</td><td>1.33</td><td>1036.74</td><td> 54454.85</td><td> 48.16</td><td>conventional</td><td>2015</td><td>Albany</td><td>52</td><td> 55539.75</td></tr>\n",
       "\t<tr><td>2015-12-20</td><td>1.35</td><td> 674.28</td><td> 44638.81</td><td> 58.33</td><td>conventional</td><td>2015</td><td>Albany</td><td>51</td><td> 45371.42</td></tr>\n",
       "\t<tr><td>2015-12-13</td><td>0.93</td><td> 794.70</td><td>109149.67</td><td>130.50</td><td>conventional</td><td>2015</td><td>Albany</td><td>50</td><td>110074.87</td></tr>\n",
       "\t<tr><td>⋮</td><td>⋮</td><td>⋮</td><td>⋮</td><td>⋮</td><td>⋮</td><td>⋮</td><td>⋮</td><td>⋮</td><td>⋮</td></tr>\n",
       "\t<tr><td>2018-01-21</td><td>1.87</td><td>1191.92</td><td>2452.79</td><td>727.94</td><td>organic</td><td>2018</td><td>WestTexNewMexico</td><td>3</td><td>4372.65</td></tr>\n",
       "\t<tr><td>2018-01-14</td><td>1.93</td><td>1527.63</td><td>2981.04</td><td>727.01</td><td>organic</td><td>2018</td><td>WestTexNewMexico</td><td>2</td><td>5235.68</td></tr>\n",
       "\t<tr><td>2018-01-07</td><td>1.62</td><td>2894.77</td><td>2356.13</td><td>224.53</td><td>organic</td><td>2018</td><td>WestTexNewMexico</td><td>1</td><td>5475.43</td></tr>\n",
       "</tbody>\n",
       "</table>\n"
      ],
      "text/latex": [
       "A spec\\_tbl\\_df: 17911 × 10\n",
       "\\begin{tabular}{llllllllll}\n",
       " Date & average\\_price & small\\_hass\\_volume & large\\_hass\\_volume & extra\\_l\\_hass\\_volume & type & yr & region & wk & total\\_volume\\\\\n",
       " <date> & <dbl> & <dbl> & <dbl> & <dbl> & <chr> & <dbl> & <chr> & <dbl> & <dbl>\\\\\n",
       "\\hline\n",
       "\t 2015-12-27 & 1.33 & 1036.74 &  54454.85 &  48.16 & conventional & 2015 & Albany & 52 &  55539.75\\\\\n",
       "\t 2015-12-20 & 1.35 &  674.28 &  44638.81 &  58.33 & conventional & 2015 & Albany & 51 &  45371.42\\\\\n",
       "\t 2015-12-13 & 0.93 &  794.70 & 109149.67 & 130.50 & conventional & 2015 & Albany & 50 & 110074.87\\\\\n",
       "\t ⋮ & ⋮ & ⋮ & ⋮ & ⋮ & ⋮ & ⋮ & ⋮ & ⋮ & ⋮\\\\\n",
       "\t 2018-01-21 & 1.87 & 1191.92 & 2452.79 & 727.94 & organic & 2018 & WestTexNewMexico & 3 & 4372.65\\\\\n",
       "\t 2018-01-14 & 1.93 & 1527.63 & 2981.04 & 727.01 & organic & 2018 & WestTexNewMexico & 2 & 5235.68\\\\\n",
       "\t 2018-01-07 & 1.62 & 2894.77 & 2356.13 & 224.53 & organic & 2018 & WestTexNewMexico & 1 & 5475.43\\\\\n",
       "\\end{tabular}\n"
      ],
      "text/markdown": [
       "\n",
       "A spec_tbl_df: 17911 × 10\n",
       "\n",
       "| Date &lt;date&gt; | average_price &lt;dbl&gt; | small_hass_volume &lt;dbl&gt; | large_hass_volume &lt;dbl&gt; | extra_l_hass_volume &lt;dbl&gt; | type &lt;chr&gt; | yr &lt;dbl&gt; | region &lt;chr&gt; | wk &lt;dbl&gt; | total_volume &lt;dbl&gt; |\n",
       "|---|---|---|---|---|---|---|---|---|---|\n",
       "| 2015-12-27 | 1.33 | 1036.74 |  54454.85 |  48.16 | conventional | 2015 | Albany | 52 |  55539.75 |\n",
       "| 2015-12-20 | 1.35 |  674.28 |  44638.81 |  58.33 | conventional | 2015 | Albany | 51 |  45371.42 |\n",
       "| 2015-12-13 | 0.93 |  794.70 | 109149.67 | 130.50 | conventional | 2015 | Albany | 50 | 110074.87 |\n",
       "| ⋮ | ⋮ | ⋮ | ⋮ | ⋮ | ⋮ | ⋮ | ⋮ | ⋮ | ⋮ |\n",
       "| 2018-01-21 | 1.87 | 1191.92 | 2452.79 | 727.94 | organic | 2018 | WestTexNewMexico | 3 | 4372.65 |\n",
       "| 2018-01-14 | 1.93 | 1527.63 | 2981.04 | 727.01 | organic | 2018 | WestTexNewMexico | 2 | 5235.68 |\n",
       "| 2018-01-07 | 1.62 | 2894.77 | 2356.13 | 224.53 | organic | 2018 | WestTexNewMexico | 1 | 5475.43 |\n",
       "\n"
      ],
      "text/plain": [
       "      Date       average_price small_hass_volume large_hass_volume\n",
       "1     2015-12-27 1.33          1036.74            54454.85        \n",
       "2     2015-12-20 1.35           674.28            44638.81        \n",
       "3     2015-12-13 0.93           794.70           109149.67        \n",
       "⋮     ⋮          ⋮             ⋮                 ⋮                \n",
       "17909 2018-01-21 1.87          1191.92           2452.79          \n",
       "17910 2018-01-14 1.93          1527.63           2981.04          \n",
       "17911 2018-01-07 1.62          2894.77           2356.13          \n",
       "      extra_l_hass_volume type         yr   region           wk total_volume\n",
       "1      48.16              conventional 2015 Albany           52  55539.75   \n",
       "2      58.33              conventional 2015 Albany           51  45371.42   \n",
       "3     130.50              conventional 2015 Albany           50 110074.87   \n",
       "⋮     ⋮                   ⋮            ⋮    ⋮                ⋮  ⋮           \n",
       "17909 727.94              organic      2018 WestTexNewMexico 3  4372.65     \n",
       "17910 727.01              organic      2018 WestTexNewMexico 2  5235.68     \n",
       "17911 224.53              organic      2018 WestTexNewMexico 1  5475.43     "
      ]
     },
     "metadata": {},
     "output_type": "display_data"
    }
   ],
   "source": [
    "#... <- ... %>%\n",
    "#     mutate(... = ... + ... + ...) \n",
    "\n",
    "avocado <- avocado %>%\n",
    "               mutate(total_volume = small_hass_volume + large_hass_volume + extra_l_hass_volume)\n",
    "avocado"
   ]
  },
  {
   "cell_type": "code",
   "execution_count": 82,
   "metadata": {
    "deletable": false,
    "editable": false,
    "nbgrader": {
     "cell_type": "code",
     "checksum": "f88967c9f4b2f910dc354d4aa86ceadc",
     "grade": true,
     "grade_id": "cell-1b331febb2ce27b5",
     "locked": true,
     "points": 1,
     "schema_version": 3,
     "solution": false
    }
   },
   "outputs": [
    {
     "name": "stdout",
     "output_type": "stream",
     "text": [
      "[1] \"Success!\"\n"
     ]
    }
   ],
   "source": [
    "test_1.8()"
   ]
  },
  {
   "cell_type": "markdown",
   "metadata": {
    "deletable": false,
    "editable": false,
    "nbgrader": {
     "cell_type": "markdown",
     "checksum": "6e703f4172d907804a701ef63416c05c",
     "grade": false,
     "grade_id": "cell-97fc42a8c2d802d8",
     "locked": true,
     "schema_version": 3,
     "solution": false
    }
   },
   "source": [
    "**Question 1.9** \n",
    "<br> {points: 1}\n",
    "\n",
    "Now, create another reduced/aggregated version of the `avocado` data frame and name it `avocado_aggregate_2`. To do this you will want to `group_by` the `wk` column and then use `summarize` to calculate the average total volume (name that column `total_volume`)."
   ]
  },
  {
   "cell_type": "code",
   "execution_count": 83,
   "metadata": {
    "deletable": false,
    "nbgrader": {
     "cell_type": "code",
     "checksum": "58e0379cfcb6e3cf81bc7851b02d87a6",
     "grade": false,
     "grade_id": "cell-d3d0314b483daf3c",
     "locked": false,
     "schema_version": 3,
     "solution": true
    }
   },
   "outputs": [
    {
     "name": "stderr",
     "output_type": "stream",
     "text": [
      "`summarise()` ungrouping output (override with `.groups` argument)\n",
      "\n"
     ]
    },
    {
     "data": {
      "text/html": [
       "<table>\n",
       "<caption>A tibble: 53 × 2</caption>\n",
       "<thead>\n",
       "\t<tr><th scope=col>wk</th><th scope=col>total_volume</th></tr>\n",
       "\t<tr><th scope=col>&lt;dbl&gt;</th><th scope=col>&lt;dbl&gt;</th></tr>\n",
       "</thead>\n",
       "<tbody>\n",
       "\t<tr><td>1</td><td>424475.8</td></tr>\n",
       "\t<tr><td>2</td><td>399580.9</td></tr>\n",
       "\t<tr><td>3</td><td>412136.8</td></tr>\n",
       "\t<tr><td>⋮</td><td>⋮</td></tr>\n",
       "\t<tr><td>51</td><td>319401.3</td></tr>\n",
       "\t<tr><td>52</td><td>317718.8</td></tr>\n",
       "\t<tr><td>53</td><td>420974.1</td></tr>\n",
       "</tbody>\n",
       "</table>\n"
      ],
      "text/latex": [
       "A tibble: 53 × 2\n",
       "\\begin{tabular}{ll}\n",
       " wk & total\\_volume\\\\\n",
       " <dbl> & <dbl>\\\\\n",
       "\\hline\n",
       "\t 1 & 424475.8\\\\\n",
       "\t 2 & 399580.9\\\\\n",
       "\t 3 & 412136.8\\\\\n",
       "\t ⋮ & ⋮\\\\\n",
       "\t 51 & 319401.3\\\\\n",
       "\t 52 & 317718.8\\\\\n",
       "\t 53 & 420974.1\\\\\n",
       "\\end{tabular}\n"
      ],
      "text/markdown": [
       "\n",
       "A tibble: 53 × 2\n",
       "\n",
       "| wk &lt;dbl&gt; | total_volume &lt;dbl&gt; |\n",
       "|---|---|\n",
       "| 1 | 424475.8 |\n",
       "| 2 | 399580.9 |\n",
       "| 3 | 412136.8 |\n",
       "| ⋮ | ⋮ |\n",
       "| 51 | 319401.3 |\n",
       "| 52 | 317718.8 |\n",
       "| 53 | 420974.1 |\n",
       "\n"
      ],
      "text/plain": [
       "   wk total_volume\n",
       "1  1  424475.8    \n",
       "2  2  399580.9    \n",
       "3  3  412136.8    \n",
       "⋮  ⋮  ⋮           \n",
       "51 51 319401.3    \n",
       "52 52 317718.8    \n",
       "53 53 420974.1    "
      ]
     },
     "metadata": {},
     "output_type": "display_data"
    }
   ],
   "source": [
    "#... <- ... %>% \n",
    "#    group_by(...) %>% \n",
    "#    summarize(...)\n",
    "\n",
    "avocado_aggregate_2 <- avocado %>%\n",
    "    group_by(wk) %>%\n",
    "    summarize(total_volume = mean(total_volume, na.rm = TRUE))\n",
    "\n",
    "avocado_aggregate_2"
   ]
  },
  {
   "cell_type": "code",
   "execution_count": 84,
   "metadata": {
    "deletable": false,
    "editable": false,
    "nbgrader": {
     "cell_type": "code",
     "checksum": "2113ab67114548ca65314f85259d12af",
     "grade": true,
     "grade_id": "cell-975338ad4661f5af",
     "locked": true,
     "points": 1,
     "schema_version": 3,
     "solution": false
    }
   },
   "outputs": [
    {
     "name": "stdout",
     "output_type": "stream",
     "text": [
      "[1] \"Success!\"\n"
     ]
    }
   ],
   "source": [
    "test_1.9()"
   ]
  },
  {
   "cell_type": "markdown",
   "metadata": {
    "deletable": false,
    "editable": false,
    "nbgrader": {
     "cell_type": "markdown",
     "checksum": "59114583ff055f715682d0748985136a",
     "grade": false,
     "grade_id": "cell-ea1a11950f66b4f5",
     "locked": true,
     "schema_version": 3,
     "solution": false
    }
   },
   "source": [
    "**Question 1.10** \n",
    "<br> {points: 1}\n",
    "\n",
    "Now let's take the `avocado_aggregate_2` data frame and use it to create a scatter plot where we plot average `total_volume` (in pounds, lbs) on the y-axis versus `wk` on the x-axis. Assign your answer to an object called `avocado_aggregate_plot_2`. Don't forget to create proper English axis labels.\n",
    "\n",
    "> Hint: don't forget to include the units for volume in your data visualization."
   ]
  },
  {
   "cell_type": "code",
   "execution_count": 85,
   "metadata": {
    "deletable": false,
    "nbgrader": {
     "cell_type": "code",
     "checksum": "ede916d0b51563be8b3701048f0145df",
     "grade": false,
     "grade_id": "cell-11af7abfd81fb0f2",
     "locked": false,
     "schema_version": 3,
     "solution": true
    }
   },
   "outputs": [
    {
     "data": {
      "image/png": "[encoded data removed]",
      "text/plain": [
       "plot without title"
      ]
     },
     "metadata": {
      "image/png": {
       "height": 420,
       "width": 840
      }
     },
     "output_type": "display_data"
    }
   ],
   "source": [
    "#... <- ... %>%\n",
    "#    ggplot(aes(x = ..., y = ...)) + \n",
    "#        ...() +\n",
    "#        ...(\"...\") + \n",
    "#        ...(\"...\") +\n",
    "#        theme(text = element_text(size=20))\n",
    "\n",
    "avocado_aggregate_plot_2 <- avocado_aggregate_2 %>%\n",
    "    ggplot(aes(x = wk, y = total_volume)) +\n",
    "    geom_point() +\n",
    "    xlab(\"Week\") +\n",
    "    ylab(\"Totol Volume of Avocado (in Pounds)\") +\n",
    "    theme(text = element_text(size=20))\n",
    "\n",
    "avocado_aggregate_plot_2"
   ]
  },
  {
   "cell_type": "code",
   "execution_count": 86,
   "metadata": {
    "deletable": false,
    "editable": false,
    "nbgrader": {
     "cell_type": "code",
     "checksum": "4a088bd0899940592c1240d866798b4a",
     "grade": true,
     "grade_id": "cell-7a0b7fca31c9c8ec",
     "locked": true,
     "points": 1,
     "schema_version": 3,
     "solution": false
    }
   },
   "outputs": [
    {
     "name": "stdout",
     "output_type": "stream",
     "text": [
      "[1] \"Success!\"\n"
     ]
    }
   ],
   "source": [
    "test_1.10()"
   ]
  },
  {
   "cell_type": "markdown",
   "metadata": {
    "deletable": false,
    "editable": false,
    "nbgrader": {
     "cell_type": "markdown",
     "checksum": "0e53d03902f6638ab153df8dfd95379d",
     "grade": false,
     "grade_id": "cell-83ce58105c97d477",
     "locked": true,
     "schema_version": 3,
     "solution": false,
     "task": false
    }
   },
   "source": [
    "We can see from the above plot of the average total volume versus the week that there are more avocados sold (and perhaps this reflects what is available for sale) roughly between January to May. This time period of increased volume corresponds with the lower avocado prices. We can *hypothesize* (but not conclude, of course) that the lower prices may be due to an increased availability of avocados during this time period."
   ]
  },
  {
   "cell_type": "markdown",
   "metadata": {
    "deletable": false,
    "editable": false,
    "nbgrader": {
     "cell_type": "markdown",
     "checksum": "df304d903814167320ad048736e36c94",
     "grade": false,
     "grade_id": "cell-15b71c3a5274adf6",
     "locked": true,
     "schema_version": 3,
     "solution": false,
     "task": false
    }
   },
   "source": [
    "## 2. Sea Surface Temperatures in Departure Bay\n",
    "The next data set that we will be looking at contains environmental data from 1914 to 2018. The data was collected by the DFO (Canada's Department of Fisheries and Oceans) at the Pacific Biological Station (Departure Bay). Daily sea surface temperature (in degrees Celsius) and salinity (in practical salinity units, PSU) observations have been carried out at several locations on the coast of British Columbia. The number of stations reporting at any given time has varied as sampling has been discontinued at some stations, and started or resumed at others.\n",
    "\n",
    "Presently termed the British Columbia Shore Station Oceanographic Program (BCSOP), there are 12 participating stations; most of these are staffed by Fisheries and Oceans Canada. You can look at data from other stations at http://www.pac.dfo-mpo.gc.ca/science/oceans/data-donnees/lightstations-phares/index-eng.html \n",
    "\n",
    "Further information from the Government of Canada's website indicates: \n",
    ">  Observations are made daily using seawater collected in a bucket lowered into the surface water at or near the daytime high tide. This sampling method was designed long ago by Dr. John P. Tully and has not been changed in the interests of a homogeneous data set. This means, for example, that if an observer starts sampling one day at 6 a.m., and continues to sample at the daytime high tide on the second day the sample will be taken at about 06:50 the next day, 07:40 the day after etc. When the daytime high-tide gets close to 6 p.m. the observer will then begin again to sample early in the morning, and the cycle continues. Since there is a day/night variation in the sea surface temperatures the daily time series will show a signal that varies with the14-day tidal cycle. This artifact does not affect the monthly sea surface temperature data.\n",
    "\n",
    "In this worksheet, we want to see if the sea surface temperature has been changing over time. "
   ]
  },
  {
   "cell_type": "markdown",
   "metadata": {
    "deletable": false,
    "editable": false,
    "nbgrader": {
     "cell_type": "markdown",
     "checksum": "f13331a2b99db0ac5fd1b4ceed05f238",
     "grade": false,
     "grade_id": "cell-8f4dc9433ea2a7e9",
     "locked": true,
     "schema_version": 3,
     "solution": false
    }
   },
   "source": [
    "**Question 2.1** True or False:\n",
    "<br> {points: 1}\n",
    "\n",
    "The sampling of surface water occurs at the same time each day. \n",
    "\n",
    "*Assign your answer to an object called `answer2.1`. Make sure your answer is lowercase \"true\" or lowercase \"false\".* "
   ]
  },
  {
   "cell_type": "code",
   "execution_count": 87,
   "metadata": {
    "deletable": false,
    "nbgrader": {
     "cell_type": "code",
     "checksum": "8ec97a92c46e8c64c2b16d1eeda1a06d",
     "grade": false,
     "grade_id": "cell-4eb1407dda8e1fe2",
     "locked": false,
     "schema_version": 3,
     "solution": true
    }
   },
   "outputs": [],
   "source": [
    "# Replace the fail() with your answer. \n",
    "\n",
    "answer2.1 <- \"false\""
   ]
  },
  {
   "cell_type": "code",
   "execution_count": 88,
   "metadata": {
    "deletable": false,
    "editable": false,
    "nbgrader": {
     "cell_type": "code",
     "checksum": "ba18db3e1ade149dae228da8b22cee45",
     "grade": true,
     "grade_id": "cell-aef90db69249870d",
     "locked": true,
     "points": 1,
     "schema_version": 3,
     "solution": false
    }
   },
   "outputs": [
    {
     "name": "stdout",
     "output_type": "stream",
     "text": [
      "[1] \"Success!\"\n"
     ]
    }
   ],
   "source": [
    "test_2.1()"
   ]
  },
  {
   "cell_type": "markdown",
   "metadata": {
    "deletable": false,
    "editable": false,
    "nbgrader": {
     "cell_type": "markdown",
     "checksum": "ba7a38ce80cead306bafd5c1eece5391",
     "grade": false,
     "grade_id": "cell-0155ff05e1bac66f",
     "locked": true,
     "schema_version": 3,
     "solution": false
    }
   },
   "source": [
    "**Question 2.2** Multiple Choice:\n",
    "<br> {points: 1}\n",
    "\n",
    "If high tide occurred at 9am today, what time would the scientist collect data tomorrow?\n",
    "\n",
    "A. 11:10 am \n",
    "\n",
    "B. 9:50 am \n",
    "\n",
    "C. 10:00 pm \n",
    "\n",
    "D. Trick question... you skip days when collecting data. \n",
    "\n",
    "*Assign your answer to an object called `answer2.2`. Make sure your answer is an uppercase letter and is surrounded by quotation marks (e.g. `\"F\"`).* "
   ]
  },
  {
   "cell_type": "code",
   "execution_count": 89,
   "metadata": {
    "deletable": false,
    "nbgrader": {
     "cell_type": "code",
     "checksum": "528f666f5284cc657d8125de2ed994b1",
     "grade": false,
     "grade_id": "cell-c93cda405137fbfd",
     "locked": false,
     "schema_version": 3,
     "solution": true
    }
   },
   "outputs": [],
   "source": [
    "# Replace the fail() with your answer. \n",
    "\n",
    "answer2.2 <- \"B\""
   ]
  },
  {
   "cell_type": "code",
   "execution_count": 90,
   "metadata": {
    "deletable": false,
    "editable": false,
    "nbgrader": {
     "cell_type": "code",
     "checksum": "354e1bec7b5e370d97f914f24e15fc7f",
     "grade": true,
     "grade_id": "cell-957f2b6edf976bfd",
     "locked": true,
     "points": 1,
     "schema_version": 3,
     "solution": false
    }
   },
   "outputs": [
    {
     "name": "stdout",
     "output_type": "stream",
     "text": [
      "[1] \"Success!\"\n"
     ]
    }
   ],
   "source": [
    "test_2.2()"
   ]
  },
  {
   "cell_type": "markdown",
   "metadata": {
    "deletable": false,
    "editable": false,
    "nbgrader": {
     "cell_type": "markdown",
     "checksum": "1b2717ffc63af7cd52a02706b52bc753",
     "grade": false,
     "grade_id": "cell-e1bf20ed85ae3d0d",
     "locked": true,
     "schema_version": 3,
     "solution": false
    }
   },
   "source": [
    "**Question 2.3**\n",
    "<br> {points: 1}\n",
    "\n",
    "To begin working with this data, read the file `departure_bay_temperature.csv` using a relative path. Note, this file (just like the avocado data set) is found within the `worksheet_03` directory. \n",
    "\n",
    "*Assign your answer to an object called `sea_surface`.* "
   ]
  },
  {
   "cell_type": "code",
   "execution_count": 91,
   "metadata": {
    "deletable": false,
    "nbgrader": {
     "cell_type": "code",
     "checksum": "cfc6b010459183ec8fd3b62ce030eaf3",
     "grade": false,
     "grade_id": "cell-b10c1a879331aa37",
     "locked": false,
     "schema_version": 3,
     "solution": true
    }
   },
   "outputs": [
    {
     "name": "stderr",
     "output_type": "stream",
     "text": [
      "Parsed with column specification:\n",
      "cols(\n",
      "  Year = \u001b[32mcol_double()\u001b[39m,\n",
      "  Jan = \u001b[32mcol_double()\u001b[39m,\n",
      "  Feb = \u001b[32mcol_double()\u001b[39m,\n",
      "  Mar = \u001b[32mcol_double()\u001b[39m,\n",
      "  Apr = \u001b[32mcol_double()\u001b[39m,\n",
      "  May = \u001b[32mcol_double()\u001b[39m,\n",
      "  Jun = \u001b[32mcol_double()\u001b[39m,\n",
      "  Jul = \u001b[32mcol_double()\u001b[39m,\n",
      "  Aug = \u001b[32mcol_double()\u001b[39m,\n",
      "  Sep = \u001b[32mcol_double()\u001b[39m,\n",
      "  Oct = \u001b[32mcol_double()\u001b[39m,\n",
      "  Nov = \u001b[32mcol_double()\u001b[39m,\n",
      "  Dec = \u001b[32mcol_double()\u001b[39m\n",
      ")\n",
      "\n"
     ]
    },
    {
     "data": {
      "text/html": [
       "<table>\n",
       "<caption>A spec_tbl_df: 105 × 13</caption>\n",
       "<thead>\n",
       "\t<tr><th scope=col>Year</th><th scope=col>Jan</th><th scope=col>Feb</th><th scope=col>Mar</th><th scope=col>Apr</th><th scope=col>May</th><th scope=col>Jun</th><th scope=col>Jul</th><th scope=col>Aug</th><th scope=col>Sep</th><th scope=col>Oct</th><th scope=col>Nov</th><th scope=col>Dec</th></tr>\n",
       "\t<tr><th scope=col>&lt;dbl&gt;</th><th scope=col>&lt;dbl&gt;</th><th scope=col>&lt;dbl&gt;</th><th scope=col>&lt;dbl&gt;</th><th scope=col>&lt;dbl&gt;</th><th scope=col>&lt;dbl&gt;</th><th scope=col>&lt;dbl&gt;</th><th scope=col>&lt;dbl&gt;</th><th scope=col>&lt;dbl&gt;</th><th scope=col>&lt;dbl&gt;</th><th scope=col>&lt;dbl&gt;</th><th scope=col>&lt;dbl&gt;</th><th scope=col>&lt;dbl&gt;</th></tr>\n",
       "</thead>\n",
       "<tbody>\n",
       "\t<tr><td>1914</td><td>7.2</td><td> NA</td><td> NA</td><td> NA</td><td> NA</td><td>  NA</td><td>  NA</td><td>  NA</td><td>11.1</td><td>10.0</td><td>7.3</td><td>6.3</td></tr>\n",
       "\t<tr><td>1915</td><td>5.6</td><td>6.6</td><td>7.5</td><td>9.0</td><td>9.9</td><td>12.5</td><td>14.7</td><td>15.8</td><td>14.0</td><td> 8.2</td><td>4.4</td><td>4.1</td></tr>\n",
       "\t<tr><td>1916</td><td>1.2</td><td>0.1</td><td>3.5</td><td>6.5</td><td>8.0</td><td>12.0</td><td>13.1</td><td>14.0</td><td>11.4</td><td> 7.6</td><td>5.4</td><td>3.5</td></tr>\n",
       "\t<tr><td>⋮</td><td>⋮</td><td>⋮</td><td>⋮</td><td>⋮</td><td>⋮</td><td>⋮</td><td>⋮</td><td>⋮</td><td>⋮</td><td>⋮</td><td>⋮</td><td>⋮</td></tr>\n",
       "\t<tr><td>2016</td><td>6.0</td><td>7.1</td><td>8.4</td><td>9.8</td><td>13.0</td><td>14.2</td><td>14.6</td><td>14.6</td><td>12.6</td><td>10.8</td><td>8.2</td><td>5.5</td></tr>\n",
       "\t<tr><td>2017</td><td>5.6</td><td>4.8</td><td>7.1</td><td>7.9</td><td>10.5</td><td>12.4</td><td>15.3</td><td>15.3</td><td>13.1</td><td>10.2</td><td>8.8</td><td>6.9</td></tr>\n",
       "\t<tr><td>2018</td><td>6.2</td><td>6.0</td><td>7.1</td><td>8.2</td><td>  NA</td><td>  NA</td><td>  NA</td><td>  NA</td><td>  NA</td><td>  NA</td><td> NA</td><td> NA</td></tr>\n",
       "</tbody>\n",
       "</table>\n"
      ],
      "text/latex": [
       "A spec\\_tbl\\_df: 105 × 13\n",
       "\\begin{tabular}{lllllllllllll}\n",
       " Year & Jan & Feb & Mar & Apr & May & Jun & Jul & Aug & Sep & Oct & Nov & Dec\\\\\n",
       " <dbl> & <dbl> & <dbl> & <dbl> & <dbl> & <dbl> & <dbl> & <dbl> & <dbl> & <dbl> & <dbl> & <dbl> & <dbl>\\\\\n",
       "\\hline\n",
       "\t 1914 & 7.2 &  NA &  NA &  NA &  NA &   NA &   NA &   NA & 11.1 & 10.0 & 7.3 & 6.3\\\\\n",
       "\t 1915 & 5.6 & 6.6 & 7.5 & 9.0 & 9.9 & 12.5 & 14.7 & 15.8 & 14.0 &  8.2 & 4.4 & 4.1\\\\\n",
       "\t 1916 & 1.2 & 0.1 & 3.5 & 6.5 & 8.0 & 12.0 & 13.1 & 14.0 & 11.4 &  7.6 & 5.4 & 3.5\\\\\n",
       "\t ⋮ & ⋮ & ⋮ & ⋮ & ⋮ & ⋮ & ⋮ & ⋮ & ⋮ & ⋮ & ⋮ & ⋮ & ⋮\\\\\n",
       "\t 2016 & 6.0 & 7.1 & 8.4 & 9.8 & 13.0 & 14.2 & 14.6 & 14.6 & 12.6 & 10.8 & 8.2 & 5.5\\\\\n",
       "\t 2017 & 5.6 & 4.8 & 7.1 & 7.9 & 10.5 & 12.4 & 15.3 & 15.3 & 13.1 & 10.2 & 8.8 & 6.9\\\\\n",
       "\t 2018 & 6.2 & 6.0 & 7.1 & 8.2 &   NA &   NA &   NA &   NA &   NA &   NA &  NA &  NA\\\\\n",
       "\\end{tabular}\n"
      ],
      "text/markdown": [
       "\n",
       "A spec_tbl_df: 105 × 13\n",
       "\n",
       "| Year &lt;dbl&gt; | Jan &lt;dbl&gt; | Feb &lt;dbl&gt; | Mar &lt;dbl&gt; | Apr &lt;dbl&gt; | May &lt;dbl&gt; | Jun &lt;dbl&gt; | Jul &lt;dbl&gt; | Aug &lt;dbl&gt; | Sep &lt;dbl&gt; | Oct &lt;dbl&gt; | Nov &lt;dbl&gt; | Dec &lt;dbl&gt; |\n",
       "|---|---|---|---|---|---|---|---|---|---|---|---|---|\n",
       "| 1914 | 7.2 |  NA |  NA |  NA |  NA |   NA |   NA |   NA | 11.1 | 10.0 | 7.3 | 6.3 |\n",
       "| 1915 | 5.6 | 6.6 | 7.5 | 9.0 | 9.9 | 12.5 | 14.7 | 15.8 | 14.0 |  8.2 | 4.4 | 4.1 |\n",
       "| 1916 | 1.2 | 0.1 | 3.5 | 6.5 | 8.0 | 12.0 | 13.1 | 14.0 | 11.4 |  7.6 | 5.4 | 3.5 |\n",
       "| ⋮ | ⋮ | ⋮ | ⋮ | ⋮ | ⋮ | ⋮ | ⋮ | ⋮ | ⋮ | ⋮ | ⋮ | ⋮ |\n",
       "| 2016 | 6.0 | 7.1 | 8.4 | 9.8 | 13.0 | 14.2 | 14.6 | 14.6 | 12.6 | 10.8 | 8.2 | 5.5 |\n",
       "| 2017 | 5.6 | 4.8 | 7.1 | 7.9 | 10.5 | 12.4 | 15.3 | 15.3 | 13.1 | 10.2 | 8.8 | 6.9 |\n",
       "| 2018 | 6.2 | 6.0 | 7.1 | 8.2 |   NA |   NA |   NA |   NA |   NA |   NA |  NA |  NA |\n",
       "\n"
      ],
      "text/plain": [
       "    Year Jan Feb Mar Apr May  Jun  Jul  Aug  Sep  Oct  Nov Dec\n",
       "1   1914 7.2  NA  NA  NA  NA    NA   NA   NA 11.1 10.0 7.3 6.3\n",
       "2   1915 5.6 6.6 7.5 9.0 9.9  12.5 14.7 15.8 14.0  8.2 4.4 4.1\n",
       "3   1916 1.2 0.1 3.5 6.5 8.0  12.0 13.1 14.0 11.4  7.6 5.4 3.5\n",
       "⋮   ⋮    ⋮   ⋮   ⋮   ⋮   ⋮    ⋮    ⋮    ⋮    ⋮    ⋮    ⋮   ⋮  \n",
       "103 2016 6.0 7.1 8.4 9.8 13.0 14.2 14.6 14.6 12.6 10.8 8.2 5.5\n",
       "104 2017 5.6 4.8 7.1 7.9 10.5 12.4 15.3 15.3 13.1 10.2 8.8 6.9\n",
       "105 2018 6.2 6.0 7.1 8.2   NA   NA   NA   NA   NA   NA  NA  NA"
      ]
     },
     "metadata": {},
     "output_type": "display_data"
    }
   ],
   "source": [
    "# your code here\n",
    "sea_surface <- read_csv(\"data/departure_bay_temperature.csv\", skip = 2)\n",
    "sea_surface"
   ]
  },
  {
   "cell_type": "code",
   "execution_count": 92,
   "metadata": {
    "deletable": false,
    "editable": false,
    "nbgrader": {
     "cell_type": "code",
     "checksum": "22675910c6b63be6fed9c9f0c2480641",
     "grade": true,
     "grade_id": "cell-09a9fd7ca9f44ada",
     "locked": true,
     "points": 1,
     "schema_version": 3,
     "solution": false
    }
   },
   "outputs": [
    {
     "name": "stdout",
     "output_type": "stream",
     "text": [
      "[1] \"Success!\"\n"
     ]
    }
   ],
   "source": [
    "test_2.3()"
   ]
  },
  {
   "cell_type": "markdown",
   "metadata": {
    "deletable": false,
    "editable": false,
    "nbgrader": {
     "cell_type": "markdown",
     "checksum": "b2943f4ae6816a7575bb5d137e7270ee",
     "grade": false,
     "grade_id": "cell-e755c156454253ba",
     "locked": true,
     "schema_version": 3,
     "solution": false,
     "task": false
    }
   },
   "source": [
    "**Question 2.3.1**\n",
    "<br> {points: 1}\n",
    "\n",
    "The data above in Question 2.3 is not tidy, which reasons listed below explain why?\n",
    "\n",
    "A. There are NA's in the data set\n",
    "\n",
    "B. The variable temperature is split across more than one column\n",
    "\n",
    "C. Values for the variable month are stored as column names\n",
    "\n",
    "D. A and C\n",
    "\n",
    "E. B and C\n",
    "\n",
    "F. All of the above\n",
    "\n",
    "Assign your answer to an object called `answer2.3.1`."
   ]
  },
  {
   "cell_type": "code",
   "execution_count": 93,
   "metadata": {
    "deletable": false,
    "nbgrader": {
     "cell_type": "code",
     "checksum": "7233a6a7a91152c7fd65d0dfa7cfb189",
     "grade": false,
     "grade_id": "cell-6e1789eb7032fc30",
     "locked": false,
     "schema_version": 3,
     "solution": true,
     "task": false
    }
   },
   "outputs": [],
   "source": [
    "# Replace the fail() with your answer. \n",
    "\n",
    "answer2.3.1 <- \"E\""
   ]
  },
  {
   "cell_type": "code",
   "execution_count": 94,
   "metadata": {
    "deletable": false,
    "editable": false,
    "nbgrader": {
     "cell_type": "code",
     "checksum": "6273260afec61c22bc5e2b61ca7945a9",
     "grade": true,
     "grade_id": "cell-f449a87635bac905",
     "locked": true,
     "points": 1,
     "schema_version": 3,
     "solution": false,
     "task": false
    }
   },
   "outputs": [
    {
     "name": "stdout",
     "output_type": "stream",
     "text": [
      "[1] \"Success!\"\n"
     ]
    }
   ],
   "source": [
    "test_2.3.1()"
   ]
  },
  {
   "cell_type": "markdown",
   "metadata": {
    "deletable": false,
    "editable": false,
    "nbgrader": {
     "cell_type": "markdown",
     "checksum": "a5a8e73f0ac6f2949ffc9afcf5d929ae",
     "grade": false,
     "grade_id": "cell-0b23c682c8caa306",
     "locked": true,
     "schema_version": 3,
     "solution": false
    }
   },
   "source": [
    "**Question 2.4**\n",
    "<br> {points: 1}\n",
    "\n",
    "Given `ggplot` expects tidy data, we need to convert our data into that format. To do this we will use the `pivot_longer()` function. We would like our data to end up looking like this:\n",
    "\n",
    "| Year | Month | Temperature |\n",
    "|------|-------|-------------|\n",
    "| 1914 | Jan   | 7.2         |\n",
    "| 1914 | Feb   | NA          |\n",
    "| 1914 | Mar   | NA          |\n",
    "| ...  | ...   | ...         |\n",
    "| 2018 | Oct   | NA          |\n",
    "| 2018 | Nov   | NA          |\n",
    "| 2018 | Dec   | NA          |\n",
    "\n",
    "\n",
    "Fill in the `...` in the cell below. Copy and paste your finished answer and replace the `fail()`.\n",
    "\n",
    "*Assign your answer to an object called `tidy_temp`.*"
   ]
  },
  {
   "cell_type": "code",
   "execution_count": 95,
   "metadata": {
    "deletable": false,
    "nbgrader": {
     "cell_type": "code",
     "checksum": "9aede99fac93430dc13d4826a7c655b0",
     "grade": false,
     "grade_id": "cell-422718995704f040",
     "locked": false,
     "schema_version": 3,
     "solution": true
    }
   },
   "outputs": [
    {
     "data": {
      "text/html": [
       "<table>\n",
       "<caption>A tibble: 1260 × 3</caption>\n",
       "<thead>\n",
       "\t<tr><th scope=col>Year</th><th scope=col>Month</th><th scope=col>Temperature</th></tr>\n",
       "\t<tr><th scope=col>&lt;dbl&gt;</th><th scope=col>&lt;chr&gt;</th><th scope=col>&lt;dbl&gt;</th></tr>\n",
       "</thead>\n",
       "<tbody>\n",
       "\t<tr><td>1914</td><td>Jan</td><td>7.2</td></tr>\n",
       "\t<tr><td>1914</td><td>Feb</td><td> NA</td></tr>\n",
       "\t<tr><td>1914</td><td>Mar</td><td> NA</td></tr>\n",
       "\t<tr><td>⋮</td><td>⋮</td><td>⋮</td></tr>\n",
       "\t<tr><td>2018</td><td>Oct</td><td>NA</td></tr>\n",
       "\t<tr><td>2018</td><td>Nov</td><td>NA</td></tr>\n",
       "\t<tr><td>2018</td><td>Dec</td><td>NA</td></tr>\n",
       "</tbody>\n",
       "</table>\n"
      ],
      "text/latex": [
       "A tibble: 1260 × 3\n",
       "\\begin{tabular}{lll}\n",
       " Year & Month & Temperature\\\\\n",
       " <dbl> & <chr> & <dbl>\\\\\n",
       "\\hline\n",
       "\t 1914 & Jan & 7.2\\\\\n",
       "\t 1914 & Feb &  NA\\\\\n",
       "\t 1914 & Mar &  NA\\\\\n",
       "\t ⋮ & ⋮ & ⋮\\\\\n",
       "\t 2018 & Oct & NA\\\\\n",
       "\t 2018 & Nov & NA\\\\\n",
       "\t 2018 & Dec & NA\\\\\n",
       "\\end{tabular}\n"
      ],
      "text/markdown": [
       "\n",
       "A tibble: 1260 × 3\n",
       "\n",
       "| Year &lt;dbl&gt; | Month &lt;chr&gt; | Temperature &lt;dbl&gt; |\n",
       "|---|---|---|\n",
       "| 1914 | Jan | 7.2 |\n",
       "| 1914 | Feb |  NA |\n",
       "| 1914 | Mar |  NA |\n",
       "| ⋮ | ⋮ | ⋮ |\n",
       "| 2018 | Oct | NA |\n",
       "| 2018 | Nov | NA |\n",
       "| 2018 | Dec | NA |\n",
       "\n"
      ],
      "text/plain": [
       "     Year Month Temperature\n",
       "1    1914 Jan   7.2        \n",
       "2    1914 Feb    NA        \n",
       "3    1914 Mar    NA        \n",
       "⋮    ⋮    ⋮     ⋮          \n",
       "1258 2018 Oct   NA         \n",
       "1259 2018 Nov   NA         \n",
       "1260 2018 Dec   NA         "
      ]
     },
     "metadata": {},
     "output_type": "display_data"
    }
   ],
   "source": [
    "#... <- sea_surface %>%\n",
    "#    ...(cols = Jan:Dec, \n",
    "#                 names_to = \"...\", \n",
    "#                 values_to = \"Temperature\")\n",
    "\n",
    "tidy_temp <- sea_surface %>%\n",
    "    pivot_longer(cols = Jan:Dec, \n",
    "                 names_to = \"Month\", \n",
    "                 values_to = \"Temperature\")\n",
    "\n",
    "tidy_temp"
   ]
  },
  {
   "cell_type": "code",
   "execution_count": 96,
   "metadata": {
    "deletable": false,
    "editable": false,
    "nbgrader": {
     "cell_type": "code",
     "checksum": "f335d09d319494be0674f71d55e9beee",
     "grade": true,
     "grade_id": "cell-afb070ca8361d0a7",
     "locked": true,
     "points": 1,
     "schema_version": 3,
     "solution": false
    }
   },
   "outputs": [
    {
     "name": "stdout",
     "output_type": "stream",
     "text": [
      "[1] \"Success!\"\n"
     ]
    }
   ],
   "source": [
    "test_2.4()"
   ]
  },
  {
   "cell_type": "markdown",
   "metadata": {
    "deletable": false,
    "editable": false,
    "nbgrader": {
     "cell_type": "markdown",
     "checksum": "dd1bbc7a7b00bf348099703f993ebfef",
     "grade": false,
     "grade_id": "cell-4d3484d80d9f0854",
     "locked": true,
     "schema_version": 3,
     "solution": false
    }
   },
   "source": [
    "**Question 2.5**\n",
    "<br> {points: 1}\n",
    "\n",
    "Now that we have our data in a tidy format, we can create our plot that compares the average monthly sea surface temperatures (in degrees Celsius) to the year they were recorded. To make our plots more informative, we should plot each month separately. We can use `filter` to do this before we pipe our data into the `ggplot` function. Let's start out by just plotting the data for the month of November. As usual, use proper English to label your axes :)\n",
    "\n",
    "*Assign your answer to an object called `nov_temp_plot`.*\n",
    "\n",
    "> Hint: don't forget to include the units for temperature in your data visualization."
   ]
  },
  {
   "cell_type": "code",
   "execution_count": 97,
   "metadata": {
    "deletable": false,
    "nbgrader": {
     "cell_type": "code",
     "checksum": "9eef20515039056c7e5acc54033cdac1",
     "grade": false,
     "grade_id": "cell-b1ac578751969b78",
     "locked": false,
     "schema_version": 3,
     "solution": true
    }
   },
   "outputs": [
    {
     "name": "stderr",
     "output_type": "stream",
     "text": [
      "Warning message:\n",
      "“Removed 7 rows containing missing values (geom_point).”\n"
     ]
    },
    {
     "data": {
      "image/png": "[encoded data removed]",
      "text/plain": [
       "plot without title"
      ]
     },
     "metadata": {
      "image/png": {
       "height": 420,
       "width": 720
      }
     },
     "output_type": "display_data"
    }
   ],
   "source": [
    "options(repr.plot.width = 12, repr.plot.height = 7)\n",
    "\n",
    "#... <- ... %>% \n",
    "#    filter(... == ...) %>% \n",
    "#    ggplot(aes(x = ..., y = ...)) + \n",
    "#    geom_point() + \n",
    "#    xlab(...) + \n",
    "#    ylab(...) +\n",
    "#    theme(text = element_text(size=20))\n",
    "\n",
    "nov_temp_plot <- tidy_temp %>%\n",
    "    filter(Month == \"Nov\") %>%\n",
    "    ggplot(aes(x = Year, y = Temperature)) +\n",
    "    geom_point() +\n",
    "    xlab(\"Year\") +\n",
    "    ylab(\"Temperature (in degree Celsius)\") +\n",
    "    theme(text = element_text(size = 20))\n",
    "\n",
    "nov_temp_plot"
   ]
  },
  {
   "cell_type": "code",
   "execution_count": 98,
   "metadata": {
    "deletable": false,
    "editable": false,
    "nbgrader": {
     "cell_type": "code",
     "checksum": "633720c4a671cf10090f747fce20d584",
     "grade": true,
     "grade_id": "cell-8ddfbb3c8b82e695",
     "locked": true,
     "points": 1,
     "schema_version": 3,
     "solution": false
    }
   },
   "outputs": [
    {
     "name": "stdout",
     "output_type": "stream",
     "text": [
      "[1] \"Success!\"\n"
     ]
    }
   ],
   "source": [
    "test_2.5()"
   ]
  },
  {
   "cell_type": "markdown",
   "metadata": {
    "deletable": false,
    "editable": false,
    "nbgrader": {
     "cell_type": "markdown",
     "checksum": "bd5175a2be15c6dbd01118e54891da68",
     "grade": false,
     "grade_id": "cell-9de2b3c001bbe02d",
     "locked": true,
     "schema_version": 3,
     "solution": false,
     "task": false
    }
   },
   "source": [
    "We can see that there may be a small decrease in colder temperatures in recent years, and/or the temperatures in recent years look less variable compared to years before 1975. What about other months? Let's plot them! \n",
    "\n",
    "Instead of repeating the code above for the 11 other months, we'll take advantage of a `ggplot2` function that we haven't met yet, `facet_wrap`. We will learn more about this function next week, this week we will give you the code for it."
   ]
  },
  {
   "cell_type": "markdown",
   "metadata": {
    "deletable": false,
    "editable": false,
    "nbgrader": {
     "cell_type": "markdown",
     "checksum": "bcd8994e43fe728824738e23aba981fa",
     "grade": false,
     "grade_id": "cell-27e2c5089e6710ef",
     "locked": true,
     "schema_version": 3,
     "solution": false
    }
   },
   "source": [
    "**Question 2.6**\n",
    "<br> {points: 1}\n",
    "\n",
    "Fill in the missing code below to plot the average monthly sea surface temperatures to the year they were recorded for all months. Assign your answer to an object called `all_temp_plot`.\n",
    "\n",
    "> Hint: don't forget to include the units for temperature in your data visualization."
   ]
  },
  {
   "cell_type": "code",
   "execution_count": 99,
   "metadata": {
    "deletable": false,
    "nbgrader": {
     "cell_type": "code",
     "checksum": "bf5db981ab284aa9a46a71645cc60ff1",
     "grade": false,
     "grade_id": "cell-6a5d54a80ebdc73c",
     "locked": false,
     "schema_version": 3,
     "solution": true
    }
   },
   "outputs": [
    {
     "name": "stderr",
     "output_type": "stream",
     "text": [
      "Warning message:\n",
      "“Removed 86 rows containing missing values (geom_point).”\n"
     ]
    },
    {
     "data": {
      "image/png": "[encoded data removed]",
      "text/plain": [
       "plot without title"
      ]
     },
     "metadata": {
      "image/png": {
       "height": 480,
       "width": 840
      }
     },
     "output_type": "display_data"
    }
   ],
   "source": [
    "options(repr.plot.width = 14, repr.plot.height = 8)\n",
    "#... <- ... %>% \n",
    "#    ggplot(aes(x = ..., y = ...)) + \n",
    "#    geom_point() + \n",
    "#    facet_wrap(~ factor(Month, levels = c(\"Jan\",\"Feb\",\"Mar\",\"Apr\",\"May\",\"Jun\",\n",
    "#                                          \"Jul\",\"Aug\",\"Sep\",\"Oct\",\"Nov\",\"Dec\"))) +\n",
    "#    xlab(...) + \n",
    "#    ylab(...) +\n",
    "#    theme(text = element_text(size=20))\n",
    "\n",
    "all_temp_plot <- tidy_temp %>% \n",
    "    ggplot(aes(x = Year, y = Temperature)) + \n",
    "    geom_point() + \n",
    "    facet_wrap(~ factor(Month, levels = c(\"Jan\",\"Feb\",\"Mar\",\"Apr\",\"May\",\"Jun\",\n",
    "                                          \"Jul\",\"Aug\",\"Sep\",\"Oct\",\"Nov\",\"Dec\"))) +\n",
    "    xlab(\"Year\") + \n",
    "    ylab(\"Sea Surface Temperature (in degree Celsius)\") +\n",
    "    theme(text = element_text(size=20))\n",
    "\n",
    "all_temp_plot"
   ]
  },
  {
   "cell_type": "code",
   "execution_count": 100,
   "metadata": {
    "deletable": false,
    "editable": false,
    "nbgrader": {
     "cell_type": "code",
     "checksum": "964923f22dc559f667a23f4217efa1b7",
     "grade": true,
     "grade_id": "cell-4529c8b1eb657878",
     "locked": true,
     "points": 1,
     "schema_version": 3,
     "solution": false
    }
   },
   "outputs": [
    {
     "name": "stdout",
     "output_type": "stream",
     "text": [
      "[1] \"Success!\"\n"
     ]
    }
   ],
   "source": [
    "test_2.6()"
   ]
  },
  {
   "cell_type": "markdown",
   "metadata": {
    "deletable": false,
    "editable": false,
    "nbgrader": {
     "cell_type": "markdown",
     "checksum": "ae37273c57e7f7f4b8619bfe745f2ff5",
     "grade": false,
     "grade_id": "cell-5406840f482b0738",
     "locked": true,
     "schema_version": 3,
     "solution": false,
     "task": false
    }
   },
   "source": [
    "We can see above that some months show a small, but general increase in temperatures, whereas others don't. And some months show a change in variability and others do not. From this it is clear to us that if we are trying to understand temperature changes over time, we best keep data from different months separate."
   ]
  },
  {
   "cell_type": "markdown",
   "metadata": {
    "deletable": false,
    "editable": false,
    "nbgrader": {
     "cell_type": "markdown",
     "checksum": "d8218a3c7217edb9483fa20667e9d437",
     "grade": false,
     "grade_id": "cell-4fed26cd837beb2b",
     "locked": true,
     "schema_version": 3,
     "solution": false,
     "task": false
    }
   },
   "source": [
    "## 3. Pollution in Madrid\n",
    "We're working with a data set from Kaggle once again! [This data](https://www.kaggle.com/decide-soluciones/air-quality-madrid) was collected under the instructions from Madrid's City Council and is publicly available on their website. In recent years, high levels of pollution during certain dry periods has forced the authorities to take measures against the use of cars and act as a reasoning to propose certain regulations. This data includes daily and hourly measurements of air quality from 2001 to 2008. Pollutants are categorized based on their chemical properties.\n",
    "\n",
    "There are a number of stations set up around Madrid and each station's data frame contains all particle measurements that such station has registered from 01/2001 - 04/2008. Not every station has the same equipment, therefore each station can measure only a certain subset of particles. The complete list of possible measurements and their explanations are given by the website:\n",
    "\n",
    "- `SO_2`: sulphur dioxide level measured in μg/m³. High levels can produce irritation in the skin and membranes, and worsen asthma or heart diseases in sensitive groups.\n",
    "- `CO`: carbon monoxide level measured in mg/m³. Carbon monoxide poisoning involves headaches, dizziness and confusion in short exposures and can result in loss of consciousness, arrhythmias, seizures or even death.\n",
    "- `NO_2`: nitrogen dioxide level measured in μg/m³. Long-term exposure is a cause of chronic lung diseases, and are harmful for the vegetation.\n",
    "- `PM10`: particles smaller than 10 μm. Even though they cannot penetrate the alveolus, they can still penetrate through the lungs and affect other organs. Long term exposure can result in lung cancer and cardiovascular complications.\n",
    "- `NOx`: nitrous oxides level measured in μg/m³. Affect the human respiratory system worsening asthma or other diseases, and are responsible of the yellowish-brown color of photochemical smog.\n",
    "- `O_3`: ozone level measured in μg/m³. High levels can produce asthma, bronchytis or other chronic pulmonary diseases in sensitive groups or outdoor workers.\n",
    "- `TOL`: toluene (methylbenzene) level measured in μg/m³. Long-term exposure to this substance (present in tobacco smoke as well) can result in kidney complications or permanent brain damage.\n",
    "- `BEN`: benzene level measured in μg/m³. Benzene is a eye and skin irritant, and long exposures may result in several types of cancer, leukaemia and anaemias. Benzene is considered a group 1 carcinogenic to humans.\n",
    "- `EBE`: ethylbenzene level measured in μg/m³. Long term exposure can cause hearing or kidney problems and the IARC has concluded that long-term exposure can produce cancer.\n",
    "- `MXY`: m-xylene level measured in μg/m³. Xylenes can affect not only air but also water and soil, and a long exposure to high levels of xylenes can result in diseases affecting the liver, kidney and nervous system.\n",
    "- `PXY`: p-xylene level measured in μg/m³. See MXY for xylene exposure effects on health.\n",
    "- `OXY`: o-xylene level measured in μg/m³. See MXY for xylene exposure effects on health.\n",
    "- `TCH`: total hydrocarbons level measured in mg/m³. This group of substances can be responsible of different blood, immune system, liver, spleen, kidneys or lung diseases.\n",
    "- `NMHC`: non-methane hydrocarbons (volatile organic compounds) level measured in mg/m³. Long exposure to some of these substances can result in damage to the liver, kidney, and central nervous system. Some of them are suspected to cause cancer in humans."
   ]
  },
  {
   "cell_type": "markdown",
   "metadata": {
    "deletable": false,
    "editable": false,
    "nbgrader": {
     "cell_type": "markdown",
     "checksum": "7ae6419d92c15b3cdd292ac8c76868bf",
     "grade": false,
     "grade_id": "cell-892f43f18911d0ba",
     "locked": true,
     "schema_version": 3,
     "solution": false,
     "task": false
    }
   },
   "source": [
    "The goal of this assignment is to see if pollutants are decreasing (is air quality improving) and also compare which pollutant has decreased the most over the span of 5 years (2001 - 2006). \n",
    "1. First do a plot of one of the pollutants (EBE). \n",
    "2. Next, group it by month and year; calculate the maximum value and plot it (to see the trend through time). \n",
    "3. Now we will look at which pollutant decreased the most. Repeat the same thing for every column - to speed up the process, use the `map()` function. First we will look at pollution in 2001 (get the maximum value for each of the pollutants). And then do the same for 2006. "
   ]
  },
  {
   "cell_type": "markdown",
   "metadata": {
    "deletable": false,
    "editable": false,
    "nbgrader": {
     "cell_type": "markdown",
     "checksum": "e311d83737d4b352f7c251cba753bea2",
     "grade": false,
     "grade_id": "cell-a99486a2f16469ae",
     "locked": true,
     "schema_version": 3,
     "solution": false
    }
   },
   "source": [
    "**Question 3.1** Multiple Choice: \n",
    "<br> {points: 1}\n",
    "\n",
    "What big picture question are we trying to answer?\n",
    "\n",
    "A. Did EBE decrease in Madrid between 2001 and 2006?\n",
    "\n",
    "B. Of all the pollutants, which decreased the most between 2001 and 2006? \n",
    "\n",
    "C. Of all the pollutants, which decreased the least between 2001 and 2006?\n",
    "\n",
    "D. Did EBE increase in Madrid between 2001 and 2006?\n",
    "\n",
    "*Assign your answer to an object called `answer3.1`. Make sure your answer is an uppercase letter and is surrounded by quotation marks (e.g. `\"F\"`).*"
   ]
  },
  {
   "cell_type": "code",
   "execution_count": 101,
   "metadata": {
    "deletable": false,
    "nbgrader": {
     "cell_type": "code",
     "checksum": "ef0cd09d143de2057de811dd39b491bc",
     "grade": false,
     "grade_id": "cell-fffa52c5bf768a43",
     "locked": false,
     "schema_version": 3,
     "solution": true
    }
   },
   "outputs": [],
   "source": [
    "# Replace the fail() with your answer. \n",
    "\n",
    "answer3.1 <- \"B\""
   ]
  },
  {
   "cell_type": "code",
   "execution_count": 102,
   "metadata": {
    "deletable": false,
    "editable": false,
    "nbgrader": {
     "cell_type": "code",
     "checksum": "52f65805107a8a48fc3640016a77a212",
     "grade": true,
     "grade_id": "cell-d67db6d2cd3971aa",
     "locked": true,
     "points": 1,
     "schema_version": 3,
     "solution": false
    }
   },
   "outputs": [
    {
     "name": "stdout",
     "output_type": "stream",
     "text": [
      "[1] \"Success!\"\n"
     ]
    }
   ],
   "source": [
    "test_3.1()"
   ]
  },
  {
   "cell_type": "markdown",
   "metadata": {
    "deletable": false,
    "editable": false,
    "nbgrader": {
     "cell_type": "markdown",
     "checksum": "99f7e0842375a608c58907b7a33ab732",
     "grade": false,
     "grade_id": "cell-beefc03e5d6c203d",
     "locked": true,
     "schema_version": 3,
     "solution": false
    }
   },
   "source": [
    "**Question 3.2** \n",
    "<br> {points: 1}\n",
    "\n",
    "To begin working with this data, read the file `madrid_pollution.csv`. Note, this file (just like the avocado and sea surface data set) is found in the `worksheet_03` directory. \n",
    "\n",
    "*Assign your answer to an object called `madrid`.* "
   ]
  },
  {
   "cell_type": "code",
   "execution_count": 103,
   "metadata": {
    "deletable": false,
    "nbgrader": {
     "cell_type": "code",
     "checksum": "decaa8c52f915536511884a665d29eeb",
     "grade": false,
     "grade_id": "cell-7f7939bcc9bebde2",
     "locked": false,
     "schema_version": 3,
     "solution": true
    }
   },
   "outputs": [
    {
     "name": "stderr",
     "output_type": "stream",
     "text": [
      "Parsed with column specification:\n",
      "cols(\n",
      "  date = \u001b[34mcol_datetime(format = \"\")\u001b[39m,\n",
      "  BEN = \u001b[32mcol_double()\u001b[39m,\n",
      "  CO = \u001b[32mcol_double()\u001b[39m,\n",
      "  EBE = \u001b[32mcol_double()\u001b[39m,\n",
      "  MXY = \u001b[32mcol_double()\u001b[39m,\n",
      "  NMHC = \u001b[32mcol_double()\u001b[39m,\n",
      "  NO_2 = \u001b[32mcol_double()\u001b[39m,\n",
      "  NOx = \u001b[32mcol_double()\u001b[39m,\n",
      "  OXY = \u001b[32mcol_double()\u001b[39m,\n",
      "  O_3 = \u001b[32mcol_double()\u001b[39m,\n",
      "  PM10 = \u001b[32mcol_double()\u001b[39m,\n",
      "  PXY = \u001b[32mcol_double()\u001b[39m,\n",
      "  SO_2 = \u001b[32mcol_double()\u001b[39m,\n",
      "  TCH = \u001b[32mcol_double()\u001b[39m,\n",
      "  TOL = \u001b[32mcol_double()\u001b[39m,\n",
      "  year = \u001b[32mcol_double()\u001b[39m,\n",
      "  mnth = \u001b[31mcol_character()\u001b[39m\n",
      ")\n",
      "\n"
     ]
    },
    {
     "data": {
      "text/html": [
       "<table>\n",
       "<caption>A spec_tbl_df: 51864 × 17</caption>\n",
       "<thead>\n",
       "\t<tr><th scope=col>date</th><th scope=col>BEN</th><th scope=col>CO</th><th scope=col>EBE</th><th scope=col>MXY</th><th scope=col>NMHC</th><th scope=col>NO_2</th><th scope=col>NOx</th><th scope=col>OXY</th><th scope=col>O_3</th><th scope=col>PM10</th><th scope=col>PXY</th><th scope=col>SO_2</th><th scope=col>TCH</th><th scope=col>TOL</th><th scope=col>year</th><th scope=col>mnth</th></tr>\n",
       "\t<tr><th scope=col>&lt;dttm&gt;</th><th scope=col>&lt;dbl&gt;</th><th scope=col>&lt;dbl&gt;</th><th scope=col>&lt;dbl&gt;</th><th scope=col>&lt;dbl&gt;</th><th scope=col>&lt;dbl&gt;</th><th scope=col>&lt;dbl&gt;</th><th scope=col>&lt;dbl&gt;</th><th scope=col>&lt;dbl&gt;</th><th scope=col>&lt;dbl&gt;</th><th scope=col>&lt;dbl&gt;</th><th scope=col>&lt;dbl&gt;</th><th scope=col>&lt;dbl&gt;</th><th scope=col>&lt;dbl&gt;</th><th scope=col>&lt;dbl&gt;</th><th scope=col>&lt;dbl&gt;</th><th scope=col>&lt;chr&gt;</th></tr>\n",
       "</thead>\n",
       "<tbody>\n",
       "\t<tr><td>2001-08-01 01:00:00</td><td>1.50</td><td>0.34</td><td>1.49</td><td>4.10</td><td>0.07</td><td>56.25</td><td>75.17</td><td>2.11</td><td>42.16</td><td>100.60</td><td>1.73</td><td>8.11</td><td>1.24</td><td>10.82</td><td>2001</td><td>August</td></tr>\n",
       "\t<tr><td>2001-08-01 02:00:00</td><td>0.87</td><td>0.06</td><td>0.88</td><td>2.41</td><td>0.01</td><td>29.71</td><td>31.44</td><td>1.20</td><td>56.52</td><td> 56.29</td><td>1.02</td><td>6.90</td><td>1.17</td><td> 6.49</td><td>2001</td><td>August</td></tr>\n",
       "\t<tr><td>2001-08-01 03:00:00</td><td>0.66</td><td>0.02</td><td>0.61</td><td>1.60</td><td>0.01</td><td>22.75</td><td>22.46</td><td>0.80</td><td>64.06</td><td> 36.65</td><td>0.69</td><td>6.59</td><td>1.17</td><td> 6.37</td><td>2001</td><td>August</td></tr>\n",
       "\t<tr><td>⋮</td><td>⋮</td><td>⋮</td><td>⋮</td><td>⋮</td><td>⋮</td><td>⋮</td><td>⋮</td><td>⋮</td><td>⋮</td><td>⋮</td><td>⋮</td><td>⋮</td><td>⋮</td><td>⋮</td><td>⋮</td><td>⋮</td></tr>\n",
       "\t<tr><td>2006-04-30 22:00:00</td><td>0.88</td><td>0.52</td><td>0.66</td><td>1.71</td><td>0.24</td><td>87.02</td><td> 93.67</td><td>0.84</td><td>21.93</td><td>66.77</td><td>0.74</td><td>6.19</td><td>1.35</td><td>2.96</td><td>2006</td><td>April</td></tr>\n",
       "\t<tr><td>2006-04-30 23:00:00</td><td>1.24</td><td>0.57</td><td>1.03</td><td>2.58</td><td>0.24</td><td>91.36</td><td>100.40</td><td>1.29</td><td>13.17</td><td>56.61</td><td>1.14</td><td>6.34</td><td>1.36</td><td>4.97</td><td>2006</td><td>April</td></tr>\n",
       "\t<tr><td>2006-05-01 00:00:00</td><td>1.26</td><td>0.60</td><td>1.09</td><td>2.95</td><td>0.27</td><td>98.05</td><td>129.30</td><td>1.52</td><td> 9.34</td><td>45.61</td><td>1.24</td><td>6.98</td><td>1.41</td><td>5.95</td><td>2006</td><td>May  </td></tr>\n",
       "</tbody>\n",
       "</table>\n"
      ],
      "text/latex": [
       "A spec\\_tbl\\_df: 51864 × 17\n",
       "\\begin{tabular}{lllllllllllllllll}\n",
       " date & BEN & CO & EBE & MXY & NMHC & NO\\_2 & NOx & OXY & O\\_3 & PM10 & PXY & SO\\_2 & TCH & TOL & year & mnth\\\\\n",
       " <dttm> & <dbl> & <dbl> & <dbl> & <dbl> & <dbl> & <dbl> & <dbl> & <dbl> & <dbl> & <dbl> & <dbl> & <dbl> & <dbl> & <dbl> & <dbl> & <chr>\\\\\n",
       "\\hline\n",
       "\t 2001-08-01 01:00:00 & 1.50 & 0.34 & 1.49 & 4.10 & 0.07 & 56.25 & 75.17 & 2.11 & 42.16 & 100.60 & 1.73 & 8.11 & 1.24 & 10.82 & 2001 & August\\\\\n",
       "\t 2001-08-01 02:00:00 & 0.87 & 0.06 & 0.88 & 2.41 & 0.01 & 29.71 & 31.44 & 1.20 & 56.52 &  56.29 & 1.02 & 6.90 & 1.17 &  6.49 & 2001 & August\\\\\n",
       "\t 2001-08-01 03:00:00 & 0.66 & 0.02 & 0.61 & 1.60 & 0.01 & 22.75 & 22.46 & 0.80 & 64.06 &  36.65 & 0.69 & 6.59 & 1.17 &  6.37 & 2001 & August\\\\\n",
       "\t ⋮ & ⋮ & ⋮ & ⋮ & ⋮ & ⋮ & ⋮ & ⋮ & ⋮ & ⋮ & ⋮ & ⋮ & ⋮ & ⋮ & ⋮ & ⋮ & ⋮\\\\\n",
       "\t 2006-04-30 22:00:00 & 0.88 & 0.52 & 0.66 & 1.71 & 0.24 & 87.02 &  93.67 & 0.84 & 21.93 & 66.77 & 0.74 & 6.19 & 1.35 & 2.96 & 2006 & April\\\\\n",
       "\t 2006-04-30 23:00:00 & 1.24 & 0.57 & 1.03 & 2.58 & 0.24 & 91.36 & 100.40 & 1.29 & 13.17 & 56.61 & 1.14 & 6.34 & 1.36 & 4.97 & 2006 & April\\\\\n",
       "\t 2006-05-01 00:00:00 & 1.26 & 0.60 & 1.09 & 2.95 & 0.27 & 98.05 & 129.30 & 1.52 &  9.34 & 45.61 & 1.24 & 6.98 & 1.41 & 5.95 & 2006 & May  \\\\\n",
       "\\end{tabular}\n"
      ],
      "text/markdown": [
       "\n",
       "A spec_tbl_df: 51864 × 17\n",
       "\n",
       "| date &lt;dttm&gt; | BEN &lt;dbl&gt; | CO &lt;dbl&gt; | EBE &lt;dbl&gt; | MXY &lt;dbl&gt; | NMHC &lt;dbl&gt; | NO_2 &lt;dbl&gt; | NOx &lt;dbl&gt; | OXY &lt;dbl&gt; | O_3 &lt;dbl&gt; | PM10 &lt;dbl&gt; | PXY &lt;dbl&gt; | SO_2 &lt;dbl&gt; | TCH &lt;dbl&gt; | TOL &lt;dbl&gt; | year &lt;dbl&gt; | mnth &lt;chr&gt; |\n",
       "|---|---|---|---|---|---|---|---|---|---|---|---|---|---|---|---|---|\n",
       "| 2001-08-01 01:00:00 | 1.50 | 0.34 | 1.49 | 4.10 | 0.07 | 56.25 | 75.17 | 2.11 | 42.16 | 100.60 | 1.73 | 8.11 | 1.24 | 10.82 | 2001 | August |\n",
       "| 2001-08-01 02:00:00 | 0.87 | 0.06 | 0.88 | 2.41 | 0.01 | 29.71 | 31.44 | 1.20 | 56.52 |  56.29 | 1.02 | 6.90 | 1.17 |  6.49 | 2001 | August |\n",
       "| 2001-08-01 03:00:00 | 0.66 | 0.02 | 0.61 | 1.60 | 0.01 | 22.75 | 22.46 | 0.80 | 64.06 |  36.65 | 0.69 | 6.59 | 1.17 |  6.37 | 2001 | August |\n",
       "| ⋮ | ⋮ | ⋮ | ⋮ | ⋮ | ⋮ | ⋮ | ⋮ | ⋮ | ⋮ | ⋮ | ⋮ | ⋮ | ⋮ | ⋮ | ⋮ | ⋮ |\n",
       "| 2006-04-30 22:00:00 | 0.88 | 0.52 | 0.66 | 1.71 | 0.24 | 87.02 |  93.67 | 0.84 | 21.93 | 66.77 | 0.74 | 6.19 | 1.35 | 2.96 | 2006 | April |\n",
       "| 2006-04-30 23:00:00 | 1.24 | 0.57 | 1.03 | 2.58 | 0.24 | 91.36 | 100.40 | 1.29 | 13.17 | 56.61 | 1.14 | 6.34 | 1.36 | 4.97 | 2006 | April |\n",
       "| 2006-05-01 00:00:00 | 1.26 | 0.60 | 1.09 | 2.95 | 0.27 | 98.05 | 129.30 | 1.52 |  9.34 | 45.61 | 1.24 | 6.98 | 1.41 | 5.95 | 2006 | May   |\n",
       "\n"
      ],
      "text/plain": [
       "      date                BEN  CO   EBE  MXY  NMHC NO_2  NOx    OXY  O_3  \n",
       "1     2001-08-01 01:00:00 1.50 0.34 1.49 4.10 0.07 56.25 75.17  2.11 42.16\n",
       "2     2001-08-01 02:00:00 0.87 0.06 0.88 2.41 0.01 29.71 31.44  1.20 56.52\n",
       "3     2001-08-01 03:00:00 0.66 0.02 0.61 1.60 0.01 22.75 22.46  0.80 64.06\n",
       "⋮     ⋮                   ⋮    ⋮    ⋮    ⋮    ⋮    ⋮     ⋮      ⋮    ⋮    \n",
       "51862 2006-04-30 22:00:00 0.88 0.52 0.66 1.71 0.24 87.02  93.67 0.84 21.93\n",
       "51863 2006-04-30 23:00:00 1.24 0.57 1.03 2.58 0.24 91.36 100.40 1.29 13.17\n",
       "51864 2006-05-01 00:00:00 1.26 0.60 1.09 2.95 0.27 98.05 129.30 1.52  9.34\n",
       "      PM10   PXY  SO_2 TCH  TOL   year mnth  \n",
       "1     100.60 1.73 8.11 1.24 10.82 2001 August\n",
       "2      56.29 1.02 6.90 1.17  6.49 2001 August\n",
       "3      36.65 0.69 6.59 1.17  6.37 2001 August\n",
       "⋮     ⋮      ⋮    ⋮    ⋮    ⋮     ⋮    ⋮     \n",
       "51862 66.77  0.74 6.19 1.35 2.96  2006 April \n",
       "51863 56.61  1.14 6.34 1.36 4.97  2006 April \n",
       "51864 45.61  1.24 6.98 1.41 5.95  2006 May   "
      ]
     },
     "metadata": {},
     "output_type": "display_data"
    }
   ],
   "source": [
    "# your code here\n",
    "madrid <- read_delim(\"data/madrid_pollution.csv\", delim = \"\\t\")\n",
    "madrid"
   ]
  },
  {
   "cell_type": "code",
   "execution_count": 104,
   "metadata": {
    "deletable": false,
    "editable": false,
    "nbgrader": {
     "cell_type": "code",
     "checksum": "73a7b9e47f4fa038015d58838df36ba0",
     "grade": true,
     "grade_id": "cell-902507dc58ec5428",
     "locked": true,
     "points": 1,
     "schema_version": 3,
     "solution": false
    }
   },
   "outputs": [
    {
     "name": "stdout",
     "output_type": "stream",
     "text": [
      "[1] \"Success!\"\n"
     ]
    }
   ],
   "source": [
    "test_3.2()"
   ]
  },
  {
   "cell_type": "markdown",
   "metadata": {
    "deletable": false,
    "editable": false,
    "nbgrader": {
     "cell_type": "markdown",
     "checksum": "d8bafda006ad3f30c5961db98a120a68",
     "grade": false,
     "grade_id": "cell-da06d5b257b928f0",
     "locked": true,
     "schema_version": 3,
     "solution": false
    }
   },
   "source": [
    "**Question 3.3**\n",
    "<br> {points: 1}\n",
    "\n",
    "Now that the data is loaded in R, create a scatter plot that compares ethylbenzene (`EBE`) values against the date they were recorded. This graph will showcase the concentration of ethylbenzene in Madrid over time. As usual, label your axes: \n",
    "\n",
    "- x = Date\n",
    "- y = Ethylbenzene (μg/m³)\n",
    "\n",
    "*Assign your answer to an object called `EBE_pollution`.*"
   ]
  },
  {
   "cell_type": "code",
   "execution_count": 105,
   "metadata": {
    "deletable": false,
    "nbgrader": {
     "cell_type": "code",
     "checksum": "7664b92c901435f283b0579b4423a413",
     "grade": false,
     "grade_id": "cell-14614015f46ccfff",
     "locked": false,
     "schema_version": 3,
     "solution": true
    }
   },
   "outputs": [
    {
     "name": "stderr",
     "output_type": "stream",
     "text": [
      "Warning message:\n",
      "“Removed 1317 rows containing missing values (geom_point).”\n"
     ]
    },
    {
     "data": {
      "image/png": "[encoded data removed]",
      "text/plain": [
       "plot without title"
      ]
     },
     "metadata": {
      "image/png": {
       "height": 420,
       "width": 780
      }
     },
     "output_type": "display_data"
    }
   ],
   "source": [
    "options(repr.plot.width = 13, repr.plot.height = 7)\n",
    "\n",
    "EBE_pollution <- madrid %>%\n",
    "    ggplot(aes(x = date, y = EBE)) +\n",
    "    geom_point() +\n",
    "    xlab(\"Date\") +\n",
    "    ylab(\"Ethylbenzene (μg/m³)\")\n",
    "\n",
    "EBE_pollution\n",
    "\n",
    "# Are levels increasing or decreasing?\n",
    "# Decreasing"
   ]
  },
  {
   "cell_type": "code",
   "execution_count": 106,
   "metadata": {
    "deletable": false,
    "editable": false,
    "nbgrader": {
     "cell_type": "code",
     "checksum": "0fb7263a512a25f8a83b1bfc6f7d29a5",
     "grade": true,
     "grade_id": "cell-4de75a47d9cc2dca",
     "locked": true,
     "points": 1,
     "schema_version": 3,
     "solution": false
    }
   },
   "outputs": [
    {
     "name": "stdout",
     "output_type": "stream",
     "text": [
      "[1] \"Success!\"\n"
     ]
    }
   ],
   "source": [
    "test_3.3()"
   ]
  },
  {
   "cell_type": "markdown",
   "metadata": {
    "deletable": false,
    "editable": false,
    "nbgrader": {
     "cell_type": "markdown",
     "checksum": "b658b04f5daef6e4549c08a50bdfd2f3",
     "grade": false,
     "grade_id": "cell-112c1b3ac6b6c720",
     "locked": true,
     "schema_version": 3,
     "solution": false,
     "task": false
    }
   },
   "source": [
    "We can see from this plot that over time, there are less and less high (> 25 μg/m³) EBE values."
   ]
  },
  {
   "cell_type": "markdown",
   "metadata": {
    "deletable": false,
    "editable": false,
    "nbgrader": {
     "cell_type": "markdown",
     "checksum": "702b212febb4a1763174a2d68d4d9776",
     "grade": false,
     "grade_id": "cell-648260c1e625b576",
     "locked": true,
     "schema_version": 3,
     "solution": false
    }
   },
   "source": [
    "**Question 3.4**\n",
    "<br> {points: 1}\n",
    "\n",
    "The question above asks you to write out code that allows visualization of all EBE recordings - which are taken every single hour of every day. Consequently the graph consists of many points and appears densely plotted. In this question, we are going to clean up the graph and focus on max EBE readings from each month. To further investigate if this trend is changing over time, we will use `group_by` and `summarize` to create a new data set.\n",
    "\n",
    "Fill in the `...` in the cell below. Copy and paste your finished answer and replace the `fail()`.\n",
    "\n",
    "*Assign your answer to an object called `madrid_pollution`.*"
   ]
  },
  {
   "cell_type": "code",
   "execution_count": 107,
   "metadata": {
    "deletable": false,
    "nbgrader": {
     "cell_type": "code",
     "checksum": "1279b87ac6ea59a39b329343840efc4b",
     "grade": false,
     "grade_id": "cell-dbd1c81ead522ff6",
     "locked": false,
     "schema_version": 3,
     "solution": true
    }
   },
   "outputs": [
    {
     "name": "stderr",
     "output_type": "stream",
     "text": [
      "`summarise()` regrouping output by 'year' (override with `.groups` argument)\n",
      "\n"
     ]
    },
    {
     "data": {
      "text/html": [
       "<table>\n",
       "<caption>A grouped_df: 72 × 3</caption>\n",
       "<thead>\n",
       "\t<tr><th scope=col>year</th><th scope=col>mnth</th><th scope=col>max_ebe</th></tr>\n",
       "\t<tr><th scope=col>&lt;dbl&gt;</th><th scope=col>&lt;chr&gt;</th><th scope=col>&lt;dbl&gt;</th></tr>\n",
       "</thead>\n",
       "<tbody>\n",
       "\t<tr><td>2001</td><td>April   </td><td>12.48</td></tr>\n",
       "\t<tr><td>2001</td><td>August  </td><td> 8.39</td></tr>\n",
       "\t<tr><td>2001</td><td>December</td><td>77.26</td></tr>\n",
       "\t<tr><td>⋮</td><td>⋮</td><td>⋮</td></tr>\n",
       "\t<tr><td>2006</td><td>November </td><td>12.38</td></tr>\n",
       "\t<tr><td>2006</td><td>October  </td><td>19.75</td></tr>\n",
       "\t<tr><td>2006</td><td>September</td><td>12.56</td></tr>\n",
       "</tbody>\n",
       "</table>\n"
      ],
      "text/latex": [
       "A grouped\\_df: 72 × 3\n",
       "\\begin{tabular}{lll}\n",
       " year & mnth & max\\_ebe\\\\\n",
       " <dbl> & <chr> & <dbl>\\\\\n",
       "\\hline\n",
       "\t 2001 & April    & 12.48\\\\\n",
       "\t 2001 & August   &  8.39\\\\\n",
       "\t 2001 & December & 77.26\\\\\n",
       "\t ⋮ & ⋮ & ⋮\\\\\n",
       "\t 2006 & November  & 12.38\\\\\n",
       "\t 2006 & October   & 19.75\\\\\n",
       "\t 2006 & September & 12.56\\\\\n",
       "\\end{tabular}\n"
      ],
      "text/markdown": [
       "\n",
       "A grouped_df: 72 × 3\n",
       "\n",
       "| year &lt;dbl&gt; | mnth &lt;chr&gt; | max_ebe &lt;dbl&gt; |\n",
       "|---|---|---|\n",
       "| 2001 | April    | 12.48 |\n",
       "| 2001 | August   |  8.39 |\n",
       "| 2001 | December | 77.26 |\n",
       "| ⋮ | ⋮ | ⋮ |\n",
       "| 2006 | November  | 12.38 |\n",
       "| 2006 | October   | 19.75 |\n",
       "| 2006 | September | 12.56 |\n",
       "\n"
      ],
      "text/plain": [
       "   year mnth      max_ebe\n",
       "1  2001 April     12.48  \n",
       "2  2001 August     8.39  \n",
       "3  2001 December  77.26  \n",
       "⋮  ⋮    ⋮         ⋮      \n",
       "70 2006 November  12.38  \n",
       "71 2006 October   19.75  \n",
       "72 2006 September 12.56  "
      ]
     },
     "metadata": {},
     "output_type": "display_data"
    }
   ],
   "source": [
    "# ... <- ... %>%\n",
    "#     group_by(year, ...) %>%\n",
    "#     ...(max_ebe = max(EBE, na.rm = TRUE))\n",
    "\n",
    "madrid_pollution <- madrid %>%\n",
    "    group_by(year, mnth) %>%\n",
    "    summarize(max_ebe = max(EBE, na.rm = TRUE))\n",
    "\n",
    "madrid_pollution"
   ]
  },
  {
   "cell_type": "code",
   "execution_count": 108,
   "metadata": {
    "deletable": false,
    "editable": false,
    "nbgrader": {
     "cell_type": "code",
     "checksum": "941edf34a49f1655913fabc91b70c74d",
     "grade": true,
     "grade_id": "cell-d04ca4acf0f5f6bc",
     "locked": true,
     "points": 1,
     "schema_version": 3,
     "solution": false
    }
   },
   "outputs": [
    {
     "name": "stdout",
     "output_type": "stream",
     "text": [
      "[1] \"Success!\"\n"
     ]
    }
   ],
   "source": [
    "test_3.4()"
   ]
  },
  {
   "cell_type": "markdown",
   "metadata": {
    "deletable": false,
    "editable": false,
    "nbgrader": {
     "cell_type": "markdown",
     "checksum": "c43479b5983b707594d3eb0d6ac3a15c",
     "grade": false,
     "grade_id": "cell-7275e7512b1bd674",
     "locked": true,
     "schema_version": 3,
     "solution": false
    }
   },
   "source": [
    "**Question 3.5**\n",
    "<br> {points: 1}\n",
    "\n",
    "Plot the new maximum EBE values versus the month they were recorded, split into side-by-side plots for each year. Again, we will use facetting (this time with `facet_grid`, more on this next week) to plot each year side-by-side. We will also use the `theme` function to rotate the axis labels to make them more readable (more on this is coming next week too!).\n",
    "\n",
    "*Assign your answer to an object called `madrid_plot`. Remember to label your axes.*"
   ]
  },
  {
   "cell_type": "code",
   "execution_count": 109,
   "metadata": {
    "deletable": false,
    "nbgrader": {
     "cell_type": "code",
     "checksum": "5c435ea52db8a52393b21c1d94f48c0c",
     "grade": false,
     "grade_id": "cell-a406232e78b0e3ab",
     "locked": false,
     "schema_version": 3,
     "solution": true
    }
   },
   "outputs": [
    {
     "data": {
      "image/png": "[encoded data removed]",
      "text/plain": [
       "plot without title"
      ]
     },
     "metadata": {
      "image/png": {
       "height": 420,
       "width": 780
      }
     },
     "output_type": "display_data"
    }
   ],
   "source": [
    "#... <- ... %>%\n",
    "#    ggplot(aes(x = ..., y = ...)) + \n",
    "#    geom_point() +\n",
    "#    xlab(...) + \n",
    "#    ylab(...) +\n",
    "#    facet_grid(~ year) +\n",
    "#    theme(axis.text.x = element_text(angle = 90, hjust = 1)) +\n",
    "#    theme(text = element_text(size=20))\n",
    "\n",
    "madrid_plot <- madrid_pollution %>%\n",
    "    ggplot(aes(x = mnth, y = max_ebe)) + \n",
    "    geom_point() +\n",
    "    xlab(\"Month\") + \n",
    "    ylab(\"Max Ethylbenzene (μg/m³)\") +\n",
    "    facet_grid(~ year) +\n",
    "    theme(axis.text.x = element_text(angle = 90, hjust = 1)) +\n",
    "    theme(text = element_text(size=20))\n",
    "\n",
    "madrid_plot"
   ]
  },
  {
   "cell_type": "code",
   "execution_count": 110,
   "metadata": {
    "deletable": false,
    "editable": false,
    "nbgrader": {
     "cell_type": "code",
     "checksum": "d7bc589a1e2bad980403b568ad7dc65f",
     "grade": true,
     "grade_id": "cell-b12cea24ac607772",
     "locked": true,
     "points": 1,
     "schema_version": 3,
     "solution": false
    }
   },
   "outputs": [
    {
     "name": "stdout",
     "output_type": "stream",
     "text": [
      "[1] \"Success!\"\n"
     ]
    }
   ],
   "source": [
    "test_3.5()"
   ]
  },
  {
   "cell_type": "markdown",
   "metadata": {
    "deletable": false,
    "editable": false,
    "nbgrader": {
     "cell_type": "markdown",
     "checksum": "aed445f91369da7e6cd460d230988562",
     "grade": false,
     "grade_id": "cell-f8e81164975da6e9",
     "locked": true,
     "schema_version": 3,
     "solution": false
    }
   },
   "source": [
    "**Question 3.6**\n",
    "<br> {points: 1}\n",
    "\n",
    "Now we want to see which of the pollutants has decreased the most. Therefore, we must repeat the same thing that we did in the questions above but for every pollutant (using the original data set)! This is where `purrr`'s `map*` functions can be really helpful! \n",
    "\n",
    "First we will look at Madrid pollution in 2001 (filter for this year). Next we have to select the columns that should be excluded (such as the date). Lastly, use the `map_df()` function to create max values for all columns.\n",
    "\n",
    "Fill in the `...` in the cell below. Copy and paste your finished answer and replace the `fail()`.\n",
    "\n",
    "*Assign your answer to an object called `pollution_2001`.*"
   ]
  },
  {
   "cell_type": "code",
   "execution_count": 111,
   "metadata": {
    "deletable": false,
    "nbgrader": {
     "cell_type": "code",
     "checksum": "a71402298534fa1b674d448d29e056a8",
     "grade": false,
     "grade_id": "cell-be1574acc60b53e9",
     "locked": false,
     "schema_version": 3,
     "solution": true
    }
   },
   "outputs": [
    {
     "data": {
      "text/html": [
       "<table>\n",
       "<caption>A tibble: 8759 × 14</caption>\n",
       "<thead>\n",
       "\t<tr><th scope=col>BEN</th><th scope=col>CO</th><th scope=col>EBE</th><th scope=col>MXY</th><th scope=col>NMHC</th><th scope=col>NO_2</th><th scope=col>NOx</th><th scope=col>OXY</th><th scope=col>O_3</th><th scope=col>PM10</th><th scope=col>PXY</th><th scope=col>SO_2</th><th scope=col>TCH</th><th scope=col>TOL</th></tr>\n",
       "\t<tr><th scope=col>&lt;dbl&gt;</th><th scope=col>&lt;dbl&gt;</th><th scope=col>&lt;dbl&gt;</th><th scope=col>&lt;dbl&gt;</th><th scope=col>&lt;dbl&gt;</th><th scope=col>&lt;dbl&gt;</th><th scope=col>&lt;dbl&gt;</th><th scope=col>&lt;dbl&gt;</th><th scope=col>&lt;dbl&gt;</th><th scope=col>&lt;dbl&gt;</th><th scope=col>&lt;dbl&gt;</th><th scope=col>&lt;dbl&gt;</th><th scope=col>&lt;dbl&gt;</th><th scope=col>&lt;dbl&gt;</th></tr>\n",
       "</thead>\n",
       "<tbody>\n",
       "\t<tr><td>1.50</td><td>0.34</td><td>1.49</td><td>4.10</td><td>0.07</td><td>56.25</td><td>75.17</td><td>2.11</td><td>42.16</td><td>100.60</td><td>1.73</td><td>8.11</td><td>1.24</td><td>10.82</td></tr>\n",
       "\t<tr><td>0.87</td><td>0.06</td><td>0.88</td><td>2.41</td><td>0.01</td><td>29.71</td><td>31.44</td><td>1.20</td><td>56.52</td><td> 56.29</td><td>1.02</td><td>6.90</td><td>1.17</td><td> 6.49</td></tr>\n",
       "\t<tr><td>0.66</td><td>0.02</td><td>0.61</td><td>1.60</td><td>0.01</td><td>22.75</td><td>22.46</td><td>0.80</td><td>64.06</td><td> 36.65</td><td>0.69</td><td>6.59</td><td>1.17</td><td> 6.37</td></tr>\n",
       "\t<tr><td>⋮</td><td>⋮</td><td>⋮</td><td>⋮</td><td>⋮</td><td>⋮</td><td>⋮</td><td>⋮</td><td>⋮</td><td>⋮</td><td>⋮</td><td>⋮</td><td>⋮</td><td>⋮</td></tr>\n",
       "\t<tr><td>1.67</td><td>1.28</td><td>1.28</td><td> 3.15</td><td>0.24</td><td>60.34</td><td>109.5</td><td>1.46</td><td>7.61</td><td>61.03</td><td>1.25</td><td>14.31</td><td>1.43</td><td> 7.26</td></tr>\n",
       "\t<tr><td>4.92</td><td>1.74</td><td>4.19</td><td>10.20</td><td>0.34</td><td>62.97</td><td>183.6</td><td>4.67</td><td>6.66</td><td>42.29</td><td>3.96</td><td>17.19</td><td>1.56</td><td>22.08</td></tr>\n",
       "\t<tr><td>5.86</td><td>1.22</td><td>5.66</td><td>13.71</td><td>0.25</td><td>64.37</td><td>218.3</td><td>6.46</td><td>7.48</td><td>17.57</td><td>5.48</td><td>16.83</td><td>1.46</td><td>27.91</td></tr>\n",
       "</tbody>\n",
       "</table>\n"
      ],
      "text/latex": [
       "A tibble: 8759 × 14\n",
       "\\begin{tabular}{llllllllllllll}\n",
       " BEN & CO & EBE & MXY & NMHC & NO\\_2 & NOx & OXY & O\\_3 & PM10 & PXY & SO\\_2 & TCH & TOL\\\\\n",
       " <dbl> & <dbl> & <dbl> & <dbl> & <dbl> & <dbl> & <dbl> & <dbl> & <dbl> & <dbl> & <dbl> & <dbl> & <dbl> & <dbl>\\\\\n",
       "\\hline\n",
       "\t 1.50 & 0.34 & 1.49 & 4.10 & 0.07 & 56.25 & 75.17 & 2.11 & 42.16 & 100.60 & 1.73 & 8.11 & 1.24 & 10.82\\\\\n",
       "\t 0.87 & 0.06 & 0.88 & 2.41 & 0.01 & 29.71 & 31.44 & 1.20 & 56.52 &  56.29 & 1.02 & 6.90 & 1.17 &  6.49\\\\\n",
       "\t 0.66 & 0.02 & 0.61 & 1.60 & 0.01 & 22.75 & 22.46 & 0.80 & 64.06 &  36.65 & 0.69 & 6.59 & 1.17 &  6.37\\\\\n",
       "\t ⋮ & ⋮ & ⋮ & ⋮ & ⋮ & ⋮ & ⋮ & ⋮ & ⋮ & ⋮ & ⋮ & ⋮ & ⋮ & ⋮\\\\\n",
       "\t 1.67 & 1.28 & 1.28 &  3.15 & 0.24 & 60.34 & 109.5 & 1.46 & 7.61 & 61.03 & 1.25 & 14.31 & 1.43 &  7.26\\\\\n",
       "\t 4.92 & 1.74 & 4.19 & 10.20 & 0.34 & 62.97 & 183.6 & 4.67 & 6.66 & 42.29 & 3.96 & 17.19 & 1.56 & 22.08\\\\\n",
       "\t 5.86 & 1.22 & 5.66 & 13.71 & 0.25 & 64.37 & 218.3 & 6.46 & 7.48 & 17.57 & 5.48 & 16.83 & 1.46 & 27.91\\\\\n",
       "\\end{tabular}\n"
      ],
      "text/markdown": [
       "\n",
       "A tibble: 8759 × 14\n",
       "\n",
       "| BEN &lt;dbl&gt; | CO &lt;dbl&gt; | EBE &lt;dbl&gt; | MXY &lt;dbl&gt; | NMHC &lt;dbl&gt; | NO_2 &lt;dbl&gt; | NOx &lt;dbl&gt; | OXY &lt;dbl&gt; | O_3 &lt;dbl&gt; | PM10 &lt;dbl&gt; | PXY &lt;dbl&gt; | SO_2 &lt;dbl&gt; | TCH &lt;dbl&gt; | TOL &lt;dbl&gt; |\n",
       "|---|---|---|---|---|---|---|---|---|---|---|---|---|---|\n",
       "| 1.50 | 0.34 | 1.49 | 4.10 | 0.07 | 56.25 | 75.17 | 2.11 | 42.16 | 100.60 | 1.73 | 8.11 | 1.24 | 10.82 |\n",
       "| 0.87 | 0.06 | 0.88 | 2.41 | 0.01 | 29.71 | 31.44 | 1.20 | 56.52 |  56.29 | 1.02 | 6.90 | 1.17 |  6.49 |\n",
       "| 0.66 | 0.02 | 0.61 | 1.60 | 0.01 | 22.75 | 22.46 | 0.80 | 64.06 |  36.65 | 0.69 | 6.59 | 1.17 |  6.37 |\n",
       "| ⋮ | ⋮ | ⋮ | ⋮ | ⋮ | ⋮ | ⋮ | ⋮ | ⋮ | ⋮ | ⋮ | ⋮ | ⋮ | ⋮ |\n",
       "| 1.67 | 1.28 | 1.28 |  3.15 | 0.24 | 60.34 | 109.5 | 1.46 | 7.61 | 61.03 | 1.25 | 14.31 | 1.43 |  7.26 |\n",
       "| 4.92 | 1.74 | 4.19 | 10.20 | 0.34 | 62.97 | 183.6 | 4.67 | 6.66 | 42.29 | 3.96 | 17.19 | 1.56 | 22.08 |\n",
       "| 5.86 | 1.22 | 5.66 | 13.71 | 0.25 | 64.37 | 218.3 | 6.46 | 7.48 | 17.57 | 5.48 | 16.83 | 1.46 | 27.91 |\n",
       "\n"
      ],
      "text/plain": [
       "     BEN  CO   EBE  MXY   NMHC NO_2  NOx   OXY  O_3   PM10   PXY  SO_2  TCH \n",
       "1    1.50 0.34 1.49 4.10  0.07 56.25 75.17 2.11 42.16 100.60 1.73 8.11  1.24\n",
       "2    0.87 0.06 0.88 2.41  0.01 29.71 31.44 1.20 56.52  56.29 1.02 6.90  1.17\n",
       "3    0.66 0.02 0.61 1.60  0.01 22.75 22.46 0.80 64.06  36.65 0.69 6.59  1.17\n",
       "⋮    ⋮    ⋮    ⋮    ⋮     ⋮    ⋮     ⋮     ⋮    ⋮     ⋮      ⋮    ⋮     ⋮   \n",
       "8757 1.67 1.28 1.28  3.15 0.24 60.34 109.5 1.46 7.61  61.03  1.25 14.31 1.43\n",
       "8758 4.92 1.74 4.19 10.20 0.34 62.97 183.6 4.67 6.66  42.29  3.96 17.19 1.56\n",
       "8759 5.86 1.22 5.66 13.71 0.25 64.37 218.3 6.46 7.48  17.57  5.48 16.83 1.46\n",
       "     TOL  \n",
       "1    10.82\n",
       "2     6.49\n",
       "3     6.37\n",
       "⋮    ⋮    \n",
       "8757  7.26\n",
       "8758 22.08\n",
       "8759 27.91"
      ]
     },
     "metadata": {},
     "output_type": "display_data"
    },
    {
     "data": {
      "text/html": [
       "<table>\n",
       "<caption>A tibble: 1 × 14</caption>\n",
       "<thead>\n",
       "\t<tr><th scope=col>BEN</th><th scope=col>CO</th><th scope=col>EBE</th><th scope=col>MXY</th><th scope=col>NMHC</th><th scope=col>NO_2</th><th scope=col>NOx</th><th scope=col>OXY</th><th scope=col>O_3</th><th scope=col>PM10</th><th scope=col>PXY</th><th scope=col>SO_2</th><th scope=col>TCH</th><th scope=col>TOL</th></tr>\n",
       "\t<tr><th scope=col>&lt;dbl&gt;</th><th scope=col>&lt;dbl&gt;</th><th scope=col>&lt;dbl&gt;</th><th scope=col>&lt;dbl&gt;</th><th scope=col>&lt;dbl&gt;</th><th scope=col>&lt;dbl&gt;</th><th scope=col>&lt;dbl&gt;</th><th scope=col>&lt;dbl&gt;</th><th scope=col>&lt;dbl&gt;</th><th scope=col>&lt;dbl&gt;</th><th scope=col>&lt;dbl&gt;</th><th scope=col>&lt;dbl&gt;</th><th scope=col>&lt;dbl&gt;</th><th scope=col>&lt;dbl&gt;</th></tr>\n",
       "</thead>\n",
       "<tbody>\n",
       "\t<tr><td>49.94</td><td>10.39</td><td>77.26</td><td>93.12</td><td>2.42</td><td>271.3</td><td>1416</td><td>103</td><td>173.1</td><td>266.3</td><td>103</td><td>137.1</td><td>4.77</td><td>242.9</td></tr>\n",
       "</tbody>\n",
       "</table>\n"
      ],
      "text/latex": [
       "A tibble: 1 × 14\n",
       "\\begin{tabular}{llllllllllllll}\n",
       " BEN & CO & EBE & MXY & NMHC & NO\\_2 & NOx & OXY & O\\_3 & PM10 & PXY & SO\\_2 & TCH & TOL\\\\\n",
       " <dbl> & <dbl> & <dbl> & <dbl> & <dbl> & <dbl> & <dbl> & <dbl> & <dbl> & <dbl> & <dbl> & <dbl> & <dbl> & <dbl>\\\\\n",
       "\\hline\n",
       "\t 49.94 & 10.39 & 77.26 & 93.12 & 2.42 & 271.3 & 1416 & 103 & 173.1 & 266.3 & 103 & 137.1 & 4.77 & 242.9\\\\\n",
       "\\end{tabular}\n"
      ],
      "text/markdown": [
       "\n",
       "A tibble: 1 × 14\n",
       "\n",
       "| BEN &lt;dbl&gt; | CO &lt;dbl&gt; | EBE &lt;dbl&gt; | MXY &lt;dbl&gt; | NMHC &lt;dbl&gt; | NO_2 &lt;dbl&gt; | NOx &lt;dbl&gt; | OXY &lt;dbl&gt; | O_3 &lt;dbl&gt; | PM10 &lt;dbl&gt; | PXY &lt;dbl&gt; | SO_2 &lt;dbl&gt; | TCH &lt;dbl&gt; | TOL &lt;dbl&gt; |\n",
       "|---|---|---|---|---|---|---|---|---|---|---|---|---|---|\n",
       "| 49.94 | 10.39 | 77.26 | 93.12 | 2.42 | 271.3 | 1416 | 103 | 173.1 | 266.3 | 103 | 137.1 | 4.77 | 242.9 |\n",
       "\n"
      ],
      "text/plain": [
       "  BEN   CO    EBE   MXY   NMHC NO_2  NOx  OXY O_3   PM10  PXY SO_2  TCH  TOL  \n",
       "1 49.94 10.39 77.26 93.12 2.42 271.3 1416 103 173.1 266.3 103 137.1 4.77 242.9"
      ]
     },
     "metadata": {},
     "output_type": "display_data"
    }
   ],
   "source": [
    "# ... <- madrid %>%\n",
    "#     ...(year == 2001) %>%\n",
    "#     select(-..., -year, -mnth) %>%\n",
    "#     map_df(..., na.rm  = TRUE))\n",
    "\n",
    "pollution_2001 <- madrid %>%\n",
    "     filter(year == 2001) %>%\n",
    "     select(-date, -year, -mnth)\n",
    "pollution_2001\n",
    "\n",
    "pollution_2001 <- pollution_2001 %>%\n",
    "     map_df(max, na.rm  = TRUE)\n",
    "\n",
    "pollution_2001"
   ]
  },
  {
   "cell_type": "code",
   "execution_count": 337,
   "metadata": {
    "deletable": false,
    "editable": false,
    "nbgrader": {
     "cell_type": "code",
     "checksum": "015f95b93acd2ff7ff3f27698bcdb503",
     "grade": true,
     "grade_id": "cell-23ecb8f3102f3435",
     "locked": true,
     "points": 1,
     "schema_version": 3,
     "solution": false
    }
   },
   "outputs": [
    {
     "name": "stdout",
     "output_type": "stream",
     "text": [
      "[1] \"Success!\"\n"
     ]
    }
   ],
   "source": [
    "test_3.6()"
   ]
  },
  {
   "cell_type": "markdown",
   "metadata": {
    "deletable": false,
    "editable": false,
    "nbgrader": {
     "cell_type": "markdown",
     "checksum": "4e7a96c4f21bfc5fb9e81ae4c20ade55",
     "grade": false,
     "grade_id": "cell-e39870b13e1cfdbc",
     "locked": true,
     "schema_version": 3,
     "solution": false
    }
   },
   "source": [
    "**Question 3.7**\n",
    "<br> {points: 1}\n",
    "\n",
    "Now repeat what you did for Question 3.6, but filter for 2006 instead. \n",
    "\n",
    "*Assign your answer to an object called `pollution_2006`.*"
   ]
  },
  {
   "cell_type": "code",
   "execution_count": 338,
   "metadata": {
    "deletable": false,
    "nbgrader": {
     "cell_type": "code",
     "checksum": "7890c496897278378c4cd9f166aba4b5",
     "grade": false,
     "grade_id": "cell-f32f902d017d6f0f",
     "locked": false,
     "schema_version": 3,
     "solution": true
    }
   },
   "outputs": [
    {
     "data": {
      "text/html": [
       "<table>\n",
       "<caption>A tibble: 1 × 14</caption>\n",
       "<thead>\n",
       "\t<tr><th scope=col>BEN</th><th scope=col>CO</th><th scope=col>EBE</th><th scope=col>MXY</th><th scope=col>NMHC</th><th scope=col>NO_2</th><th scope=col>NOx</th><th scope=col>OXY</th><th scope=col>O_3</th><th scope=col>PM10</th><th scope=col>PXY</th><th scope=col>SO_2</th><th scope=col>TCH</th><th scope=col>TOL</th></tr>\n",
       "\t<tr><th scope=col>&lt;dbl&gt;</th><th scope=col>&lt;dbl&gt;</th><th scope=col>&lt;dbl&gt;</th><th scope=col>&lt;dbl&gt;</th><th scope=col>&lt;dbl&gt;</th><th scope=col>&lt;dbl&gt;</th><th scope=col>&lt;dbl&gt;</th><th scope=col>&lt;dbl&gt;</th><th scope=col>&lt;dbl&gt;</th><th scope=col>&lt;dbl&gt;</th><th scope=col>&lt;dbl&gt;</th><th scope=col>&lt;dbl&gt;</th><th scope=col>&lt;dbl&gt;</th><th scope=col>&lt;dbl&gt;</th></tr>\n",
       "</thead>\n",
       "<tbody>\n",
       "\t<tr><td>16.9</td><td>3.48</td><td>19.99</td><td>54.87</td><td>0.97</td><td>287.1</td><td>1274</td><td>31.39</td><td>132</td><td>268.6</td><td>26.95</td><td>66.22</td><td>2.84</td><td>64.84</td></tr>\n",
       "</tbody>\n",
       "</table>\n"
      ],
      "text/latex": [
       "A tibble: 1 × 14\n",
       "\\begin{tabular}{llllllllllllll}\n",
       " BEN & CO & EBE & MXY & NMHC & NO\\_2 & NOx & OXY & O\\_3 & PM10 & PXY & SO\\_2 & TCH & TOL\\\\\n",
       " <dbl> & <dbl> & <dbl> & <dbl> & <dbl> & <dbl> & <dbl> & <dbl> & <dbl> & <dbl> & <dbl> & <dbl> & <dbl> & <dbl>\\\\\n",
       "\\hline\n",
       "\t 16.9 & 3.48 & 19.99 & 54.87 & 0.97 & 287.1 & 1274 & 31.39 & 132 & 268.6 & 26.95 & 66.22 & 2.84 & 64.84\\\\\n",
       "\\end{tabular}\n"
      ],
      "text/markdown": [
       "\n",
       "A tibble: 1 × 14\n",
       "\n",
       "| BEN &lt;dbl&gt; | CO &lt;dbl&gt; | EBE &lt;dbl&gt; | MXY &lt;dbl&gt; | NMHC &lt;dbl&gt; | NO_2 &lt;dbl&gt; | NOx &lt;dbl&gt; | OXY &lt;dbl&gt; | O_3 &lt;dbl&gt; | PM10 &lt;dbl&gt; | PXY &lt;dbl&gt; | SO_2 &lt;dbl&gt; | TCH &lt;dbl&gt; | TOL &lt;dbl&gt; |\n",
       "|---|---|---|---|---|---|---|---|---|---|---|---|---|---|\n",
       "| 16.9 | 3.48 | 19.99 | 54.87 | 0.97 | 287.1 | 1274 | 31.39 | 132 | 268.6 | 26.95 | 66.22 | 2.84 | 64.84 |\n",
       "\n"
      ],
      "text/plain": [
       "  BEN  CO   EBE   MXY   NMHC NO_2  NOx  OXY   O_3 PM10  PXY   SO_2  TCH  TOL  \n",
       "1 16.9 3.48 19.99 54.87 0.97 287.1 1274 31.39 132 268.6 26.95 66.22 2.84 64.84"
      ]
     },
     "metadata": {},
     "output_type": "display_data"
    }
   ],
   "source": [
    "pollution_2006 <- madrid %>%\n",
    "    filter(year == 2006) %>%\n",
    "    select(-date, -year, -mnth) %>%\n",
    "    map_df(max, na.rm = TRUE)\n",
    "pollution_2006"
   ]
  },
  {
   "cell_type": "code",
   "execution_count": 339,
   "metadata": {
    "deletable": false,
    "editable": false,
    "nbgrader": {
     "cell_type": "code",
     "checksum": "528a8598f5b71a61e0549f37705f98db",
     "grade": true,
     "grade_id": "cell-df023e23794302c6",
     "locked": true,
     "points": 1,
     "schema_version": 3,
     "solution": false
    }
   },
   "outputs": [
    {
     "name": "stdout",
     "output_type": "stream",
     "text": [
      "[1] \"Success!\"\n"
     ]
    }
   ],
   "source": [
    "test_3.7()"
   ]
  },
  {
   "cell_type": "markdown",
   "metadata": {
    "deletable": false,
    "editable": false,
    "nbgrader": {
     "cell_type": "markdown",
     "checksum": "265298ababb03aa0e03006df13fbafed",
     "grade": false,
     "grade_id": "cell-a16e6e9379986fdd",
     "locked": true,
     "schema_version": 3,
     "solution": false
    }
   },
   "source": [
    "**Question 3.8** \n",
    "<br> {points: 1}\n",
    "\n",
    "Which pollutant decreased by the greatest magnitude between 2001 and 2006? Given that your the two objects you just created, `pollution_2001` and `pollution_2006` are data frames with the same columns you should be able to subtract the two objects to find which pollutant decreased by the greatest magnitude between the two years. \n",
    "\n",
    "*Assign your answer to an object called `answer3.8`. Make sure to write the answer exactly as it is given in the data set.* Example: \n",
    "\n",
    "```\n",
    "answer3.8 <- \"BEN\"\n",
    "```"
   ]
  },
  {
   "cell_type": "code",
   "execution_count": 340,
   "metadata": {
    "deletable": false,
    "nbgrader": {
     "cell_type": "code",
     "checksum": "f988bed96177149121b3142818b78cc7",
     "grade": false,
     "grade_id": "cell-37d1d8a36a3010c8",
     "locked": false,
     "schema_version": 3,
     "solution": true
    }
   },
   "outputs": [],
   "source": [
    "# Replace the fail() with your answer. \n",
    "\n",
    "answer3.8 <- \"TOL\""
   ]
  },
  {
   "cell_type": "code",
   "execution_count": 341,
   "metadata": {
    "deletable": false,
    "editable": false,
    "nbgrader": {
     "cell_type": "code",
     "checksum": "1941973e6663ebbd1e1bece63ac9daff",
     "grade": true,
     "grade_id": "cell-5ed11e7cbe1ac843",
     "locked": true,
     "points": 1,
     "schema_version": 3,
     "solution": false
    }
   },
   "outputs": [
    {
     "name": "stdout",
     "output_type": "stream",
     "text": [
      "[1] \"Success!\"\n"
     ]
    }
   ],
   "source": [
    "test_3.8()"
   ]
  },
  {
   "cell_type": "markdown",
   "metadata": {
    "deletable": false,
    "editable": false,
    "nbgrader": {
     "cell_type": "markdown",
     "checksum": "e0977947c8e05625898097c1f754b8a9",
     "grade": false,
     "grade_id": "cell-39c7d54ce32a3cf3",
     "locked": true,
     "schema_version": 3,
     "solution": false
    }
   },
   "source": [
    "**Question 3.9**\n",
    "<br> {points: 1}\n",
    "\n",
    "Given that there were only 14 columns in the data frame above, you could use your eyes to pick out which pollutant decreased by the greatest magnitude between 2001 and 2006. But what would you do if you had 100 columns? Or 1000 columns? It would take A LONG TIME for your human eyeballs to find the biggest difference. Maybe you could use the min funcion:"
   ]
  },
  {
   "cell_type": "code",
   "execution_count": 342,
   "metadata": {
    "deletable": false,
    "editable": false,
    "nbgrader": {
     "cell_type": "code",
     "checksum": "d3c50bcb4f2ec48ecc00289a8195e2ba",
     "grade": false,
     "grade_id": "cell-3e5f51fc465018c3",
     "locked": true,
     "schema_version": 3,
     "solution": false,
     "task": false
    }
   },
   "outputs": [
    {
     "data": {
      "text/html": [
       "<table>\n",
       "<caption>A data.frame: 1 × 14</caption>\n",
       "<thead>\n",
       "\t<tr><th scope=col>BEN</th><th scope=col>CO</th><th scope=col>EBE</th><th scope=col>MXY</th><th scope=col>NMHC</th><th scope=col>NO_2</th><th scope=col>NOx</th><th scope=col>OXY</th><th scope=col>O_3</th><th scope=col>PM10</th><th scope=col>PXY</th><th scope=col>SO_2</th><th scope=col>TCH</th><th scope=col>TOL</th></tr>\n",
       "\t<tr><th scope=col>&lt;dbl&gt;</th><th scope=col>&lt;dbl&gt;</th><th scope=col>&lt;dbl&gt;</th><th scope=col>&lt;dbl&gt;</th><th scope=col>&lt;dbl&gt;</th><th scope=col>&lt;dbl&gt;</th><th scope=col>&lt;dbl&gt;</th><th scope=col>&lt;dbl&gt;</th><th scope=col>&lt;dbl&gt;</th><th scope=col>&lt;dbl&gt;</th><th scope=col>&lt;dbl&gt;</th><th scope=col>&lt;dbl&gt;</th><th scope=col>&lt;dbl&gt;</th><th scope=col>&lt;dbl&gt;</th></tr>\n",
       "</thead>\n",
       "<tbody>\n",
       "\t<tr><td>-33.04</td><td>-6.91</td><td>-57.27</td><td>-38.25</td><td>-1.45</td><td>15.80002</td><td>-142</td><td>-71.61</td><td>-41.10001</td><td>2.300018</td><td>-76.05</td><td>-70.88</td><td>-1.93</td><td>-178.06</td></tr>\n",
       "</tbody>\n",
       "</table>\n"
      ],
      "text/latex": [
       "A data.frame: 1 × 14\n",
       "\\begin{tabular}{llllllllllllll}\n",
       " BEN & CO & EBE & MXY & NMHC & NO\\_2 & NOx & OXY & O\\_3 & PM10 & PXY & SO\\_2 & TCH & TOL\\\\\n",
       " <dbl> & <dbl> & <dbl> & <dbl> & <dbl> & <dbl> & <dbl> & <dbl> & <dbl> & <dbl> & <dbl> & <dbl> & <dbl> & <dbl>\\\\\n",
       "\\hline\n",
       "\t -33.04 & -6.91 & -57.27 & -38.25 & -1.45 & 15.80002 & -142 & -71.61 & -41.10001 & 2.300018 & -76.05 & -70.88 & -1.93 & -178.06\\\\\n",
       "\\end{tabular}\n"
      ],
      "text/markdown": [
       "\n",
       "A data.frame: 1 × 14\n",
       "\n",
       "| BEN &lt;dbl&gt; | CO &lt;dbl&gt; | EBE &lt;dbl&gt; | MXY &lt;dbl&gt; | NMHC &lt;dbl&gt; | NO_2 &lt;dbl&gt; | NOx &lt;dbl&gt; | OXY &lt;dbl&gt; | O_3 &lt;dbl&gt; | PM10 &lt;dbl&gt; | PXY &lt;dbl&gt; | SO_2 &lt;dbl&gt; | TCH &lt;dbl&gt; | TOL &lt;dbl&gt; |\n",
       "|---|---|---|---|---|---|---|---|---|---|---|---|---|---|\n",
       "| -33.04 | -6.91 | -57.27 | -38.25 | -1.45 | 15.80002 | -142 | -71.61 | -41.10001 | 2.300018 | -76.05 | -70.88 | -1.93 | -178.06 |\n",
       "\n"
      ],
      "text/plain": [
       "  BEN    CO    EBE    MXY    NMHC  NO_2     NOx  OXY    O_3       PM10    \n",
       "1 -33.04 -6.91 -57.27 -38.25 -1.45 15.80002 -142 -71.61 -41.10001 2.300018\n",
       "  PXY    SO_2   TCH   TOL    \n",
       "1 -76.05 -70.88 -1.93 -178.06"
      ]
     },
     "metadata": {},
     "output_type": "display_data"
    },
    {
     "data": {
      "text/html": [
       "-178.05999756"
      ],
      "text/latex": [
       "-178.05999756"
      ],
      "text/markdown": [
       "-178.05999756"
      ],
      "text/plain": [
       "[1] -178.06"
      ]
     },
     "metadata": {},
     "output_type": "display_data"
    }
   ],
   "source": [
    "# run this cell\n",
    "pollution_2006 - pollution_2001\n",
    "min(pollution_2006 - pollution_2001)"
   ]
  },
  {
   "cell_type": "markdown",
   "metadata": {
    "deletable": false,
    "editable": false,
    "nbgrader": {
     "cell_type": "markdown",
     "checksum": "ed0e9881b9f8fb72cbaace4a1908a946",
     "grade": false,
     "grade_id": "cell-6281bc171c2d9074",
     "locked": true,
     "schema_version": 3,
     "solution": false,
     "task": false
    }
   },
   "source": [
    "This is a step in the right direction, but you get the value and not the column name... What are we to do? Tidy our data! Our data is not in tidy format, and so it's difficult to access the values for the variable pollutant because they are stuck as column headers. Let's use `pivot_longer` to tidy our data and make it look like this:\n",
    "\n",
    "| pollutant | value  |\n",
    "|-----------|--------|\n",
    "| BEN       | -33.04 |\n",
    "| CO        | -6.91  |\n",
    "| ...       | ...    |\n",
    "\n",
    "To answer this question, fill in the `...` in the cell below. Copy and paste your finished answer and replace the `fail()`.\n",
    "\n",
    "*Assign your answer to an object called `pollution_diff` and ensure it has the same column names as the table pictured above.*"
   ]
  },
  {
   "cell_type": "code",
   "execution_count": 343,
   "metadata": {
    "deletable": false,
    "nbgrader": {
     "cell_type": "code",
     "checksum": "44a30f04db93ab6fcc64fdfb877b118d",
     "grade": false,
     "grade_id": "cell-96e5081abb9ab341",
     "locked": false,
     "schema_version": 3,
     "solution": true
    }
   },
   "outputs": [
    {
     "data": {
      "text/html": [
       "<table>\n",
       "<caption>A tibble: 14 × 2</caption>\n",
       "<thead>\n",
       "\t<tr><th scope=col>pollutant</th><th scope=col>value</th></tr>\n",
       "\t<tr><th scope=col>&lt;chr&gt;</th><th scope=col>&lt;dbl&gt;</th></tr>\n",
       "</thead>\n",
       "<tbody>\n",
       "\t<tr><td>BEN</td><td>-33.04</td></tr>\n",
       "\t<tr><td>CO </td><td> -6.91</td></tr>\n",
       "\t<tr><td>EBE</td><td>-57.27</td></tr>\n",
       "\t<tr><td>⋮</td><td>⋮</td></tr>\n",
       "\t<tr><td>SO_2</td><td> -70.88</td></tr>\n",
       "\t<tr><td>TCH </td><td>  -1.93</td></tr>\n",
       "\t<tr><td>TOL </td><td>-178.06</td></tr>\n",
       "</tbody>\n",
       "</table>\n"
      ],
      "text/latex": [
       "A tibble: 14 × 2\n",
       "\\begin{tabular}{ll}\n",
       " pollutant & value\\\\\n",
       " <chr> & <dbl>\\\\\n",
       "\\hline\n",
       "\t BEN & -33.04\\\\\n",
       "\t CO  &  -6.91\\\\\n",
       "\t EBE & -57.27\\\\\n",
       "\t ⋮ & ⋮\\\\\n",
       "\t SO\\_2 &  -70.88\\\\\n",
       "\t TCH  &   -1.93\\\\\n",
       "\t TOL  & -178.06\\\\\n",
       "\\end{tabular}\n"
      ],
      "text/markdown": [
       "\n",
       "A tibble: 14 × 2\n",
       "\n",
       "| pollutant &lt;chr&gt; | value &lt;dbl&gt; |\n",
       "|---|---|\n",
       "| BEN | -33.04 |\n",
       "| CO  |  -6.91 |\n",
       "| EBE | -57.27 |\n",
       "| ⋮ | ⋮ |\n",
       "| SO_2 |  -70.88 |\n",
       "| TCH  |   -1.93 |\n",
       "| TOL  | -178.06 |\n",
       "\n"
      ],
      "text/plain": [
       "   pollutant value  \n",
       "1  BEN       -33.04 \n",
       "2  CO         -6.91 \n",
       "3  EBE       -57.27 \n",
       "⋮  ⋮         ⋮      \n",
       "12 SO_2       -70.88\n",
       "13 TCH         -1.93\n",
       "14 TOL       -178.06"
      ]
     },
     "metadata": {},
     "output_type": "display_data"
    }
   ],
   "source": [
    "pollution_diff  <- pollution_2006 - pollution_2001\n",
    "#pollution_diff  <- ... %>% \n",
    "#    pivot_longer(cols = everything(), \n",
    "#           names_to = ..., \n",
    "#           values_to = ...)\n",
    "\n",
    "pollution_diff  <- pollution_diff %>% \n",
    "    pivot_longer(cols = everything(), \n",
    "           names_to = \"pollutant\", \n",
    "           values_to = \"value\")\n",
    "\n",
    "pollution_diff"
   ]
  },
  {
   "cell_type": "code",
   "execution_count": 344,
   "metadata": {
    "deletable": false,
    "editable": false,
    "nbgrader": {
     "cell_type": "code",
     "checksum": "8c4a22672acf690132ee16da17e3d735",
     "grade": true,
     "grade_id": "cell-434094b036007273",
     "locked": true,
     "points": 1,
     "schema_version": 3,
     "solution": false
    }
   },
   "outputs": [
    {
     "name": "stdout",
     "output_type": "stream",
     "text": [
      "[1] \"Success!\"\n"
     ]
    }
   ],
   "source": [
    "test_3.9()"
   ]
  },
  {
   "cell_type": "markdown",
   "metadata": {
    "deletable": false,
    "editable": false,
    "nbgrader": {
     "cell_type": "markdown",
     "checksum": "bf25b2aa5cf65fde40419967d7b5df8f",
     "grade": false,
     "grade_id": "cell-8933eb3ea15101f3",
     "locked": true,
     "schema_version": 3,
     "solution": false
    }
   },
   "source": [
    "**Question 3.10**\n",
    "<br> {points: 1}\n",
    "\n",
    "Now that you have tidy data, you can use `arrange` and `desc` to order the data in descending order. Each element of the `value` column corresponds to an amount of decrease in a pollutant; so the *largest decrease* in pollutant should be *most negative entry*, i.e., the last row in the resulting dataframe. Therefore, we can take the sorted dataframe and pipe it to `tail` (with the argument `n = 1`) to return only the last row of the data frame.\n",
    "\n",
    "(the function `tail` is just like `head`, except it returns the last rows of the dataframe instead of the first rows.)\n",
    "\n",
    "To answer this question, fill in the `...` in the cell below. Copy and paste your finished answer and replace the `fail()`.\n",
    "\n",
    "*Assign your answer to an object called `max_pollution_diff`.*"
   ]
  },
  {
   "cell_type": "code",
   "execution_count": 345,
   "metadata": {
    "deletable": false,
    "nbgrader": {
     "cell_type": "code",
     "checksum": "7640a892f1470517e0b2d8d80baad86e",
     "grade": false,
     "grade_id": "cell-b25d71fbf02fa70e",
     "locked": false,
     "schema_version": 3,
     "solution": true
    }
   },
   "outputs": [
    {
     "data": {
      "text/html": [
       "<table>\n",
       "<caption>A tibble: 1 × 2</caption>\n",
       "<thead>\n",
       "\t<tr><th scope=col>pollutant</th><th scope=col>value</th></tr>\n",
       "\t<tr><th scope=col>&lt;chr&gt;</th><th scope=col>&lt;dbl&gt;</th></tr>\n",
       "</thead>\n",
       "<tbody>\n",
       "\t<tr><td>TOL</td><td>-178.06</td></tr>\n",
       "</tbody>\n",
       "</table>\n"
      ],
      "text/latex": [
       "A tibble: 1 × 2\n",
       "\\begin{tabular}{ll}\n",
       " pollutant & value\\\\\n",
       " <chr> & <dbl>\\\\\n",
       "\\hline\n",
       "\t TOL & -178.06\\\\\n",
       "\\end{tabular}\n"
      ],
      "text/markdown": [
       "\n",
       "A tibble: 1 × 2\n",
       "\n",
       "| pollutant &lt;chr&gt; | value &lt;dbl&gt; |\n",
       "|---|---|\n",
       "| TOL | -178.06 |\n",
       "\n"
      ],
      "text/plain": [
       "  pollutant value  \n",
       "1 TOL       -178.06"
      ]
     },
     "metadata": {},
     "output_type": "display_data"
    }
   ],
   "source": [
    "#... <- ... %>% arrange(desc(...)) %>% \n",
    "#    tail(n = 1)\n",
    "\n",
    "max_pollution_diff <- pollution_diff %>%\n",
    "    arrange(desc(value)) %>%\n",
    "    tail(n = 1)\n",
    "\n",
    "max_pollution_diff"
   ]
  },
  {
   "cell_type": "code",
   "execution_count": 346,
   "metadata": {
    "deletable": false,
    "editable": false,
    "nbgrader": {
     "cell_type": "code",
     "checksum": "6dd5ca67c29760fec448b7009e54790b",
     "grade": true,
     "grade_id": "cell-f9cfd97235c900d5",
     "locked": true,
     "points": 1,
     "schema_version": 3,
     "solution": false
    }
   },
   "outputs": [
    {
     "name": "stdout",
     "output_type": "stream",
     "text": [
      "[1] \"Success!\"\n"
     ]
    }
   ],
   "source": [
    "test_3.10()"
   ]
  },
  {
   "cell_type": "markdown",
   "metadata": {
    "deletable": false,
    "editable": false,
    "nbgrader": {
     "cell_type": "markdown",
     "checksum": "3a90443569aa389278a39db2c8f5df4a",
     "grade": false,
     "grade_id": "cell-cc19d9a2d3663e09",
     "locked": true,
     "schema_version": 3,
     "solution": false,
     "task": false
    }
   },
   "source": [
    "At the end of this data wrangling worksheet, we'll leave you with a couple quotes to ponder:\n",
    "\n",
    "> “Happy families are all alike; every unhappy family is unhappy in its own way.” –– Leo Tolstoy\n",
    "\n",
    "> “Tidy datasets are all alike, but every messy dataset is messy in its own way.” –– Hadley Wickham\n",
    "\n",
    "*source: [Tidy data chapter](https://r4ds.had.co.nz/tidy-data.html) from R for Data Science by Garrett Grolemund & Hadley Wickham*"
   ]
  },
  {
   "cell_type": "code",
   "execution_count": 347,
   "metadata": {
    "deletable": false,
    "editable": false,
    "nbgrader": {
     "cell_type": "code",
     "checksum": "410e38bd9f145a89ad826cdcea776d45",
     "grade": false,
     "grade_id": "cell-b4e61ca9bc9efa93",
     "locked": true,
     "schema_version": 3,
     "solution": false,
     "task": false
    },
    "slideshow": {
     "slide_type": "slide"
    }
   },
   "outputs": [],
   "source": [
    "source(\"cleanup.R\")"
   ]
  }
 ],
 "metadata": {
  "kernelspec": {
   "display_name": "R",
   "language": "R",
   "name": "ir"
  },
  "language_info": {
   "codemirror_mode": "r",
   "file_extension": ".r",
   "mimetype": "text/x-r-source",
   "name": "R",
   "pygments_lexer": "r",
   "version": "4.0.0"
  }
 },
 "nbformat": 4,
 "nbformat_minor": 4
}
