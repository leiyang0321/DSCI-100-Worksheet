{
 "cells": [
  {
   "cell_type": "markdown",
   "metadata": {
    "deletable": false,
    "editable": false,
    "nbgrader": {
     "cell_type": "markdown",
     "checksum": "e2dd155ee279ce7043a82a8cdcd05828",
     "grade": false,
     "grade_id": "cell-097c971e4c534365",
     "locked": true,
     "schema_version": 3,
     "solution": false,
     "task": false
    }
   },
   "source": [
    "# Tutorial 1: Introduction to Data Science\n",
    "\n",
    "### Lecture and Tutorial Learning Goals:\n",
    "\n",
    "After completing this week's lecture and tutorial work, you will be able to:\n",
    "\n",
    "* use a Jupyter notebook to execute provided R code\n",
    "* edit code and markdown cells in a Jupyter notebook\n",
    "* create new code and markdown cells in a Jupyter notebook\n",
    "* load the `tidyverse` library into R\n",
    "* create new variables and objects in R using the assignment symbol\n",
    "* use the help and documentation tools in R\n",
    "* match the names of the following functions from the `tidyverse` library to their documentation descriptions: \n",
    "    - `read_csv` \n",
    "    - `select`\n",
    "    - `mutate`\n",
    "    - `filter`\n",
    "    - `ggplot`\n",
    "    - `aes`\n",
    "\n",
    "Any place you see `...`, you must fill in the function, variable, or data to complete the code. Replace `fail()` with your completed code and run the cell!\n",
    "\n",
    "Reminder: All autograded questions (i.e., questions with tests) are worth 1 point and all hidden test and manually graded questions are worth 3 points. "
   ]
  },
  {
   "cell_type": "code",
   "execution_count": 91,
   "metadata": {
    "deletable": false,
    "editable": false,
    "nbgrader": {
     "cell_type": "code",
     "checksum": "56b6cb3af7e058dc73df63bd96ca3daf",
     "grade": false,
     "grade_id": "cell-f8bed7e28ebf84d3",
     "locked": true,
     "schema_version": 3,
     "solution": false,
     "task": false
    }
   },
   "outputs": [],
   "source": [
    "### Run this cell before continuing. \n",
    "library(repr)\n",
    "options(repr.matrix.max.rows = 6)\n",
    "source(\"tests.R\")\n",
    "source(\"cleanup.R\")"
   ]
  },
  {
   "cell_type": "markdown",
   "metadata": {
    "deletable": false,
    "editable": false,
    "nbgrader": {
     "cell_type": "markdown",
     "checksum": "d815033fa355c18f15b5aff97bc1c358",
     "grade": false,
     "grade_id": "cell-83392b7a5bae6d15",
     "locked": true,
     "schema_version": 3,
     "solution": false,
     "task": false
    }
   },
   "source": [
    "**Revision Question** Match the following definitions with the corresponding functions used in R:\n",
    "<br> {points: 1}\n",
    "\n",
    "*Definitions*\n",
    "\n",
    "A. Reads the most common types of flat file data, comma separated values. \n",
    "\n",
    "B. Keeps only the variables you mention.\n",
    "\n",
    "C. Keeps only rows with entries satisfying some logical condition that you specify.\n",
    "\n",
    "D. Adds a new variable to a data frame as a function of the old columns.\n",
    "\n",
    "E. Declares the input data frame for a graphic and specifies the set of plot aesthetics intended to be common throughout all subsequent layers unless specifically overridden.\n",
    "\n",
    "*Functions*\n",
    "\n",
    "1. `ggplot`\n",
    "2. `select`\n",
    "3. `filter`\n",
    "4. `read_csv`\n",
    "5. `mutate`\n",
    "\n",
    "For each definition, assign the integer corresponding to the correct function to the letter object associated with the defintion. For example:\n",
    "\n",
    "    B <- 1\n",
    "\n",
    "*Assign your answers to the objects `A`, `B`, `C`, `D`, and `E`. Your answers should each be a single integer.*"
   ]
  },
  {
   "cell_type": "code",
   "execution_count": 92,
   "metadata": {
    "deletable": false,
    "nbgrader": {
     "cell_type": "code",
     "checksum": "9da8ad65302f348f41494dff53089ef0",
     "grade": false,
     "grade_id": "cell-364071ddddabc1ef",
     "locked": false,
     "schema_version": 3,
     "solution": true
    }
   },
   "outputs": [],
   "source": [
    "# Replace the fail() with your answer. \n",
    "\n",
    "A <- 4\n",
    "B <- 2\n",
    "C <- 3\n",
    "D <- 5\n",
    "E <- 1"
   ]
  },
  {
   "cell_type": "code",
   "execution_count": 93,
   "metadata": {
    "deletable": false,
    "editable": false,
    "nbgrader": {
     "cell_type": "code",
     "checksum": "6e2a1ffc93aedda2921c60c798025e08",
     "grade": true,
     "grade_id": "cell-8bfa7659789da213",
     "locked": true,
     "points": 1,
     "schema_version": 3,
     "solution": false
    }
   },
   "outputs": [
    {
     "name": "stdout",
     "output_type": "stream",
     "text": [
      "[1] \"Success!\"\n"
     ]
    }
   ],
   "source": [
    "test_revision()"
   ]
  },
  {
   "cell_type": "markdown",
   "metadata": {
    "deletable": false,
    "editable": false,
    "nbgrader": {
     "cell_type": "markdown",
     "checksum": "5ae0fd03cd144831e3e2bc2f5b0a430a",
     "grade": false,
     "grade_id": "cell-23fa8d80b908d764",
     "locked": true,
     "schema_version": 3,
     "solution": false,
     "task": false
    }
   },
   "source": [
    "## 1. Vickers and Vertosick Exercise\n",
    "We hope you haven't forgotten about them just yet! As you might recall from lecture, Vickers and Vertosick were the researchers that wanted to study different factors affecting race performance of recreational runners. They assembled a data set that includes the age, sex, and Body Mass Index (BMI) of runners, comparing it with their timed performance (how long it took them to complete either 5 or 10 km runs).\n",
    "\n",
    "We will be continuing our analysis of their data to practice what you learnt during the previous lecture. The goal for today, however, is to produce a plot of BMI against the time **(in minutes)** it took for participants **under the age of 35** to run 5 kilometres. To do this, we will need to complete the following steps:\n",
    "\n",
    "1. use `filter` to extract the rows where age is less than 35\n",
    "2. use `select` to extract the `bmi` and `km5_time_seconds` columns \n",
    "3. use `mutate` to convert 5 km race time from seconds (`km5_time_seconds`) to minutes\n",
    "4. use `ggplot` to create our plot of BMI (x-axis) and race time in minutes (y-axis)\n",
    "\n",
    "**Tips for success:** Try going through all of the steps on your own, but don't forget to discuss with others (classmates, TAs, or an instructor) if you get stuck. If something is wrong and you can't spot the issue, be sure to **read the error message carefully**. Since there are a lot of steps involved in working with data and modifying it, feel free to look back at [`worksheet_01`](https://github.com/UBC-DSCI/dsci-100/blob/master/materials/worksheet_01/worksheet_01.ipynb) for assistance. "
   ]
  },
  {
   "cell_type": "markdown",
   "metadata": {
    "deletable": false,
    "editable": false,
    "nbgrader": {
     "cell_type": "markdown",
     "checksum": "a42cd15150ab243cbdb3bdaafa2eb94f",
     "grade": false,
     "grade_id": "cell-ba22162ace034660",
     "locked": true,
     "schema_version": 3,
     "solution": false,
     "task": false
    }
   },
   "source": [
    "**Question 1.1** Multiple Choice\n",
    "<br> {points: 1}\n",
    "\n",
    "After reading the text above (and remembering that `filter` lets us choose rows that have values at, above, or below a threshold), what column do you think we will be using for our threshold when we filter? \n",
    "\n",
    "A. `age`\n",
    "\n",
    "B. `km5_time_seconds`\n",
    "\n",
    "C. `bmi`\n",
    "\n",
    "D. `sex`\n",
    "\n",
    "*Assign your answer to an object called `answer1.1`. Make sure to write the uppercase letter for the answer you have chosen and surround the letter with quotes.*"
   ]
  },
  {
   "cell_type": "code",
   "execution_count": 94,
   "metadata": {
    "deletable": false,
    "nbgrader": {
     "cell_type": "code",
     "checksum": "49524c46371fe544d2db27c7c7d708d8",
     "grade": false,
     "grade_id": "cell-5a274965f36e740d",
     "locked": false,
     "schema_version": 3,
     "solution": true
    }
   },
   "outputs": [],
   "source": [
    "# Make sure the correct answer is an uppercase letter. \n",
    "# Surround your answer with quotation marks.\n",
    "# Replace the fail() with your answer. \n",
    "\n",
    "answer1.1 <- \"A\""
   ]
  },
  {
   "cell_type": "code",
   "execution_count": 95,
   "metadata": {
    "deletable": false,
    "editable": false,
    "nbgrader": {
     "cell_type": "code",
     "checksum": "27b26c2ea8b0120dfe18544f7492d194",
     "grade": true,
     "grade_id": "cell-22b73e3ca6d3e321",
     "locked": true,
     "points": 1,
     "schema_version": 3,
     "solution": false
    }
   },
   "outputs": [
    {
     "name": "stdout",
     "output_type": "stream",
     "text": [
      "[1] \"Success!\"\n"
     ]
    }
   ],
   "source": [
    "test_1.1()"
   ]
  },
  {
   "cell_type": "markdown",
   "metadata": {
    "deletable": false,
    "editable": false,
    "nbgrader": {
     "cell_type": "markdown",
     "checksum": "92091714b16c0a9781ef1ed391bb54e4",
     "grade": false,
     "grade_id": "cell-3f21b62829f67fdb",
     "locked": true,
     "schema_version": 3,
     "solution": false,
     "task": false
    }
   },
   "source": [
    "**Question 1.2** True or False\n",
    "<br> {points: 1}\n",
    "\n",
    "We will be selecting the columns `age` and `km5_time_seconds` to plot. True or false?\n",
    "\n",
    "*Assign your answer (of either `\"true\"` or `\"false\"`) to an object called `answer1.2`. Make sure to write in all lower-case and surround your answer with quotes.*"
   ]
  },
  {
   "cell_type": "code",
   "execution_count": 96,
   "metadata": {
    "deletable": false,
    "nbgrader": {
     "cell_type": "code",
     "checksum": "6bc38674860eb384df97f5e13d1eaa2b",
     "grade": false,
     "grade_id": "cell-cfdba6cc55279aa9",
     "locked": false,
     "schema_version": 3,
     "solution": true
    }
   },
   "outputs": [],
   "source": [
    "# Make sure the correct answer is written in lower-case (\"true\" / \"false\")\n",
    "# Surround your answer with quotation marks.\n",
    "# Replace the fail() with your answer. \n",
    "\n",
    "answer1.2 <- \"false\""
   ]
  },
  {
   "cell_type": "code",
   "execution_count": 97,
   "metadata": {
    "deletable": false,
    "editable": false,
    "nbgrader": {
     "cell_type": "code",
     "checksum": "afead27604b0274a577f16133dbfd09f",
     "grade": true,
     "grade_id": "cell-561d497f339ca0fb",
     "locked": true,
     "points": 1,
     "schema_version": 3,
     "solution": false
    }
   },
   "outputs": [
    {
     "name": "stdout",
     "output_type": "stream",
     "text": [
      "[1] \"Success!\"\n"
     ]
    }
   ],
   "source": [
    "test_1.2()"
   ]
  },
  {
   "cell_type": "markdown",
   "metadata": {
    "deletable": false,
    "editable": false,
    "nbgrader": {
     "cell_type": "markdown",
     "checksum": "c3adb9d31d18a6f208db17268ec98008",
     "grade": false,
     "grade_id": "cell-83631a06f3627d5e",
     "locked": true,
     "schema_version": 3,
     "solution": false,
     "task": false
    }
   },
   "source": [
    "**Question 1.3** Multiple Choice\n",
    "<br> {points: 1}\n",
    "\n",
    "Select the answer with the correct order of functions that we will use to wrangle our data into a useable form for the plot we want to create. \n",
    "\n",
    "A. `mutate`, `select`, `filter`\n",
    "\n",
    "B. `select`, `filter`, `aes`\n",
    "\n",
    "C. `filter`, `select`, `mutate`\n",
    "\n",
    "D. `filter`, `select`, `aes`\n",
    "\n",
    "E. `select`, `filter`, `mutate`\n",
    "\n",
    "*Assign your answer to an object called `answer1.3`. Make sure your answer is an uppercase letter and is surrounded by quotation marks (e.g. `\"F\"`).*"
   ]
  },
  {
   "cell_type": "code",
   "execution_count": 98,
   "metadata": {
    "deletable": false,
    "nbgrader": {
     "cell_type": "code",
     "checksum": "a7d89c24051bdccbb64e1909b314523b",
     "grade": false,
     "grade_id": "cell-406f7cb23352e3ed",
     "locked": false,
     "schema_version": 3,
     "solution": true
    }
   },
   "outputs": [],
   "source": [
    "# Replace the fail() with your answer.\n",
    "\n",
    "answer1.3 <- \"C\""
   ]
  },
  {
   "cell_type": "code",
   "execution_count": 99,
   "metadata": {
    "deletable": false,
    "editable": false,
    "nbgrader": {
     "cell_type": "code",
     "checksum": "7492415e363e3d33a95c2b0ecfc4ce41",
     "grade": true,
     "grade_id": "cell-b661cd0b7158dcb0",
     "locked": true,
     "points": 1,
     "schema_version": 3,
     "solution": false
    }
   },
   "outputs": [
    {
     "name": "stdout",
     "output_type": "stream",
     "text": [
      "[1] \"Success!\"\n"
     ]
    }
   ],
   "source": [
    "test_1.3()"
   ]
  },
  {
   "cell_type": "markdown",
   "metadata": {
    "deletable": false,
    "editable": false,
    "nbgrader": {
     "cell_type": "markdown",
     "checksum": "26e97c6cb40e0b82efab6eb9fce85ead",
     "grade": false,
     "grade_id": "cell-46092fdb323894bb",
     "locked": true,
     "schema_version": 3,
     "solution": false,
     "task": false
    }
   },
   "source": [
    "**Question 1.4** \n",
    "<br> {points: 1}\n",
    "\n",
    "To work on the cells below, load the `tidyverse` package. If you have difficulty with loading this package, revisit `worksheet_01` and read over Section 5 (Packages)."
   ]
  },
  {
   "cell_type": "code",
   "execution_count": 100,
   "metadata": {
    "deletable": false,
    "nbgrader": {
     "cell_type": "code",
     "checksum": "d224bb09c8d93b99932589706e2430af",
     "grade": false,
     "grade_id": "cell-3acec18e66b7d95e",
     "locked": false,
     "schema_version": 3,
     "solution": true
    }
   },
   "outputs": [],
   "source": [
    "# Replace the fail() with your line of code. \n",
    "\n",
    "library(tidyverse)"
   ]
  },
  {
   "cell_type": "code",
   "execution_count": 101,
   "metadata": {
    "deletable": false,
    "editable": false,
    "nbgrader": {
     "cell_type": "code",
     "checksum": "4946d29166e4ee72ae78ace7d36418a0",
     "grade": true,
     "grade_id": "cell-d2363dbfecca5186",
     "locked": true,
     "points": 1,
     "schema_version": 3,
     "solution": false
    }
   },
   "outputs": [
    {
     "name": "stdout",
     "output_type": "stream",
     "text": [
      "[1] \"Success!\"\n"
     ]
    }
   ],
   "source": [
    "test_1.4()"
   ]
  },
  {
   "cell_type": "markdown",
   "metadata": {
    "deletable": false,
    "editable": false,
    "nbgrader": {
     "cell_type": "markdown",
     "checksum": "09caaf45bfa4a768eaac5a9c708dd2ac",
     "grade": false,
     "grade_id": "cell-5f6f0d868a5c9053",
     "locked": true,
     "schema_version": 3,
     "solution": false,
     "task": false
    }
   },
   "source": [
    "**Question 1.5** \n",
    "<br> {points: 1}\n",
    "\n",
    "With the proper package loaded, you can now read in the data.\n",
    "\n",
    "Replace `fail()` with the correct function. Assign your data to an object called `marathon_small`."
   ]
  },
  {
   "cell_type": "code",
   "execution_count": 102,
   "metadata": {
    "deletable": false,
    "nbgrader": {
     "cell_type": "code",
     "checksum": "629e2f73d9f6612b39c31085d9871a8f",
     "grade": false,
     "grade_id": "cell-67b296f10ee85743",
     "locked": false,
     "schema_version": 3,
     "solution": true
    }
   },
   "outputs": [
    {
     "name": "stderr",
     "output_type": "stream",
     "text": [
      "Parsed with column specification:\n",
      "cols(\n",
      "  age = \u001b[32mcol_double()\u001b[39m,\n",
      "  bmi = \u001b[32mcol_double()\u001b[39m,\n",
      "  km5_time_seconds = \u001b[32mcol_double()\u001b[39m,\n",
      "  km10_time_seconds = \u001b[32mcol_double()\u001b[39m,\n",
      "  sex = \u001b[31mcol_character()\u001b[39m\n",
      ")\n",
      "\n"
     ]
    },
    {
     "data": {
      "text/html": [
       "<table>\n",
       "<caption>A spec_tbl_df: 1833 × 5</caption>\n",
       "<thead>\n",
       "\t<tr><th scope=col>age</th><th scope=col>bmi</th><th scope=col>km5_time_seconds</th><th scope=col>km10_time_seconds</th><th scope=col>sex</th></tr>\n",
       "\t<tr><th scope=col>&lt;dbl&gt;</th><th scope=col>&lt;dbl&gt;</th><th scope=col>&lt;dbl&gt;</th><th scope=col>&lt;dbl&gt;</th><th scope=col>&lt;chr&gt;</th></tr>\n",
       "</thead>\n",
       "<tbody>\n",
       "\t<tr><td>25</td><td>21.62212</td><td>  NA</td><td>2798</td><td>female</td></tr>\n",
       "\t<tr><td>41</td><td>23.90597</td><td>1210</td><td>  NA</td><td>male  </td></tr>\n",
       "\t<tr><td>25</td><td>21.64073</td><td> 994</td><td>  NA</td><td>male  </td></tr>\n",
       "\t<tr><td>⋮</td><td>⋮</td><td>⋮</td><td>⋮</td><td>⋮</td></tr>\n",
       "\t<tr><td>42</td><td>23.74768</td><td>1203</td><td>  NA</td><td>male  </td></tr>\n",
       "\t<tr><td>23</td><td>24.20903</td><td>2040</td><td>  NA</td><td>female</td></tr>\n",
       "\t<tr><td>58</td><td>23.49177</td><td>1304</td><td>2819</td><td>male  </td></tr>\n",
       "</tbody>\n",
       "</table>\n"
      ],
      "text/latex": [
       "A spec\\_tbl\\_df: 1833 × 5\n",
       "\\begin{tabular}{lllll}\n",
       " age & bmi & km5\\_time\\_seconds & km10\\_time\\_seconds & sex\\\\\n",
       " <dbl> & <dbl> & <dbl> & <dbl> & <chr>\\\\\n",
       "\\hline\n",
       "\t 25 & 21.62212 &   NA & 2798 & female\\\\\n",
       "\t 41 & 23.90597 & 1210 &   NA & male  \\\\\n",
       "\t 25 & 21.64073 &  994 &   NA & male  \\\\\n",
       "\t ⋮ & ⋮ & ⋮ & ⋮ & ⋮\\\\\n",
       "\t 42 & 23.74768 & 1203 &   NA & male  \\\\\n",
       "\t 23 & 24.20903 & 2040 &   NA & female\\\\\n",
       "\t 58 & 23.49177 & 1304 & 2819 & male  \\\\\n",
       "\\end{tabular}\n"
      ],
      "text/markdown": [
       "\n",
       "A spec_tbl_df: 1833 × 5\n",
       "\n",
       "| age &lt;dbl&gt; | bmi &lt;dbl&gt; | km5_time_seconds &lt;dbl&gt; | km10_time_seconds &lt;dbl&gt; | sex &lt;chr&gt; |\n",
       "|---|---|---|---|---|\n",
       "| 25 | 21.62212 |   NA | 2798 | female |\n",
       "| 41 | 23.90597 | 1210 |   NA | male   |\n",
       "| 25 | 21.64073 |  994 |   NA | male   |\n",
       "| ⋮ | ⋮ | ⋮ | ⋮ | ⋮ |\n",
       "| 42 | 23.74768 | 1203 |   NA | male   |\n",
       "| 23 | 24.20903 | 2040 |   NA | female |\n",
       "| 58 | 23.49177 | 1304 | 2819 | male   |\n",
       "\n"
      ],
      "text/plain": [
       "     age bmi      km5_time_seconds km10_time_seconds sex   \n",
       "1    25  21.62212   NA             2798              female\n",
       "2    41  23.90597 1210               NA              male  \n",
       "3    25  21.64073  994               NA              male  \n",
       "⋮    ⋮   ⋮        ⋮                ⋮                 ⋮     \n",
       "1831 42  23.74768 1203               NA              male  \n",
       "1832 23  24.20903 2040               NA              female\n",
       "1833 58  23.49177 1304             2819              male  "
      ]
     },
     "metadata": {},
     "output_type": "display_data"
    }
   ],
   "source": [
    "# ... <- ...(\"marathon_small.csv\")\n",
    "\n",
    "marathon_small <- read_csv(\"marathon_small.csv\")\n",
    "marathon_small"
   ]
  },
  {
   "cell_type": "code",
   "execution_count": 103,
   "metadata": {
    "deletable": false,
    "editable": false,
    "nbgrader": {
     "cell_type": "code",
     "checksum": "29542c148a2f8ca83e16706d5e09439d",
     "grade": true,
     "grade_id": "cell-e905afcc39967bfd",
     "locked": true,
     "points": 1,
     "schema_version": 3,
     "solution": false
    }
   },
   "outputs": [
    {
     "name": "stdout",
     "output_type": "stream",
     "text": [
      "[1] \"Success!\"\n"
     ]
    }
   ],
   "source": [
    "test_1.5()"
   ]
  },
  {
   "cell_type": "markdown",
   "metadata": {
    "deletable": false,
    "editable": false,
    "nbgrader": {
     "cell_type": "markdown",
     "checksum": "9f0b3099e2aa344b37e12ccc371d207e",
     "grade": false,
     "grade_id": "cell-15bf4a69411a57d3",
     "locked": true,
     "schema_version": 3,
     "solution": false,
     "task": false
    }
   },
   "source": [
    "**Question 1.6** \n",
    "<br> {points: 1}\n",
    "\n",
    "`filter` and `select` the data (`marathon_small`) such that information is only included from participants under the age of 35 and only contains the columns needed for the plot.\n",
    "\n",
    "*Hint: `bmi` is already given to you. What else do we want to plot?*\n",
    "\n",
    "*Name the result of filtering `marathon_age`, and name the result of selecting `marathon_select`*."
   ]
  },
  {
   "cell_type": "code",
   "execution_count": 104,
   "metadata": {
    "deletable": false,
    "nbgrader": {
     "cell_type": "code",
     "checksum": "d0bc1ca439a95ad331fda28b4f7ab84a",
     "grade": false,
     "grade_id": "cell-806aa79f3e6fa7fe",
     "locked": false,
     "schema_version": 3,
     "solution": true
    }
   },
   "outputs": [
    {
     "data": {
      "text/html": [
       "<table>\n",
       "<caption>A spec_tbl_df: 922 × 5</caption>\n",
       "<thead>\n",
       "\t<tr><th scope=col>age</th><th scope=col>bmi</th><th scope=col>km5_time_seconds</th><th scope=col>km10_time_seconds</th><th scope=col>sex</th></tr>\n",
       "\t<tr><th scope=col>&lt;dbl&gt;</th><th scope=col>&lt;dbl&gt;</th><th scope=col>&lt;dbl&gt;</th><th scope=col>&lt;dbl&gt;</th><th scope=col>&lt;chr&gt;</th></tr>\n",
       "</thead>\n",
       "<tbody>\n",
       "\t<tr><td>25</td><td>21.62212</td><td>  NA</td><td>2798</td><td>female</td></tr>\n",
       "\t<tr><td>25</td><td>21.64073</td><td> 994</td><td>  NA</td><td>male  </td></tr>\n",
       "\t<tr><td>34</td><td>22.70640</td><td>1186</td><td>  NA</td><td>male  </td></tr>\n",
       "\t<tr><td>⋮</td><td>⋮</td><td>⋮</td><td>⋮</td><td>⋮</td></tr>\n",
       "\t<tr><td>31</td><td>22.62626</td><td>1414</td><td>  NA</td><td>female</td></tr>\n",
       "\t<tr><td>32</td><td>22.72727</td><td>  NA</td><td>2591</td><td>female</td></tr>\n",
       "\t<tr><td>23</td><td>24.20903</td><td>2040</td><td>  NA</td><td>female</td></tr>\n",
       "</tbody>\n",
       "</table>\n"
      ],
      "text/latex": [
       "A spec\\_tbl\\_df: 922 × 5\n",
       "\\begin{tabular}{lllll}\n",
       " age & bmi & km5\\_time\\_seconds & km10\\_time\\_seconds & sex\\\\\n",
       " <dbl> & <dbl> & <dbl> & <dbl> & <chr>\\\\\n",
       "\\hline\n",
       "\t 25 & 21.62212 &   NA & 2798 & female\\\\\n",
       "\t 25 & 21.64073 &  994 &   NA & male  \\\\\n",
       "\t 34 & 22.70640 & 1186 &   NA & male  \\\\\n",
       "\t ⋮ & ⋮ & ⋮ & ⋮ & ⋮\\\\\n",
       "\t 31 & 22.62626 & 1414 &   NA & female\\\\\n",
       "\t 32 & 22.72727 &   NA & 2591 & female\\\\\n",
       "\t 23 & 24.20903 & 2040 &   NA & female\\\\\n",
       "\\end{tabular}\n"
      ],
      "text/markdown": [
       "\n",
       "A spec_tbl_df: 922 × 5\n",
       "\n",
       "| age &lt;dbl&gt; | bmi &lt;dbl&gt; | km5_time_seconds &lt;dbl&gt; | km10_time_seconds &lt;dbl&gt; | sex &lt;chr&gt; |\n",
       "|---|---|---|---|---|\n",
       "| 25 | 21.62212 |   NA | 2798 | female |\n",
       "| 25 | 21.64073 |  994 |   NA | male   |\n",
       "| 34 | 22.70640 | 1186 |   NA | male   |\n",
       "| ⋮ | ⋮ | ⋮ | ⋮ | ⋮ |\n",
       "| 31 | 22.62626 | 1414 |   NA | female |\n",
       "| 32 | 22.72727 |   NA | 2591 | female |\n",
       "| 23 | 24.20903 | 2040 |   NA | female |\n",
       "\n"
      ],
      "text/plain": [
       "    age bmi      km5_time_seconds km10_time_seconds sex   \n",
       "1   25  21.62212   NA             2798              female\n",
       "2   25  21.64073  994               NA              male  \n",
       "3   34  22.70640 1186               NA              male  \n",
       "⋮   ⋮   ⋮        ⋮                ⋮                 ⋮     \n",
       "920 31  22.62626 1414               NA              female\n",
       "921 32  22.72727   NA             2591              female\n",
       "922 23  24.20903 2040               NA              female"
      ]
     },
     "metadata": {},
     "output_type": "display_data"
    },
    {
     "data": {
      "text/html": [
       "<table>\n",
       "<caption>A tibble: 922 × 2</caption>\n",
       "<thead>\n",
       "\t<tr><th scope=col>bmi</th><th scope=col>km5_time_seconds</th></tr>\n",
       "\t<tr><th scope=col>&lt;dbl&gt;</th><th scope=col>&lt;dbl&gt;</th></tr>\n",
       "</thead>\n",
       "<tbody>\n",
       "\t<tr><td>21.62212</td><td>  NA</td></tr>\n",
       "\t<tr><td>21.64073</td><td> 994</td></tr>\n",
       "\t<tr><td>22.70640</td><td>1186</td></tr>\n",
       "\t<tr><td>⋮</td><td>⋮</td></tr>\n",
       "\t<tr><td>22.62626</td><td>1414</td></tr>\n",
       "\t<tr><td>22.72727</td><td>  NA</td></tr>\n",
       "\t<tr><td>24.20903</td><td>2040</td></tr>\n",
       "</tbody>\n",
       "</table>\n"
      ],
      "text/latex": [
       "A tibble: 922 × 2\n",
       "\\begin{tabular}{ll}\n",
       " bmi & km5\\_time\\_seconds\\\\\n",
       " <dbl> & <dbl>\\\\\n",
       "\\hline\n",
       "\t 21.62212 &   NA\\\\\n",
       "\t 21.64073 &  994\\\\\n",
       "\t 22.70640 & 1186\\\\\n",
       "\t ⋮ & ⋮\\\\\n",
       "\t 22.62626 & 1414\\\\\n",
       "\t 22.72727 &   NA\\\\\n",
       "\t 24.20903 & 2040\\\\\n",
       "\\end{tabular}\n"
      ],
      "text/markdown": [
       "\n",
       "A tibble: 922 × 2\n",
       "\n",
       "| bmi &lt;dbl&gt; | km5_time_seconds &lt;dbl&gt; |\n",
       "|---|---|\n",
       "| 21.62212 |   NA |\n",
       "| 21.64073 |  994 |\n",
       "| 22.70640 | 1186 |\n",
       "| ⋮ | ⋮ |\n",
       "| 22.62626 | 1414 |\n",
       "| 22.72727 |   NA |\n",
       "| 24.20903 | 2040 |\n",
       "\n"
      ],
      "text/plain": [
       "    bmi      km5_time_seconds\n",
       "1   21.62212   NA            \n",
       "2   21.64073  994            \n",
       "3   22.70640 1186            \n",
       "⋮   ⋮        ⋮               \n",
       "920 22.62626 1414            \n",
       "921 22.72727   NA            \n",
       "922 24.20903 2040            "
      ]
     },
     "metadata": {},
     "output_type": "display_data"
    }
   ],
   "source": [
    "# ... <- filter(marathon_small, ... < 35)\n",
    "# ... <- ...(marathon_age, bmi, ...)\n",
    "\n",
    "marathon_age <- filter(marathon_small, age < 35)\n",
    "marathon_age\n",
    "\n",
    "marathon_select <- select(marathon_age, bmi, km5_time_seconds)\n",
    "marathon_select"
   ]
  },
  {
   "cell_type": "code",
   "execution_count": 105,
   "metadata": {
    "deletable": false,
    "editable": false,
    "nbgrader": {
     "cell_type": "code",
     "checksum": "c2b66ae611cdf2b670958d87f7634753",
     "grade": true,
     "grade_id": "cell-1a313685beceed6a",
     "locked": true,
     "points": 1,
     "schema_version": 3,
     "solution": false
    }
   },
   "outputs": [
    {
     "name": "stdout",
     "output_type": "stream",
     "text": [
      "[1] \"Success!\"\n"
     ]
    }
   ],
   "source": [
    "test_1.6()"
   ]
  },
  {
   "cell_type": "markdown",
   "metadata": {
    "deletable": false,
    "editable": false,
    "nbgrader": {
     "cell_type": "markdown",
     "checksum": "3514e3fe6f7ccd156619629360bb14dc",
     "grade": false,
     "grade_id": "cell-2f50469b147fe4dc",
     "locked": true,
     "schema_version": 3,
     "solution": false,
     "task": false
    }
   },
   "source": [
    "**Question 1.7** \n",
    "<br> {points: 1}\n",
    "\n",
    "Mutate the data frame (`marathon_select`) to create a new column called: `km5_time_minutes`. \n",
    "\n",
    "*Note: we will be selecting once again the specific columns we want to include in our data frame.*\n",
    "\n",
    "*Name the result after creating the new column `marathon_mutate`, and name the result after selecting the columns used for plotting `marathon_exact`.*"
   ]
  },
  {
   "cell_type": "code",
   "execution_count": 106,
   "metadata": {
    "deletable": false,
    "nbgrader": {
     "cell_type": "code",
     "checksum": "00e6a34299af69f707d93d97181bb5e1",
     "grade": false,
     "grade_id": "cell-b08900047b925166",
     "locked": false,
     "schema_version": 3,
     "solution": true
    }
   },
   "outputs": [
    {
     "data": {
      "text/html": [
       "<table>\n",
       "<caption>A tibble: 922 × 3</caption>\n",
       "<thead>\n",
       "\t<tr><th scope=col>bmi</th><th scope=col>km5_time_seconds</th><th scope=col>km5_time_minutes</th></tr>\n",
       "\t<tr><th scope=col>&lt;dbl&gt;</th><th scope=col>&lt;dbl&gt;</th><th scope=col>&lt;dbl&gt;</th></tr>\n",
       "</thead>\n",
       "<tbody>\n",
       "\t<tr><td>21.62212</td><td>  NA</td><td>      NA</td></tr>\n",
       "\t<tr><td>21.64073</td><td> 994</td><td>16.56667</td></tr>\n",
       "\t<tr><td>22.70640</td><td>1186</td><td>19.76667</td></tr>\n",
       "\t<tr><td>⋮</td><td>⋮</td><td>⋮</td></tr>\n",
       "\t<tr><td>22.62626</td><td>1414</td><td>23.56667</td></tr>\n",
       "\t<tr><td>22.72727</td><td>  NA</td><td>      NA</td></tr>\n",
       "\t<tr><td>24.20903</td><td>2040</td><td>34.00000</td></tr>\n",
       "</tbody>\n",
       "</table>\n"
      ],
      "text/latex": [
       "A tibble: 922 × 3\n",
       "\\begin{tabular}{lll}\n",
       " bmi & km5\\_time\\_seconds & km5\\_time\\_minutes\\\\\n",
       " <dbl> & <dbl> & <dbl>\\\\\n",
       "\\hline\n",
       "\t 21.62212 &   NA &       NA\\\\\n",
       "\t 21.64073 &  994 & 16.56667\\\\\n",
       "\t 22.70640 & 1186 & 19.76667\\\\\n",
       "\t ⋮ & ⋮ & ⋮\\\\\n",
       "\t 22.62626 & 1414 & 23.56667\\\\\n",
       "\t 22.72727 &   NA &       NA\\\\\n",
       "\t 24.20903 & 2040 & 34.00000\\\\\n",
       "\\end{tabular}\n"
      ],
      "text/markdown": [
       "\n",
       "A tibble: 922 × 3\n",
       "\n",
       "| bmi &lt;dbl&gt; | km5_time_seconds &lt;dbl&gt; | km5_time_minutes &lt;dbl&gt; |\n",
       "|---|---|---|\n",
       "| 21.62212 |   NA |       NA |\n",
       "| 21.64073 |  994 | 16.56667 |\n",
       "| 22.70640 | 1186 | 19.76667 |\n",
       "| ⋮ | ⋮ | ⋮ |\n",
       "| 22.62626 | 1414 | 23.56667 |\n",
       "| 22.72727 |   NA |       NA |\n",
       "| 24.20903 | 2040 | 34.00000 |\n",
       "\n"
      ],
      "text/plain": [
       "    bmi      km5_time_seconds km5_time_minutes\n",
       "1   21.62212   NA                   NA        \n",
       "2   21.64073  994             16.56667        \n",
       "3   22.70640 1186             19.76667        \n",
       "⋮   ⋮        ⋮                ⋮               \n",
       "920 22.62626 1414             23.56667        \n",
       "921 22.72727   NA                   NA        \n",
       "922 24.20903 2040             34.00000        "
      ]
     },
     "metadata": {},
     "output_type": "display_data"
    },
    {
     "data": {
      "text/html": [
       "<table>\n",
       "<caption>A tibble: 922 × 2</caption>\n",
       "<thead>\n",
       "\t<tr><th scope=col>bmi</th><th scope=col>km5_time_minutes</th></tr>\n",
       "\t<tr><th scope=col>&lt;dbl&gt;</th><th scope=col>&lt;dbl&gt;</th></tr>\n",
       "</thead>\n",
       "<tbody>\n",
       "\t<tr><td>21.62212</td><td>      NA</td></tr>\n",
       "\t<tr><td>21.64073</td><td>16.56667</td></tr>\n",
       "\t<tr><td>22.70640</td><td>19.76667</td></tr>\n",
       "\t<tr><td>⋮</td><td>⋮</td></tr>\n",
       "\t<tr><td>22.62626</td><td>23.56667</td></tr>\n",
       "\t<tr><td>22.72727</td><td>      NA</td></tr>\n",
       "\t<tr><td>24.20903</td><td>34.00000</td></tr>\n",
       "</tbody>\n",
       "</table>\n"
      ],
      "text/latex": [
       "A tibble: 922 × 2\n",
       "\\begin{tabular}{ll}\n",
       " bmi & km5\\_time\\_minutes\\\\\n",
       " <dbl> & <dbl>\\\\\n",
       "\\hline\n",
       "\t 21.62212 &       NA\\\\\n",
       "\t 21.64073 & 16.56667\\\\\n",
       "\t 22.70640 & 19.76667\\\\\n",
       "\t ⋮ & ⋮\\\\\n",
       "\t 22.62626 & 23.56667\\\\\n",
       "\t 22.72727 &       NA\\\\\n",
       "\t 24.20903 & 34.00000\\\\\n",
       "\\end{tabular}\n"
      ],
      "text/markdown": [
       "\n",
       "A tibble: 922 × 2\n",
       "\n",
       "| bmi &lt;dbl&gt; | km5_time_minutes &lt;dbl&gt; |\n",
       "|---|---|\n",
       "| 21.62212 |       NA |\n",
       "| 21.64073 | 16.56667 |\n",
       "| 22.70640 | 19.76667 |\n",
       "| ⋮ | ⋮ |\n",
       "| 22.62626 | 23.56667 |\n",
       "| 22.72727 |       NA |\n",
       "| 24.20903 | 34.00000 |\n",
       "\n"
      ],
      "text/plain": [
       "    bmi      km5_time_minutes\n",
       "1   21.62212       NA        \n",
       "2   21.64073 16.56667        \n",
       "3   22.70640 19.76667        \n",
       "⋮   ⋮        ⋮               \n",
       "920 22.62626 23.56667        \n",
       "921 22.72727       NA        \n",
       "922 24.20903 34.00000        "
      ]
     },
     "metadata": {},
     "output_type": "display_data"
    }
   ],
   "source": [
    "# ... <- mutate(marathon_select, km5_time_minutes = ... / ...) \n",
    "# ... <- select(..., ..., km5_time_minutes)\n",
    "\n",
    "marathon_mutate <- mutate(marathon_select, km5_time_minutes = km5_time_seconds / 60)\n",
    "marathon_mutate\n",
    "\n",
    "marathon_exact <- select(marathon_mutate, bmi, km5_time_minutes)\n",
    "marathon_exact"
   ]
  },
  {
   "cell_type": "code",
   "execution_count": 107,
   "metadata": {
    "deletable": false,
    "editable": false,
    "nbgrader": {
     "cell_type": "code",
     "checksum": "7dc443bbb41fdfd9af48e377e31522c9",
     "grade": true,
     "grade_id": "cell-fb3b4f7db2ccce40",
     "locked": true,
     "points": 1,
     "schema_version": 3,
     "solution": false
    }
   },
   "outputs": [
    {
     "name": "stdout",
     "output_type": "stream",
     "text": [
      "[1] \"Success!\"\n"
     ]
    }
   ],
   "source": [
    "test_1.7()"
   ]
  },
  {
   "cell_type": "markdown",
   "metadata": {
    "deletable": false,
    "editable": false,
    "nbgrader": {
     "cell_type": "markdown",
     "checksum": "25496d80bdc2ac03407d6a6dff1b495d",
     "grade": false,
     "grade_id": "cell-9980e4781dfca899",
     "locked": true,
     "schema_version": 3,
     "solution": false,
     "task": false
    }
   },
   "source": [
    "**Question 1.8** \n",
    "<br> {points: 1}\n",
    "\n",
    "Lastly, generate a scatter plot. Assign your plot to an object called `marathon_plot`. \n",
    "\n",
    "Ensure that your axis labels are human-readable (do not leave them as default column names)."
   ]
  },
  {
   "cell_type": "code",
   "execution_count": 108,
   "metadata": {
    "deletable": false,
    "editable": false,
    "nbgrader": {
     "cell_type": "code",
     "checksum": "6875ca9442eb5dd3eff4e425d0ac2f19",
     "grade": false,
     "grade_id": "cell-726db133ec981b52",
     "locked": true,
     "schema_version": 3,
     "solution": false,
     "task": false
    }
   },
   "outputs": [],
   "source": [
    "# run this cell \n",
    "# code to set-up plot size\n",
    "library(repr)\n",
    "options(repr.plot.width = 8, repr.plot.height = 8)"
   ]
  },
  {
   "cell_type": "code",
   "execution_count": 109,
   "metadata": {
    "deletable": false,
    "nbgrader": {
     "cell_type": "code",
     "checksum": "e42aab8d49ca98363b591b3520425148",
     "grade": false,
     "grade_id": "cell-98f2cd52592effe7",
     "locked": false,
     "schema_version": 3,
     "solution": true
    }
   },
   "outputs": [],
   "source": [
    "#... <- ...(marathon_exact, aes(x = ..., y = ...)) + \n",
    "#   ..._point() + \n",
    "#   xlab(...) + \n",
    "#   ...(...)\n",
    "\n",
    "marathon_plot <- ggplot(marathon_exact, aes(x = bmi, y = km5_time_minutes)) + geom_point() + xlab(\"Body Mass Index\") + ylab(\"5km Running Record Time (in min)\")\n"
   ]
  },
  {
   "cell_type": "code",
   "execution_count": 110,
   "metadata": {
    "deletable": false,
    "editable": false,
    "nbgrader": {
     "cell_type": "code",
     "checksum": "8860ced7da28c7855ac192d20abc2f02",
     "grade": false,
     "grade_id": "cell-12ea5d8d73fb8908",
     "locked": true,
     "schema_version": 3,
     "solution": false,
     "task": false
    }
   },
   "outputs": [
    {
     "name": "stderr",
     "output_type": "stream",
     "text": [
      "Warning message:\n",
      "“Removed 203 rows containing missing values (geom_point).”\n"
     ]
    },
    {
     "data": {
      "image/png": "[encoded data removed]",
      "text/plain": [
       "plot without title"
      ]
     },
     "metadata": {
      "image/png": {
       "height": 480,
       "width": 480
      }
     },
     "output_type": "display_data"
    }
   ],
   "source": [
    "# Run this cell to see what your scatterplot looks like!\n",
    "marathon_plot"
   ]
  },
  {
   "cell_type": "code",
   "execution_count": 111,
   "metadata": {
    "deletable": false,
    "editable": false,
    "nbgrader": {
     "cell_type": "code",
     "checksum": "5b4ad05497592766a8692c733720e1ff",
     "grade": true,
     "grade_id": "cell-d9530f4ffebdcdc4",
     "locked": true,
     "points": 1,
     "schema_version": 3,
     "solution": false
    }
   },
   "outputs": [
    {
     "name": "stdout",
     "output_type": "stream",
     "text": [
      "[1] \"Success!\"\n"
     ]
    }
   ],
   "source": [
    "test_1.8()"
   ]
  },
  {
   "cell_type": "markdown",
   "metadata": {
    "deletable": false,
    "editable": false,
    "nbgrader": {
     "cell_type": "markdown",
     "checksum": "4c5d8e7c6333dcc48dbfd442270caaa7",
     "grade": false,
     "grade_id": "cell-038b816fda3debe7",
     "locked": true,
     "schema_version": 3,
     "solution": false,
     "task": false
    }
   },
   "source": [
    "*Note: the warning message above tells us the number of rows that had missing data in the data set, and that these rows were not plotted. When you see something like this, you should stop and think, do I expect missing rows in my data? Sometimes the answer is yes, sometimes it is no. It depends on the data set, and you as the Data Scientist must know the answer to this. How would you determine the answer? By talking to those who collected the data and/or researching where the data came from, for example.*"
   ]
  },
  {
   "cell_type": "markdown",
   "metadata": {
    "deletable": false,
    "editable": false,
    "nbgrader": {
     "cell_type": "markdown",
     "checksum": "aed6c835ffcf76c4e060adfe0d99ab50",
     "grade": false,
     "grade_id": "cell-dccdf4d2112fe1a2",
     "locked": true,
     "schema_version": 3,
     "solution": false
    }
   },
   "source": [
    "**Question 1.9** \n",
    "<br> {points: 3}\n",
    "\n",
    "Which option below **best** describes the plot above? \n",
    "\n",
    "A. For runners under the age of 35, there is no relationship at all between BMI and the time it takes to complete a 5 km race . \n",
    "\n",
    "B. For runners under 35, we see that as BMI increases the time it takes to complete a 5 km race increases. This suggests that there is a positive relationship between these two variables for runners under 35 in this data set. \n",
    "\n",
    "C. For runners under 35, we see that as BMI increases the time it takes to complete a 5 km decreases. This suggests that there is a negative relationship between these two variables for runners under 35 in this data set.\n",
    "\n",
    "*Assign your answer to an object called `answer1.9`. Make sure your answer is an uppercase letter and is surrounded by quotation marks (e.g. `\"F\"`).*"
   ]
  },
  {
   "cell_type": "code",
   "execution_count": 112,
   "metadata": {
    "deletable": false,
    "nbgrader": {
     "cell_type": "code",
     "checksum": "327dea1f1a04c8ca8fb3bec3a2c28e45",
     "grade": false,
     "grade_id": "cell-60a176d22d144d14",
     "locked": false,
     "schema_version": 3,
     "solution": true,
     "task": false
    }
   },
   "outputs": [],
   "source": [
    "# Replace the fail() with your answer. \n",
    "\n",
    "answer1.9 <- \"B\""
   ]
  },
  {
   "cell_type": "code",
   "execution_count": 113,
   "metadata": {
    "deletable": false,
    "editable": false,
    "nbgrader": {
     "cell_type": "code",
     "checksum": "8b49436509dec02549c99b9e59a988d9",
     "grade": true,
     "grade_id": "cell-ea3ffe9c476dc109",
     "locked": true,
     "points": 3,
     "schema_version": 3,
     "solution": false,
     "task": false
    }
   },
   "outputs": [],
   "source": [
    "# Here we check whether you have the correct object name(s). However,\n",
    "# all other tests were intentionally hidden so that you can practice deciding \n",
    "# when you have the correct answer.\n",
    "test_that(\"Did not create an object named answer1.9\", {\n",
    "    expect_true(exists(\"answer1.9\")) \n",
    "})\n"
   ]
  },
  {
   "cell_type": "markdown",
   "metadata": {
    "deletable": false,
    "editable": false,
    "nbgrader": {
     "cell_type": "markdown",
     "checksum": "c6cd8f7295a58fb4c0de4c7aa78c192c",
     "grade": false,
     "grade_id": "cell-b324b8cf4a4cfdb7",
     "locked": true,
     "schema_version": 3,
     "solution": false
    }
   },
   "source": [
    "**Question 1.10**\n",
    "<br> {points: 1}\n",
    "\n",
    "Now explore the relationship between the **age** of all runners and the time taken to complete the 5 km run (in minutes again). Using the original `marathon_small` data frame, mutate the `km5_time_seconds` column such that it is in minutes. Save the resulting data frame to an object called `marathon_small_mins`.\n",
    "\n",
    "Next, create a scatter plot (similar to the one in Question 1.9) but this time have `age` on the x-axis. Assign your plot to an object called `age_vs_time`.\n",
    "\n",
    "There is a lot missing from the cell below (no hints were given). Try working on it on your own before looking at earlier questions in this tutorial or worksheet_01. \n",
    "\n",
    "*Don't forget to label your axes! Where appropriate, axes labels should also include units (for example, the axis that maps to the column `age` should have the unit \"years\").*"
   ]
  },
  {
   "cell_type": "code",
   "execution_count": 114,
   "metadata": {
    "deletable": false,
    "nbgrader": {
     "cell_type": "code",
     "checksum": "516e1b5baa103a19b90a17a1434fb552",
     "grade": false,
     "grade_id": "cell-c22a955cd4404c5b",
     "locked": false,
     "schema_version": 3,
     "solution": true,
     "task": false
    }
   },
   "outputs": [
    {
     "name": "stderr",
     "output_type": "stream",
     "text": [
      "Warning message:\n",
      "“Removed 446 rows containing missing values (geom_point).”\n"
     ]
    },
    {
     "data": {
      "image/png": "[encoded data removed]",
      "text/plain": [
       "plot without title"
      ]
     },
     "metadata": {
      "image/png": {
       "height": 480,
       "width": 480
      }
     },
     "output_type": "display_data"
    }
   ],
   "source": [
    "# your code here\n",
    "\n",
    "marathon_small_mins <- mutate(marathon_small, km5_time_minutes = km5_time_seconds / 60)\n",
    "age_vs_time <- ggplot(marathon_small_mins, aes(x = age, y = km5_time_minutes)) + geom_point() + xlab(\"Age (in years)\") + ylab(\"5 km Running Time Record (in min)\")\n",
    "age_vs_time"
   ]
  },
  {
   "cell_type": "code",
   "execution_count": 115,
   "metadata": {
    "deletable": false,
    "editable": false,
    "nbgrader": {
     "cell_type": "code",
     "checksum": "cfe3537b57dc90a1e3062d6b104d89df",
     "grade": true,
     "grade_id": "cell-4d1c3570e13e2bf5",
     "locked": true,
     "points": 1,
     "schema_version": 3,
     "solution": false,
     "task": false
    }
   },
   "outputs": [
    {
     "name": "stdout",
     "output_type": "stream",
     "text": [
      "[1] \"Success!\"\n"
     ]
    }
   ],
   "source": [
    "test_1.10()"
   ]
  },
  {
   "cell_type": "markdown",
   "metadata": {
    "deletable": false,
    "editable": false,
    "nbgrader": {
     "cell_type": "markdown",
     "checksum": "43b372862eae450b956b622d80dfdd4f",
     "grade": false,
     "grade_id": "cell-9d31aa288903a9ea",
     "locked": true,
     "schema_version": 3,
     "solution": false
    }
   },
   "source": [
    "**Question 1.11**\n",
    "<br> {points: 3}\n",
    "\n",
    "In the plot above, we can see a positive relationship between age and time taken to complete a 5 km run. Is this relationship strong (points are close together) or weak (points are more widely scattered)? \n",
    "\n",
    "Assign your answer (either `\"weak\"` or `\"strong\"`) to an object called `answer1.11`. Make sure to write in all lower-case and surround your answer with quotes."
   ]
  },
  {
   "cell_type": "code",
   "execution_count": 116,
   "metadata": {
    "deletable": false,
    "nbgrader": {
     "cell_type": "code",
     "checksum": "b83ee93c69666366c86394fb305efe61",
     "grade": false,
     "grade_id": "cell-233ead150bde1b4c",
     "locked": false,
     "schema_version": 3,
     "solution": true,
     "task": false
    }
   },
   "outputs": [],
   "source": [
    "answer1.11 <- \"weak\""
   ]
  },
  {
   "cell_type": "code",
   "execution_count": 117,
   "metadata": {
    "deletable": false,
    "editable": false,
    "nbgrader": {
     "cell_type": "code",
     "checksum": "663d92e17a612aab986d438448ec5be6",
     "grade": true,
     "grade_id": "cell-9e2ae295dbdda179",
     "locked": true,
     "points": 3,
     "schema_version": 3,
     "solution": false,
     "task": false
    }
   },
   "outputs": [],
   "source": [
    "# Here we check whether you have the correct object name(s). However,\n",
    "# all other tests were intentionally hidden so that you can practice deciding \n",
    "# when you have the correct answer.\n",
    "test_that(\"Did not create an object named answer1.11\", {\n",
    "    expect_true(exists(\"answer1.11\")) \n",
    "})\n"
   ]
  },
  {
   "cell_type": "markdown",
   "metadata": {
    "deletable": false,
    "editable": false,
    "nbgrader": {
     "cell_type": "markdown",
     "checksum": "6074d95e14dc2d1c2b44edb5daae2c41",
     "grade": false,
     "grade_id": "cell-06f94c611090c6cd",
     "locked": true,
     "schema_version": 3,
     "solution": false,
     "task": false
    }
   },
   "source": [
    "## 2. Bike-Sharing\n",
    "\n",
    "Climate change, and solutions to mitigate it, is currently on the tongues and minds of many people. One healthy and environmentally friendly transportation alternative that has been recently gaining popularity is bike-sharing. Apart from their extensive real-world applications in improving health and creating more climate-friendly transit, the data generated by these bike-sharing systems makes them great for research. In contrast to bus and subway transit systems, bike-share transit systems precisely document where a trip starts, where it ends, and how long it lasts, for each individual using the system. This level of individual traceability may allow for better detection of mobility patterns in cities and possible detection of important events.\n",
    "\n",
    "Today, we will be analyzing [data obtained from Capital Bikeshare](http://archive.ics.uci.edu/ml/datasets/Bike+Sharing+Dataset#), a bike-sharing system from Washington, DC. The temperature data (in units of degrees Celsius) has been normalized from the original range so that all values fall between 0 and 1 (a common data processing technique helpful for some machine/statistical learning tools). Our goal is to determine if there is a relationship between temperature and the number of people renting bikes during the Spring (March 20th - June 21st). "
   ]
  },
  {
   "cell_type": "markdown",
   "metadata": {
    "deletable": false,
    "editable": false,
    "nbgrader": {
     "cell_type": "markdown",
     "checksum": "df5960110d07e6c78943229b2e1c78eb",
     "grade": false,
     "grade_id": "cell-de815a806cde9546",
     "locked": true,
     "schema_version": 3,
     "solution": false
    }
   },
   "source": [
    "**Question 2.1** Multiple Choice\n",
    "<br> {points: 1}\n",
    "\n",
    "In comparison to bike-sharing systems, why aren't other modes of transportation as useful when it comes to acquiring data?\n",
    "\n",
    "A. Not as fast. \n",
    "\n",
    "B. Documentation isn't as precise. \n",
    "\n",
    "C. Not as environmentally friendly. \n",
    "\n",
    "D. Bus drivers don't cooperate. \n",
    "\n",
    "*Assign your answer to an object called: `answer2.1`. Make sure your answer is an uppercase letter and is surrounded by quotation marks (e.g. `\"F\"`).*"
   ]
  },
  {
   "cell_type": "code",
   "execution_count": 118,
   "metadata": {
    "deletable": false,
    "nbgrader": {
     "cell_type": "code",
     "checksum": "bb27e92ac8836432d48ee332429063fc",
     "grade": false,
     "grade_id": "cell-2cf1c56a2c4f28cb",
     "locked": false,
     "schema_version": 3,
     "solution": true
    }
   },
   "outputs": [],
   "source": [
    "# Replace the fail() with your answer.\n",
    "\n",
    "answer2.1 <- \"B\""
   ]
  },
  {
   "cell_type": "code",
   "execution_count": 119,
   "metadata": {
    "deletable": false,
    "editable": false,
    "nbgrader": {
     "cell_type": "code",
     "checksum": "398a76aefd6c54a8d472379eb12ca2e4",
     "grade": true,
     "grade_id": "cell-d06d98ba907d1977",
     "locked": true,
     "points": 1,
     "schema_version": 3,
     "solution": false
    }
   },
   "outputs": [
    {
     "name": "stdout",
     "output_type": "stream",
     "text": [
      "[1] \"Success!\"\n"
     ]
    }
   ],
   "source": [
    "test_2.1()"
   ]
  },
  {
   "cell_type": "markdown",
   "metadata": {
    "deletable": false,
    "editable": false,
    "nbgrader": {
     "cell_type": "markdown",
     "checksum": "ae470027f9b0d02b9489b78da78fb990",
     "grade": false,
     "grade_id": "cell-33dc10c33586506f",
     "locked": true,
     "schema_version": 3,
     "solution": false
    }
   },
   "source": [
    "**Question 2.2** Multiple Choice\n",
    "<br> {points: 1}\n",
    "\n",
    "What are the units for the normalized temperature?\n",
    "\n",
    "A. Kelvin\n",
    "\n",
    "B. Fahrenheit \n",
    "\n",
    "C. Celsius \n",
    "\n",
    "*Assign your answer to an object called: `answer2.2`. Make sure your answer is an uppercase letter and is surrounded by quotation marks (e.g. `\"F\"`).*"
   ]
  },
  {
   "cell_type": "code",
   "execution_count": 120,
   "metadata": {
    "deletable": false,
    "nbgrader": {
     "cell_type": "code",
     "checksum": "b78d51dd81a534417833aac2ec8b2af4",
     "grade": false,
     "grade_id": "cell-82289416080754b6",
     "locked": false,
     "schema_version": 3,
     "solution": true
    }
   },
   "outputs": [],
   "source": [
    "# Replace the fail() with your answer.\n",
    "\n",
    "answer2.2 <- \"C\""
   ]
  },
  {
   "cell_type": "code",
   "execution_count": 121,
   "metadata": {
    "deletable": false,
    "editable": false,
    "nbgrader": {
     "cell_type": "code",
     "checksum": "92718237234280624ba5a0a6649337b6",
     "grade": true,
     "grade_id": "cell-ed10ec095b72acec",
     "locked": true,
     "points": 1,
     "schema_version": 3,
     "solution": false
    }
   },
   "outputs": [
    {
     "name": "stdout",
     "output_type": "stream",
     "text": [
      "[1] \"Success!\"\n"
     ]
    }
   ],
   "source": [
    "test_2.2()"
   ]
  },
  {
   "cell_type": "markdown",
   "metadata": {
    "deletable": false,
    "editable": false,
    "nbgrader": {
     "cell_type": "markdown",
     "checksum": "ab875c782c348616ae7476440552d22a",
     "grade": false,
     "grade_id": "cell-040c21f8f09b9a99",
     "locked": true,
     "schema_version": 3,
     "solution": false
    }
   },
   "source": [
    "**Question 2.3** \n",
    "<br> {points: 1}\n",
    "\n",
    "Since we already have `tidyverse` loaded and ready to use, the first step is to read our new data. Add in the missing function and symbol to complete the cell below. Make sure to assign your answer to `bike_data`. "
   ]
  },
  {
   "cell_type": "code",
   "execution_count": 122,
   "metadata": {
    "deletable": false,
    "nbgrader": {
     "cell_type": "code",
     "checksum": "eb23ef55699cd001fda1d6a734c8d698",
     "grade": false,
     "grade_id": "cell-725376dd29896d14",
     "locked": false,
     "schema_version": 3,
     "solution": true
    }
   },
   "outputs": [
    {
     "name": "stderr",
     "output_type": "stream",
     "text": [
      "Parsed with column specification:\n",
      "cols(\n",
      "  temperature = \u001b[32mcol_double()\u001b[39m,\n",
      "  casual_users = \u001b[32mcol_double()\u001b[39m,\n",
      "  registered_users = \u001b[32mcol_double()\u001b[39m,\n",
      "  season = \u001b[31mcol_character()\u001b[39m\n",
      ")\n",
      "\n"
     ]
    },
    {
     "data": {
      "text/html": [
       "<table>\n",
       "<caption>A spec_tbl_df: 731 × 4</caption>\n",
       "<thead>\n",
       "\t<tr><th scope=col>temperature</th><th scope=col>casual_users</th><th scope=col>registered_users</th><th scope=col>season</th></tr>\n",
       "\t<tr><th scope=col>&lt;dbl&gt;</th><th scope=col>&lt;dbl&gt;</th><th scope=col>&lt;dbl&gt;</th><th scope=col>&lt;chr&gt;</th></tr>\n",
       "</thead>\n",
       "<tbody>\n",
       "\t<tr><td>0.344167</td><td>331</td><td> 654</td><td>Spring</td></tr>\n",
       "\t<tr><td>0.363478</td><td>131</td><td> 670</td><td>Spring</td></tr>\n",
       "\t<tr><td>0.196364</td><td>120</td><td>1229</td><td>Spring</td></tr>\n",
       "\t<tr><td>⋮</td><td>⋮</td><td>⋮</td><td>⋮</td></tr>\n",
       "\t<tr><td>0.253333</td><td>159</td><td>1182</td><td>Spring</td></tr>\n",
       "\t<tr><td>0.255833</td><td>364</td><td>1432</td><td>Spring</td></tr>\n",
       "\t<tr><td>0.215833</td><td>439</td><td>2290</td><td>Spring</td></tr>\n",
       "</tbody>\n",
       "</table>\n"
      ],
      "text/latex": [
       "A spec\\_tbl\\_df: 731 × 4\n",
       "\\begin{tabular}{llll}\n",
       " temperature & casual\\_users & registered\\_users & season\\\\\n",
       " <dbl> & <dbl> & <dbl> & <chr>\\\\\n",
       "\\hline\n",
       "\t 0.344167 & 331 &  654 & Spring\\\\\n",
       "\t 0.363478 & 131 &  670 & Spring\\\\\n",
       "\t 0.196364 & 120 & 1229 & Spring\\\\\n",
       "\t ⋮ & ⋮ & ⋮ & ⋮\\\\\n",
       "\t 0.253333 & 159 & 1182 & Spring\\\\\n",
       "\t 0.255833 & 364 & 1432 & Spring\\\\\n",
       "\t 0.215833 & 439 & 2290 & Spring\\\\\n",
       "\\end{tabular}\n"
      ],
      "text/markdown": [
       "\n",
       "A spec_tbl_df: 731 × 4\n",
       "\n",
       "| temperature &lt;dbl&gt; | casual_users &lt;dbl&gt; | registered_users &lt;dbl&gt; | season &lt;chr&gt; |\n",
       "|---|---|---|---|\n",
       "| 0.344167 | 331 |  654 | Spring |\n",
       "| 0.363478 | 131 |  670 | Spring |\n",
       "| 0.196364 | 120 | 1229 | Spring |\n",
       "| ⋮ | ⋮ | ⋮ | ⋮ |\n",
       "| 0.253333 | 159 | 1182 | Spring |\n",
       "| 0.255833 | 364 | 1432 | Spring |\n",
       "| 0.215833 | 439 | 2290 | Spring |\n",
       "\n"
      ],
      "text/plain": [
       "    temperature casual_users registered_users season\n",
       "1   0.344167    331           654             Spring\n",
       "2   0.363478    131           670             Spring\n",
       "3   0.196364    120          1229             Spring\n",
       "⋮   ⋮           ⋮            ⋮                ⋮     \n",
       "729 0.253333    159          1182             Spring\n",
       "730 0.255833    364          1432             Spring\n",
       "731 0.215833    439          2290             Spring"
      ]
     },
     "metadata": {},
     "output_type": "display_data"
    }
   ],
   "source": [
    "#... <- ...(\"bike_share.csv\")\n",
    "\n",
    "bike_data <- read_csv(\"bike_share.csv\")\n",
    "bike_data"
   ]
  },
  {
   "cell_type": "code",
   "execution_count": 123,
   "metadata": {
    "deletable": false,
    "editable": false,
    "nbgrader": {
     "cell_type": "code",
     "checksum": "c7f080827c6c06b9ba695412be839ceb",
     "grade": true,
     "grade_id": "cell-48666a8a98614042",
     "locked": true,
     "points": 1,
     "schema_version": 3,
     "solution": false
    }
   },
   "outputs": [
    {
     "name": "stdout",
     "output_type": "stream",
     "text": [
      "[1] \"Success!\"\n"
     ]
    }
   ],
   "source": [
    "test_2.3()"
   ]
  },
  {
   "cell_type": "markdown",
   "metadata": {
    "deletable": false,
    "editable": false,
    "nbgrader": {
     "cell_type": "markdown",
     "checksum": "8c0b5e1016e8da51e746583e9fe0c675",
     "grade": false,
     "grade_id": "cell-8c4775182d73800e",
     "locked": true,
     "schema_version": 3,
     "solution": false
    }
   },
   "source": [
    "**Question 2.4** \n",
    "<br> {points: 1}\n",
    "\n",
    "Mutate the data such that you have a new column called `total_users`. \n",
    "This column would be the sum of the `casual_users` and the `registered_users`. Assign your answer to an object called `bike_mutate`."
   ]
  },
  {
   "cell_type": "code",
   "execution_count": 124,
   "metadata": {
    "deletable": false,
    "nbgrader": {
     "cell_type": "code",
     "checksum": "2531be51dbaad4016bbd34b4e61bc352",
     "grade": false,
     "grade_id": "cell-9685158f545889b2",
     "locked": false,
     "schema_version": 3,
     "solution": true
    }
   },
   "outputs": [
    {
     "data": {
      "text/html": [
       "<table>\n",
       "<caption>A spec_tbl_df: 731 × 5</caption>\n",
       "<thead>\n",
       "\t<tr><th scope=col>temperature</th><th scope=col>casual_users</th><th scope=col>registered_users</th><th scope=col>season</th><th scope=col>total_users</th></tr>\n",
       "\t<tr><th scope=col>&lt;dbl&gt;</th><th scope=col>&lt;dbl&gt;</th><th scope=col>&lt;dbl&gt;</th><th scope=col>&lt;chr&gt;</th><th scope=col>&lt;dbl&gt;</th></tr>\n",
       "</thead>\n",
       "<tbody>\n",
       "\t<tr><td>0.344167</td><td>331</td><td> 654</td><td>Spring</td><td> 985</td></tr>\n",
       "\t<tr><td>0.363478</td><td>131</td><td> 670</td><td>Spring</td><td> 801</td></tr>\n",
       "\t<tr><td>0.196364</td><td>120</td><td>1229</td><td>Spring</td><td>1349</td></tr>\n",
       "\t<tr><td>⋮</td><td>⋮</td><td>⋮</td><td>⋮</td><td>⋮</td></tr>\n",
       "\t<tr><td>0.253333</td><td>159</td><td>1182</td><td>Spring</td><td>1341</td></tr>\n",
       "\t<tr><td>0.255833</td><td>364</td><td>1432</td><td>Spring</td><td>1796</td></tr>\n",
       "\t<tr><td>0.215833</td><td>439</td><td>2290</td><td>Spring</td><td>2729</td></tr>\n",
       "</tbody>\n",
       "</table>\n"
      ],
      "text/latex": [
       "A spec\\_tbl\\_df: 731 × 5\n",
       "\\begin{tabular}{lllll}\n",
       " temperature & casual\\_users & registered\\_users & season & total\\_users\\\\\n",
       " <dbl> & <dbl> & <dbl> & <chr> & <dbl>\\\\\n",
       "\\hline\n",
       "\t 0.344167 & 331 &  654 & Spring &  985\\\\\n",
       "\t 0.363478 & 131 &  670 & Spring &  801\\\\\n",
       "\t 0.196364 & 120 & 1229 & Spring & 1349\\\\\n",
       "\t ⋮ & ⋮ & ⋮ & ⋮ & ⋮\\\\\n",
       "\t 0.253333 & 159 & 1182 & Spring & 1341\\\\\n",
       "\t 0.255833 & 364 & 1432 & Spring & 1796\\\\\n",
       "\t 0.215833 & 439 & 2290 & Spring & 2729\\\\\n",
       "\\end{tabular}\n"
      ],
      "text/markdown": [
       "\n",
       "A spec_tbl_df: 731 × 5\n",
       "\n",
       "| temperature &lt;dbl&gt; | casual_users &lt;dbl&gt; | registered_users &lt;dbl&gt; | season &lt;chr&gt; | total_users &lt;dbl&gt; |\n",
       "|---|---|---|---|---|\n",
       "| 0.344167 | 331 |  654 | Spring |  985 |\n",
       "| 0.363478 | 131 |  670 | Spring |  801 |\n",
       "| 0.196364 | 120 | 1229 | Spring | 1349 |\n",
       "| ⋮ | ⋮ | ⋮ | ⋮ | ⋮ |\n",
       "| 0.253333 | 159 | 1182 | Spring | 1341 |\n",
       "| 0.255833 | 364 | 1432 | Spring | 1796 |\n",
       "| 0.215833 | 439 | 2290 | Spring | 2729 |\n",
       "\n"
      ],
      "text/plain": [
       "    temperature casual_users registered_users season total_users\n",
       "1   0.344167    331           654             Spring  985       \n",
       "2   0.363478    131           670             Spring  801       \n",
       "3   0.196364    120          1229             Spring 1349       \n",
       "⋮   ⋮           ⋮            ⋮                ⋮      ⋮          \n",
       "729 0.253333    159          1182             Spring 1341       \n",
       "730 0.255833    364          1432             Spring 1796       \n",
       "731 0.215833    439          2290             Spring 2729       "
      ]
     },
     "metadata": {},
     "output_type": "display_data"
    }
   ],
   "source": [
    "#... <- ...(bike_data, ...)\n",
    "\n",
    "bike_mutate <- mutate(bike_data, total_users = casual_users + registered_users)\n",
    "bike_mutate"
   ]
  },
  {
   "cell_type": "code",
   "execution_count": 125,
   "metadata": {
    "deletable": false,
    "editable": false,
    "nbgrader": {
     "cell_type": "code",
     "checksum": "27dd5e8f5445b3caa0623aa8983c7088",
     "grade": true,
     "grade_id": "cell-72591b6954d26444",
     "locked": true,
     "points": 1,
     "schema_version": 3,
     "solution": false
    }
   },
   "outputs": [
    {
     "name": "stdout",
     "output_type": "stream",
     "text": [
      "[1] \"Success!\"\n"
     ]
    }
   ],
   "source": [
    "test_2.4()"
   ]
  },
  {
   "cell_type": "markdown",
   "metadata": {
    "deletable": false,
    "editable": false,
    "nbgrader": {
     "cell_type": "markdown",
     "checksum": "41f91855b301bbea1168c866af0b995d",
     "grade": false,
     "grade_id": "cell-b31394a784dbe759",
     "locked": true,
     "schema_version": 3,
     "solution": false
    }
   },
   "source": [
    "**Question 2.5** \n",
    "<br> {points: 1}\n",
    "\n",
    "Filter out the data to include information about rentals that were only made during `Spring`. Name your answer `bike_filter`. "
   ]
  },
  {
   "cell_type": "code",
   "execution_count": 126,
   "metadata": {
    "deletable": false,
    "nbgrader": {
     "cell_type": "code",
     "checksum": "84271694d1df2b28f178373097d2f8f1",
     "grade": false,
     "grade_id": "cell-cb6259eedeecf3e8",
     "locked": false,
     "schema_version": 3,
     "solution": true
    }
   },
   "outputs": [
    {
     "data": {
      "text/html": [
       "<table>\n",
       "<caption>A spec_tbl_df: 181 × 5</caption>\n",
       "<thead>\n",
       "\t<tr><th scope=col>temperature</th><th scope=col>casual_users</th><th scope=col>registered_users</th><th scope=col>season</th><th scope=col>total_users</th></tr>\n",
       "\t<tr><th scope=col>&lt;dbl&gt;</th><th scope=col>&lt;dbl&gt;</th><th scope=col>&lt;dbl&gt;</th><th scope=col>&lt;chr&gt;</th><th scope=col>&lt;dbl&gt;</th></tr>\n",
       "</thead>\n",
       "<tbody>\n",
       "\t<tr><td>0.344167</td><td>331</td><td> 654</td><td>Spring</td><td> 985</td></tr>\n",
       "\t<tr><td>0.363478</td><td>131</td><td> 670</td><td>Spring</td><td> 801</td></tr>\n",
       "\t<tr><td>0.196364</td><td>120</td><td>1229</td><td>Spring</td><td>1349</td></tr>\n",
       "\t<tr><td>⋮</td><td>⋮</td><td>⋮</td><td>⋮</td><td>⋮</td></tr>\n",
       "\t<tr><td>0.253333</td><td>159</td><td>1182</td><td>Spring</td><td>1341</td></tr>\n",
       "\t<tr><td>0.255833</td><td>364</td><td>1432</td><td>Spring</td><td>1796</td></tr>\n",
       "\t<tr><td>0.215833</td><td>439</td><td>2290</td><td>Spring</td><td>2729</td></tr>\n",
       "</tbody>\n",
       "</table>\n"
      ],
      "text/latex": [
       "A spec\\_tbl\\_df: 181 × 5\n",
       "\\begin{tabular}{lllll}\n",
       " temperature & casual\\_users & registered\\_users & season & total\\_users\\\\\n",
       " <dbl> & <dbl> & <dbl> & <chr> & <dbl>\\\\\n",
       "\\hline\n",
       "\t 0.344167 & 331 &  654 & Spring &  985\\\\\n",
       "\t 0.363478 & 131 &  670 & Spring &  801\\\\\n",
       "\t 0.196364 & 120 & 1229 & Spring & 1349\\\\\n",
       "\t ⋮ & ⋮ & ⋮ & ⋮ & ⋮\\\\\n",
       "\t 0.253333 & 159 & 1182 & Spring & 1341\\\\\n",
       "\t 0.255833 & 364 & 1432 & Spring & 1796\\\\\n",
       "\t 0.215833 & 439 & 2290 & Spring & 2729\\\\\n",
       "\\end{tabular}\n"
      ],
      "text/markdown": [
       "\n",
       "A spec_tbl_df: 181 × 5\n",
       "\n",
       "| temperature &lt;dbl&gt; | casual_users &lt;dbl&gt; | registered_users &lt;dbl&gt; | season &lt;chr&gt; | total_users &lt;dbl&gt; |\n",
       "|---|---|---|---|---|\n",
       "| 0.344167 | 331 |  654 | Spring |  985 |\n",
       "| 0.363478 | 131 |  670 | Spring |  801 |\n",
       "| 0.196364 | 120 | 1229 | Spring | 1349 |\n",
       "| ⋮ | ⋮ | ⋮ | ⋮ | ⋮ |\n",
       "| 0.253333 | 159 | 1182 | Spring | 1341 |\n",
       "| 0.255833 | 364 | 1432 | Spring | 1796 |\n",
       "| 0.215833 | 439 | 2290 | Spring | 2729 |\n",
       "\n"
      ],
      "text/plain": [
       "    temperature casual_users registered_users season total_users\n",
       "1   0.344167    331           654             Spring  985       \n",
       "2   0.363478    131           670             Spring  801       \n",
       "3   0.196364    120          1229             Spring 1349       \n",
       "⋮   ⋮           ⋮            ⋮                ⋮      ⋮          \n",
       "179 0.253333    159          1182             Spring 1341       \n",
       "180 0.255833    364          1432             Spring 1796       \n",
       "181 0.215833    439          2290             Spring 2729       "
      ]
     },
     "metadata": {},
     "output_type": "display_data"
    }
   ],
   "source": [
    "#... <- ...(bike_mutate, ... == \"Spring\")\n",
    "\n",
    "bike_filter <- filter(bike_mutate, season == \"Spring\")\n",
    "bike_filter"
   ]
  },
  {
   "cell_type": "code",
   "execution_count": 127,
   "metadata": {
    "deletable": false,
    "editable": false,
    "nbgrader": {
     "cell_type": "code",
     "checksum": "67c0464180f97ebf54b8ffd07dc81b6a",
     "grade": true,
     "grade_id": "cell-ae4372c768287348",
     "locked": true,
     "points": 1,
     "schema_version": 3,
     "solution": false
    }
   },
   "outputs": [
    {
     "name": "stdout",
     "output_type": "stream",
     "text": [
      "[1] \"Success!\"\n"
     ]
    }
   ],
   "source": [
    "test_2.5()"
   ]
  },
  {
   "cell_type": "markdown",
   "metadata": {
    "deletable": false,
    "editable": false,
    "nbgrader": {
     "cell_type": "markdown",
     "checksum": "b8766e17fd912ac6143d0874e806ef1c",
     "grade": false,
     "grade_id": "cell-f6bdff9fe357f6d6",
     "locked": true,
     "schema_version": 3,
     "solution": false
    }
   },
   "source": [
    "**Question 2.6** \n",
    "<br> {points: 3}\n",
    "\n",
    "Select the columns from the data that we wish to plot. Name your answer `bike_select`.\n",
    "\n",
    "*Hint: if you have forgetten, scroll up and re-read the introduction to this exercise.* "
   ]
  },
  {
   "cell_type": "code",
   "execution_count": 128,
   "metadata": {
    "deletable": false,
    "nbgrader": {
     "cell_type": "code",
     "checksum": "28259bf605ef3903580c4fd73f34173d",
     "grade": false,
     "grade_id": "cell-d6bf8ba0fdbf99e1",
     "locked": false,
     "schema_version": 3,
     "solution": true
    }
   },
   "outputs": [
    {
     "data": {
      "text/html": [
       "<table>\n",
       "<caption>A tibble: 181 × 2</caption>\n",
       "<thead>\n",
       "\t<tr><th scope=col>temperature</th><th scope=col>total_users</th></tr>\n",
       "\t<tr><th scope=col>&lt;dbl&gt;</th><th scope=col>&lt;dbl&gt;</th></tr>\n",
       "</thead>\n",
       "<tbody>\n",
       "\t<tr><td>0.344167</td><td> 985</td></tr>\n",
       "\t<tr><td>0.363478</td><td> 801</td></tr>\n",
       "\t<tr><td>0.196364</td><td>1349</td></tr>\n",
       "\t<tr><td>⋮</td><td>⋮</td></tr>\n",
       "\t<tr><td>0.253333</td><td>1341</td></tr>\n",
       "\t<tr><td>0.255833</td><td>1796</td></tr>\n",
       "\t<tr><td>0.215833</td><td>2729</td></tr>\n",
       "</tbody>\n",
       "</table>\n"
      ],
      "text/latex": [
       "A tibble: 181 × 2\n",
       "\\begin{tabular}{ll}\n",
       " temperature & total\\_users\\\\\n",
       " <dbl> & <dbl>\\\\\n",
       "\\hline\n",
       "\t 0.344167 &  985\\\\\n",
       "\t 0.363478 &  801\\\\\n",
       "\t 0.196364 & 1349\\\\\n",
       "\t ⋮ & ⋮\\\\\n",
       "\t 0.253333 & 1341\\\\\n",
       "\t 0.255833 & 1796\\\\\n",
       "\t 0.215833 & 2729\\\\\n",
       "\\end{tabular}\n"
      ],
      "text/markdown": [
       "\n",
       "A tibble: 181 × 2\n",
       "\n",
       "| temperature &lt;dbl&gt; | total_users &lt;dbl&gt; |\n",
       "|---|---|\n",
       "| 0.344167 |  985 |\n",
       "| 0.363478 |  801 |\n",
       "| 0.196364 | 1349 |\n",
       "| ⋮ | ⋮ |\n",
       "| 0.253333 | 1341 |\n",
       "| 0.255833 | 1796 |\n",
       "| 0.215833 | 2729 |\n",
       "\n"
      ],
      "text/plain": [
       "    temperature total_users\n",
       "1   0.344167     985       \n",
       "2   0.363478     801       \n",
       "3   0.196364    1349       \n",
       "⋮   ⋮           ⋮          \n",
       "179 0.253333    1341       \n",
       "180 0.255833    1796       \n",
       "181 0.215833    2729       "
      ]
     },
     "metadata": {},
     "output_type": "display_data"
    }
   ],
   "source": [
    "#... <- select(...)\n",
    "\n",
    "bike_select <- select(bike_filter, temperature, total_users)\n",
    "bike_select"
   ]
  },
  {
   "cell_type": "code",
   "execution_count": 129,
   "metadata": {
    "deletable": false,
    "editable": false,
    "nbgrader": {
     "cell_type": "code",
     "checksum": "0fd9b7cdfd81981f4f994266c180990f",
     "grade": true,
     "grade_id": "cell-ea4089cd0490790f",
     "locked": true,
     "points": 3,
     "schema_version": 3,
     "solution": false
    }
   },
   "outputs": [],
   "source": [
    "# Here we check whether you have the correct object name(s). However,\n",
    "# all other tests were intentionally hidden so that you can practice deciding \n",
    "# when you have the correct answer.\n",
    "test_that(\"Did not create an object named bike_select\", {\n",
    "    expect_true(exists(\"bike_select\")) \n",
    "})\n"
   ]
  },
  {
   "cell_type": "markdown",
   "metadata": {
    "deletable": false,
    "editable": false,
    "nbgrader": {
     "cell_type": "markdown",
     "checksum": "26a3b6651a0277b19d3cadb212d9231b",
     "grade": false,
     "grade_id": "cell-d998752e81ad7842",
     "locked": true,
     "schema_version": 3,
     "solution": false
    }
   },
   "source": [
    "**Question 2.7** \n",
    "<br> {points: 3}\n",
    "\n",
    "Plot the data as a scatter plot. \n",
    "\n",
    "There is a lot missing from the cell below (no hints were given). Try completing this on your own before looking back at any previous exercises. Assign your plot to an object called `bike_plot_spring`.\n",
    "\n",
    "*Hint: what do you think should be the x-axis / y-axis? Don't forget to label your axes! Where appropriate, axes labels should also include units (for example, the axis mapped to the `temperature` column should have the units \"normalized degrees Celsius\").*"
   ]
  },
  {
   "cell_type": "code",
   "execution_count": 130,
   "metadata": {
    "deletable": false,
    "nbgrader": {
     "cell_type": "code",
     "checksum": "ecf2a6d4a04b6d1a1f24427214d0c2c3",
     "grade": false,
     "grade_id": "cell-d96ff44fe30428be",
     "locked": false,
     "schema_version": 3,
     "solution": true,
     "task": false
    }
   },
   "outputs": [
    {
     "data": {
      "image/png": "[encoded data removed]",
      "text/plain": [
       "plot without title"
      ]
     },
     "metadata": {
      "image/png": {
       "height": 480,
       "width": 480
      }
     },
     "output_type": "display_data"
    }
   ],
   "source": [
    "bike_plot_spring <- ggplot(bike_select, aes(x = temperature, y = total_users)) + \n",
    "                        geom_point() + \n",
    "                        xlab(\"Temperature (in Normalized Degrees Celsius)\") +\n",
    "                        ylab(\"Number of People Rented Bike (in # of person)\")\n",
    "bike_plot_spring"
   ]
  },
  {
   "cell_type": "code",
   "execution_count": 131,
   "metadata": {
    "deletable": false,
    "editable": false,
    "nbgrader": {
     "cell_type": "code",
     "checksum": "4fc260480074c8d42990164d55b067b4",
     "grade": true,
     "grade_id": "cell-15aff75b717f53ee",
     "locked": true,
     "points": 3,
     "schema_version": 3,
     "solution": false
    }
   },
   "outputs": [],
   "source": [
    "# Here we check whether you have the correct object name(s). However,\n",
    "# all other tests were intentionally hidden so that you can practice deciding \n",
    "# when you have the correct answer.\n",
    "test_that(\"Did not create a plot named bike_plot_spring\", {\n",
    "    expect_true(exists(\"bike_plot_spring\")) \n",
    "})\n"
   ]
  },
  {
   "cell_type": "markdown",
   "metadata": {
    "deletable": false,
    "editable": false,
    "nbgrader": {
     "cell_type": "markdown",
     "checksum": "257eec6cd355979db3090f0729bed461",
     "grade": false,
     "grade_id": "cell-d9337eb068332ba1",
     "locked": true,
     "schema_version": 3,
     "solution": false
    }
   },
   "source": [
    "**Question 2.8** \n",
    "<br> {points: 3}\n",
    "\n",
    "In 1-2 sentences, describe whether there is a relationship between the variables observed in the scatterplot of the data for the spring season. Comment on the direction and the strength of the relationship (if there is one), and how the variables change with respect to each other (if they do)."
   ]
  },
  {
   "cell_type": "markdown",
   "metadata": {
    "deletable": false,
    "nbgrader": {
     "cell_type": "markdown",
     "checksum": "463cd8c689356fd414f2ff297441236d",
     "grade": true,
     "grade_id": "cell-b82402894d84e002",
     "locked": false,
     "points": 3,
     "schema_version": 3,
     "solution": true
    }
   },
   "source": [
    "**`There is a medium (not strong but also not weak) positive relationship between temperature and number of people rented bike in spring. As the temperature increases, the number of people who rented bike increases.`**"
   ]
  },
  {
   "cell_type": "markdown",
   "metadata": {
    "deletable": false,
    "editable": false,
    "nbgrader": {
     "cell_type": "markdown",
     "checksum": "52d3ca5bcd0e348edddfe6d9b553207c",
     "grade": false,
     "grade_id": "cell-496c01803b66e800",
     "locked": true,
     "schema_version": 3,
     "solution": false,
     "task": false
    }
   },
   "source": [
    "## 3. Bike-Sharing Continued\n",
    "\n",
    "For this exercise, we are going to continue working with Capital Bikeshare dataset. This part of the tutorial will focus on your understanding of how the functions work and test your ability to write code without hints. Note that we have also intentionally decreased the number of auto-graded questions for the remainder of the tutorial.\n",
    "\n",
    "Unlike the previous exercise, we now want to determine if there is a relationship between temperature and the amount of people renting bikes during Fall (September 22nd - December 21st).  \n",
    "\n",
    "*Try completing this Exercise from start to finish without any outside help. If you are struggling with a particular question, look at Exercise 2 for assistance.*"
   ]
  },
  {
   "cell_type": "markdown",
   "metadata": {
    "deletable": false,
    "editable": false,
    "nbgrader": {
     "cell_type": "markdown",
     "checksum": "1197d09b5d85f022e6c8edbe90119122",
     "grade": false,
     "grade_id": "cell-7eda544cbea0bea4",
     "locked": true,
     "schema_version": 3,
     "solution": false
    }
   },
   "source": [
    "**Question 3.1** Multiple Choice\n",
    "<br> {points: 1}\n",
    "\n",
    "Which column is going to be filtered during this exercise?\n",
    "\n",
    "A. `casual_users`\n",
    "\n",
    "B. `season`\n",
    "\n",
    "C. `temperature`\n",
    "\n",
    "D. `total_users`\n",
    "\n",
    "*Assign your answer to an object called `answer3.1`. Make sure your answer is an uppercase letter and is surrounded by quotation marks (e.g. `\"F\"`).*"
   ]
  },
  {
   "cell_type": "code",
   "execution_count": 132,
   "metadata": {
    "deletable": false,
    "nbgrader": {
     "cell_type": "code",
     "checksum": "2e052e8826133350c35dc3a0af484f80",
     "grade": false,
     "grade_id": "cell-27f3db6e4f543f8b",
     "locked": false,
     "schema_version": 3,
     "solution": true
    }
   },
   "outputs": [],
   "source": [
    "# Replace fail() with your answer. \n",
    "\n",
    "answer3.1 <- \"B\""
   ]
  },
  {
   "cell_type": "code",
   "execution_count": 133,
   "metadata": {
    "deletable": false,
    "editable": false,
    "nbgrader": {
     "cell_type": "code",
     "checksum": "25a7005d0cbbc63998fa94f66ed288ac",
     "grade": true,
     "grade_id": "cell-df34058ddcf40d34",
     "locked": true,
     "points": 1,
     "schema_version": 3,
     "solution": false
    }
   },
   "outputs": [
    {
     "name": "stdout",
     "output_type": "stream",
     "text": [
      "[1] \"Success!\"\n"
     ]
    }
   ],
   "source": [
    "test_3.1()"
   ]
  },
  {
   "cell_type": "markdown",
   "metadata": {
    "deletable": false,
    "editable": false,
    "nbgrader": {
     "cell_type": "markdown",
     "checksum": "2dc00a2dea415c19415e459f8655fe49",
     "grade": false,
     "grade_id": "cell-ead9fd93f7cc5803",
     "locked": true,
     "schema_version": 3,
     "solution": false
    }
   },
   "source": [
    "**Question 3.2** \n",
    "<br> {points: 3}\n",
    "\n",
    "Recall that the `tidyverse` package has loaded and the data has already been read. The next step is to mutate the data such that we have information on all the users. Make sure to save your answer to an object called `bike_mutated`, and make sure to create a column called `total_users`."
   ]
  },
  {
   "cell_type": "code",
   "execution_count": 134,
   "metadata": {
    "deletable": false,
    "nbgrader": {
     "cell_type": "code",
     "checksum": "75feefa52ac9ef2b75f132b64e4b26f7",
     "grade": false,
     "grade_id": "cell-39303850daf03030",
     "locked": false,
     "schema_version": 3,
     "solution": true,
     "task": false
    }
   },
   "outputs": [
    {
     "data": {
      "text/html": [
       "<table>\n",
       "<caption>A spec_tbl_df: 731 × 5</caption>\n",
       "<thead>\n",
       "\t<tr><th scope=col>temperature</th><th scope=col>casual_users</th><th scope=col>registered_users</th><th scope=col>season</th><th scope=col>total_users</th></tr>\n",
       "\t<tr><th scope=col>&lt;dbl&gt;</th><th scope=col>&lt;dbl&gt;</th><th scope=col>&lt;dbl&gt;</th><th scope=col>&lt;chr&gt;</th><th scope=col>&lt;dbl&gt;</th></tr>\n",
       "</thead>\n",
       "<tbody>\n",
       "\t<tr><td>0.344167</td><td>331</td><td> 654</td><td>Spring</td><td> 985</td></tr>\n",
       "\t<tr><td>0.363478</td><td>131</td><td> 670</td><td>Spring</td><td> 801</td></tr>\n",
       "\t<tr><td>0.196364</td><td>120</td><td>1229</td><td>Spring</td><td>1349</td></tr>\n",
       "\t<tr><td>⋮</td><td>⋮</td><td>⋮</td><td>⋮</td><td>⋮</td></tr>\n",
       "\t<tr><td>0.253333</td><td>159</td><td>1182</td><td>Spring</td><td>1341</td></tr>\n",
       "\t<tr><td>0.255833</td><td>364</td><td>1432</td><td>Spring</td><td>1796</td></tr>\n",
       "\t<tr><td>0.215833</td><td>439</td><td>2290</td><td>Spring</td><td>2729</td></tr>\n",
       "</tbody>\n",
       "</table>\n"
      ],
      "text/latex": [
       "A spec\\_tbl\\_df: 731 × 5\n",
       "\\begin{tabular}{lllll}\n",
       " temperature & casual\\_users & registered\\_users & season & total\\_users\\\\\n",
       " <dbl> & <dbl> & <dbl> & <chr> & <dbl>\\\\\n",
       "\\hline\n",
       "\t 0.344167 & 331 &  654 & Spring &  985\\\\\n",
       "\t 0.363478 & 131 &  670 & Spring &  801\\\\\n",
       "\t 0.196364 & 120 & 1229 & Spring & 1349\\\\\n",
       "\t ⋮ & ⋮ & ⋮ & ⋮ & ⋮\\\\\n",
       "\t 0.253333 & 159 & 1182 & Spring & 1341\\\\\n",
       "\t 0.255833 & 364 & 1432 & Spring & 1796\\\\\n",
       "\t 0.215833 & 439 & 2290 & Spring & 2729\\\\\n",
       "\\end{tabular}\n"
      ],
      "text/markdown": [
       "\n",
       "A spec_tbl_df: 731 × 5\n",
       "\n",
       "| temperature &lt;dbl&gt; | casual_users &lt;dbl&gt; | registered_users &lt;dbl&gt; | season &lt;chr&gt; | total_users &lt;dbl&gt; |\n",
       "|---|---|---|---|---|\n",
       "| 0.344167 | 331 |  654 | Spring |  985 |\n",
       "| 0.363478 | 131 |  670 | Spring |  801 |\n",
       "| 0.196364 | 120 | 1229 | Spring | 1349 |\n",
       "| ⋮ | ⋮ | ⋮ | ⋮ | ⋮ |\n",
       "| 0.253333 | 159 | 1182 | Spring | 1341 |\n",
       "| 0.255833 | 364 | 1432 | Spring | 1796 |\n",
       "| 0.215833 | 439 | 2290 | Spring | 2729 |\n",
       "\n"
      ],
      "text/plain": [
       "    temperature casual_users registered_users season total_users\n",
       "1   0.344167    331           654             Spring  985       \n",
       "2   0.363478    131           670             Spring  801       \n",
       "3   0.196364    120          1229             Spring 1349       \n",
       "⋮   ⋮           ⋮            ⋮                ⋮      ⋮          \n",
       "729 0.253333    159          1182             Spring 1341       \n",
       "730 0.255833    364          1432             Spring 1796       \n",
       "731 0.215833    439          2290             Spring 2729       "
      ]
     },
     "metadata": {},
     "output_type": "display_data"
    }
   ],
   "source": [
    "# Replace fail() with your line of code. \n",
    "\n",
    "bike_mutated <- mutate(bike_data, total_users = casual_users + registered_users)\n",
    "bike_mutated"
   ]
  },
  {
   "cell_type": "code",
   "execution_count": 135,
   "metadata": {
    "deletable": false,
    "editable": false,
    "nbgrader": {
     "cell_type": "code",
     "checksum": "8eae8e891039022165261b5e5935956b",
     "grade": true,
     "grade_id": "cell-d078f12a02af4811",
     "locked": true,
     "points": 3,
     "schema_version": 3,
     "solution": false,
     "task": false
    }
   },
   "outputs": [],
   "source": [
    "# Here we check whether you have the correct object name(s). However,\n",
    "# all other tests were intentionally hidden so that you can practice deciding \n",
    "# when you have the correct answer.\n",
    "test_that(\"Did not create an object named bike_mutated\", {\n",
    "    expect_true(exists(\"bike_mutated\"))\n",
    "    expect_true(\"total_users\" %in% colnames(bike_mutated)) \n",
    "})\n"
   ]
  },
  {
   "cell_type": "markdown",
   "metadata": {
    "deletable": false,
    "editable": false,
    "nbgrader": {
     "cell_type": "markdown",
     "checksum": "e81a0941d98e77f17103ad7600db9d5b",
     "grade": false,
     "grade_id": "cell-67669610134de359",
     "locked": true,
     "schema_version": 3,
     "solution": false
    }
   },
   "source": [
    "**Question 3.3** \n",
    "<br> {points: 3}\n",
    "\n",
    "Filter out the data to include information about rentals that were only made during `Fall` - assign this data frame to an object called `bike_filtered`. Next, select for the columns we wish to plot. Name your answer `bike_selected`. "
   ]
  },
  {
   "cell_type": "code",
   "execution_count": 136,
   "metadata": {
    "deletable": false,
    "nbgrader": {
     "cell_type": "code",
     "checksum": "bac53cb5fcb76f4f17d90aba1b448bfb",
     "grade": false,
     "grade_id": "cell-d81822a09ef9e8d1",
     "locked": false,
     "schema_version": 3,
     "solution": true,
     "task": false
    }
   },
   "outputs": [
    {
     "data": {
      "text/html": [
       "<table>\n",
       "<caption>A tibble: 188 × 2</caption>\n",
       "<thead>\n",
       "\t<tr><th scope=col>temperature</th><th scope=col>total_users</th></tr>\n",
       "\t<tr><th scope=col>&lt;dbl&gt;</th><th scope=col>&lt;dbl&gt;</th></tr>\n",
       "</thead>\n",
       "<tbody>\n",
       "\t<tr><td>0.680833</td><td>4835</td></tr>\n",
       "\t<tr><td>0.733333</td><td>4507</td></tr>\n",
       "\t<tr><td>0.728333</td><td>4790</td></tr>\n",
       "\t<tr><td>⋮</td><td>⋮</td></tr>\n",
       "\t<tr><td>0.546667</td><td>7720</td></tr>\n",
       "\t<tr><td>0.599167</td><td>8167</td></tr>\n",
       "\t<tr><td>0.650000</td><td>8395</td></tr>\n",
       "</tbody>\n",
       "</table>\n"
      ],
      "text/latex": [
       "A tibble: 188 × 2\n",
       "\\begin{tabular}{ll}\n",
       " temperature & total\\_users\\\\\n",
       " <dbl> & <dbl>\\\\\n",
       "\\hline\n",
       "\t 0.680833 & 4835\\\\\n",
       "\t 0.733333 & 4507\\\\\n",
       "\t 0.728333 & 4790\\\\\n",
       "\t ⋮ & ⋮\\\\\n",
       "\t 0.546667 & 7720\\\\\n",
       "\t 0.599167 & 8167\\\\\n",
       "\t 0.650000 & 8395\\\\\n",
       "\\end{tabular}\n"
      ],
      "text/markdown": [
       "\n",
       "A tibble: 188 × 2\n",
       "\n",
       "| temperature &lt;dbl&gt; | total_users &lt;dbl&gt; |\n",
       "|---|---|\n",
       "| 0.680833 | 4835 |\n",
       "| 0.733333 | 4507 |\n",
       "| 0.728333 | 4790 |\n",
       "| ⋮ | ⋮ |\n",
       "| 0.546667 | 7720 |\n",
       "| 0.599167 | 8167 |\n",
       "| 0.650000 | 8395 |\n",
       "\n"
      ],
      "text/plain": [
       "    temperature total_users\n",
       "1   0.680833    4835       \n",
       "2   0.733333    4507       \n",
       "3   0.728333    4790       \n",
       "⋮   ⋮           ⋮          \n",
       "186 0.546667    7720       \n",
       "187 0.599167    8167       \n",
       "188 0.650000    8395       "
      ]
     },
     "metadata": {},
     "output_type": "display_data"
    }
   ],
   "source": [
    "# Replace fail() with your line of code. \n",
    "\n",
    "bike_filtered <- filter(bike_mutated, season == \"Fall\")\n",
    "bike_selected <- select(bike_filtered, temperature, total_users)\n",
    "bike_selected"
   ]
  },
  {
   "cell_type": "code",
   "execution_count": 137,
   "metadata": {
    "deletable": false,
    "editable": false,
    "nbgrader": {
     "cell_type": "code",
     "checksum": "c38d733852caa129c77c8fe81289a8e1",
     "grade": true,
     "grade_id": "cell-f83d8178b0983eaf",
     "locked": true,
     "points": 3,
     "schema_version": 3,
     "solution": false,
     "task": false
    }
   },
   "outputs": [],
   "source": [
    "# Here we check whether you have the correct object name(s). However,\n",
    "# all other tests were intentionally hidden so that you can practice deciding \n",
    "# when you have the correct answer.\n",
    "test_that(\"Did not create an object named bike_filtered\", {\n",
    "    expect_true(exists(\"bike_filtered\")) \n",
    "})\n",
    "test_that(\"Did not create an object named bike_selected\", {\n",
    "    expect_true(exists(\"bike_selected\")) \n",
    "})\n"
   ]
  },
  {
   "cell_type": "markdown",
   "metadata": {
    "deletable": false,
    "editable": false,
    "nbgrader": {
     "cell_type": "markdown",
     "checksum": "e046a6f4dee903a9a4866b004087ad3f",
     "grade": false,
     "grade_id": "cell-9ec71f0f8c57613d",
     "locked": true,
     "schema_version": 3,
     "solution": false
    }
   },
   "source": [
    "**Question 3.4** \n",
    "<br> {points: 3}\n",
    "\n",
    "Plot the data as a scatter plot. Label your x-axis: `Temperature (normalized degrees Celsius)` and your y-axis: `Total Users (Casual and Registered)`. Assign your plot to an object called `bike_plot_fall`."
   ]
  },
  {
   "cell_type": "code",
   "execution_count": 138,
   "metadata": {
    "deletable": false,
    "nbgrader": {
     "cell_type": "code",
     "checksum": "d607ec3526c42c3f164a9ba505bc0d7e",
     "grade": false,
     "grade_id": "cell-68a6cb066e2250a9",
     "locked": false,
     "schema_version": 3,
     "solution": true,
     "task": false
    }
   },
   "outputs": [
    {
     "data": {
      "image/png": "[encoded data removed]",
      "text/plain": [
       "plot without title"
      ]
     },
     "metadata": {
      "image/png": {
       "height": 480,
       "width": 480
      }
     },
     "output_type": "display_data"
    }
   ],
   "source": [
    "# Replace the fail() with your line of code (answer). \n",
    "\n",
    "bike_plot_fall <- ggplot(bike_selected, aes(x = temperature, y = total_users)) +\n",
    "                      geom_point() +\n",
    "                      xlab(\"Temperature (normalized degrees Celsius)\") +\n",
    "                      ylab(\"Total Users (Casual and Registered)\")\n",
    "bike_plot_fall"
   ]
  },
  {
   "cell_type": "code",
   "execution_count": 139,
   "metadata": {
    "deletable": false,
    "editable": false,
    "nbgrader": {
     "cell_type": "code",
     "checksum": "3e724675993a11b8e28cc5952d23421a",
     "grade": true,
     "grade_id": "cell-bed51905509ec5ba",
     "locked": true,
     "points": 3,
     "schema_version": 3,
     "solution": false,
     "task": false
    }
   },
   "outputs": [],
   "source": [
    "# Here we check whether you have the correct object name(s). However,\n",
    "# all other tests were intentionally hidden so that you can practice deciding \n",
    "# when you have the correct answer.\n",
    "test_that(\"Did not create an object named bike_plot_fall\", {\n",
    "    expect_true(exists(\"bike_plot_fall\")) \n",
    "})\n"
   ]
  },
  {
   "cell_type": "markdown",
   "metadata": {
    "deletable": false,
    "editable": false,
    "nbgrader": {
     "cell_type": "markdown",
     "checksum": "cdc09a57aef5d23fe30922f47b381e9b",
     "grade": false,
     "grade_id": "cell-0fd8f05654f1a761",
     "locked": true,
     "schema_version": 3,
     "solution": false
    }
   },
   "source": [
    "**Question 3.5** \n",
    "<br> {points: 3}\n",
    "\n",
    "In one sentence, describe whether there is a relationship observed in the scatter plot for the fall season, and if so, the direction of that relationship."
   ]
  },
  {
   "cell_type": "markdown",
   "metadata": {
    "deletable": false,
    "nbgrader": {
     "cell_type": "markdown",
     "checksum": "937f375f64e55e7d1e3a5cff8d97209e",
     "grade": true,
     "grade_id": "cell-5cffa9bce11917de",
     "locked": false,
     "points": 3,
     "schema_version": 3,
     "solution": true
    }
   },
   "source": [
    "**`There is no relationship between temperature and number of people rented bike in fall.`**"
   ]
  },
  {
   "cell_type": "markdown",
   "metadata": {
    "deletable": false,
    "editable": false,
    "nbgrader": {
     "cell_type": "markdown",
     "checksum": "633a1920c9542cd361515dd3d095a3ff",
     "grade": false,
     "grade_id": "cell-5a83e5402e223b72",
     "locked": true,
     "schema_version": 3,
     "solution": false
    }
   },
   "source": [
    "**Question 3.6** \n",
    "<br> {points: 3}\n",
    "\n",
    "Looking at the scatter plots for the spring and the fall seasons, what difference(s) do you see? Based on these two plots, what might you recommend to this company to increase their users?"
   ]
  },
  {
   "cell_type": "markdown",
   "metadata": {
    "deletable": false,
    "nbgrader": {
     "cell_type": "markdown",
     "checksum": "6dbc83959f49c9927e365a1fd2f50868",
     "grade": true,
     "grade_id": "cell-a7bf24f74901d418",
     "locked": false,
     "points": 3,
     "schema_version": 3,
     "solution": true
    }
   },
   "source": [
    "**`I find that in spring the relationship between temperature and number of people rented bike is positive, but in full it is hard to find a relationship between them. And in spring there were more days with low temperature, compared with the everyday temperature in fall. And the number of average bike renters in fall seems to be larger than that in spring.\n",
    "So my advice is that as the increase of the temperature, the company can launch more and more bikes, till the temperature reachs about 0.6 or 0.5 (in normalized degrees Celsius).`**"
   ]
  },
  {
   "cell_type": "code",
   "execution_count": 140,
   "metadata": {
    "deletable": false,
    "editable": false,
    "nbgrader": {
     "cell_type": "code",
     "checksum": "f59f4a97d3b1b064052c82580b2863cf",
     "grade": false,
     "grade_id": "cell-9803e3109f9a4e8b",
     "locked": true,
     "schema_version": 3,
     "solution": false,
     "task": false
    }
   },
   "outputs": [],
   "source": [
    "source(\"cleanup.R\")"
   ]
  }
 ],
 "metadata": {
  "kernelspec": {
   "display_name": "R",
   "language": "R",
   "name": "ir"
  },
  "language_info": {
   "codemirror_mode": "r",
   "file_extension": ".r",
   "mimetype": "text/x-r-source",
   "name": "R",
   "pygments_lexer": "r",
   "version": "4.0.0"
  }
 },
 "nbformat": 4,
 "nbformat_minor": 4
}
